{
 "cells": [
  {
   "cell_type": "code",
   "execution_count": 1,
   "id": "1245a80f-654d-4161-bfe0-32ec565e7b21",
   "metadata": {},
   "outputs": [
    {
     "data": {
      "application/vnd.jupyter.widget-view+json": {
       "model_id": "eb9708b05630465ca66d15e93291126c",
       "version_major": 2,
       "version_minor": 0
      },
      "text/plain": []
     },
     "metadata": {},
     "output_type": "display_data"
    }
   ],
   "source": [
    "import molsysmt as msm"
   ]
  },
  {
   "cell_type": "code",
   "execution_count": 2,
   "id": "5031b4ff-7a95-4372-82d7-088812695bfd",
   "metadata": {},
   "outputs": [],
   "source": [
    "molsys = './popc/conf1/popc_1.crd'"
   ]
  },
  {
   "cell_type": "code",
   "execution_count": 3,
   "id": "5a738df7-68c9-41d9-961e-c4f5c1797bda",
   "metadata": {},
   "outputs": [
    {
     "ename": "ArgumentError",
     "evalue": "Error in molsysmt.basic.is_a_molecular_system.is_a_molecular_system due to the items argument with value ./popc/conf1/popc_1.crd.Check  for more information. If you still need help, open a new issue in https://github.com/uibcdf/MolSysMT/issues.",
     "output_type": "error",
     "traceback": [
      "\u001b[0;31m---------------------------------------------------------------------------\u001b[0m",
      "\u001b[0;31mArgumentError\u001b[0m                             Traceback (most recent call last)",
      "Cell \u001b[0;32mIn[3], line 1\u001b[0m\n\u001b[0;32m----> 1\u001b[0m molsys \u001b[38;5;241m=\u001b[39m \u001b[43mmsm\u001b[49m\u001b[38;5;241;43m.\u001b[39;49m\u001b[43mconvert\u001b[49m\u001b[43m(\u001b[49m\u001b[43mmolsys\u001b[49m\u001b[43m)\u001b[49m\n",
      "File \u001b[0;32m~/Myopt/miniconda3/envs/OpenMembrane@dprada_3.9/lib/python3.9/site-packages/molsysmt/_private/digestion/digest.py:105\u001b[0m, in \u001b[0;36mdigest.<locals>.digestor.<locals>.wrapper\u001b[0;34m(*args, **kwargs)\u001b[0m\n\u001b[1;32m    102\u001b[0m     \u001b[38;5;28;01mpass\u001b[39;00m\n\u001b[1;32m    104\u001b[0m \u001b[38;5;28;01mfor\u001b[39;00m arg_name \u001b[38;5;129;01min\u001b[39;00m all_args:\n\u001b[0;32m--> 105\u001b[0m     \u001b[43mgut\u001b[49m\u001b[43m(\u001b[49m\u001b[43marg_name\u001b[49m\u001b[43m)\u001b[49m\n\u001b[1;32m    107\u001b[0m \u001b[38;5;28;01mfor\u001b[39;00m arg_name \u001b[38;5;129;01min\u001b[39;00m not_digested_args:\n\u001b[1;32m    108\u001b[0m     \u001b[38;5;28;01mif\u001b[39;00m arg_name \u001b[38;5;129;01mnot\u001b[39;00m \u001b[38;5;129;01min\u001b[39;00m [\u001b[38;5;124m'\u001b[39m\u001b[38;5;124mself\u001b[39m\u001b[38;5;124m'\u001b[39m]:\n",
      "File \u001b[0;32m~/Myopt/miniconda3/envs/OpenMembrane@dprada_3.9/lib/python3.9/site-packages/molsysmt/_private/digestion/digest.py:97\u001b[0m, in \u001b[0;36mdigest.<locals>.digestor.<locals>.wrapper.<locals>.gut\u001b[0;34m(arg_name)\u001b[0m\n\u001b[1;32m     95\u001b[0m         \u001b[38;5;28;01melse\u001b[39;00m:\n\u001b[1;32m     96\u001b[0m             parameters_dict[parameter] \u001b[38;5;241m=\u001b[39m \u001b[38;5;28;01mNone\u001b[39;00m\n\u001b[0;32m---> 97\u001b[0m     digested_args[arg_name] \u001b[38;5;241m=\u001b[39m \u001b[43mdigestion_functions\u001b[49m\u001b[43m[\u001b[49m\u001b[43marg_name\u001b[49m\u001b[43m]\u001b[49m\u001b[43m(\u001b[49m\u001b[43mall_args\u001b[49m\u001b[43m[\u001b[49m\u001b[43marg_name\u001b[49m\u001b[43m]\u001b[49m\u001b[43m,\u001b[49m\n\u001b[1;32m     98\u001b[0m \u001b[43m                                                  \u001b[49m\u001b[43mcaller\u001b[49m\u001b[38;5;241;43m=\u001b[39;49m\u001b[43mcaller\u001b[49m\u001b[43m,\u001b[49m\n\u001b[1;32m     99\u001b[0m \u001b[43m                                                  \u001b[49m\u001b[38;5;241;43m*\u001b[39;49m\u001b[38;5;241;43m*\u001b[39;49m\u001b[43mparameters_dict\u001b[49m\u001b[43m)\u001b[49m\n\u001b[1;32m    100\u001b[0m \u001b[38;5;28;01melse\u001b[39;00m:\n\u001b[1;32m    101\u001b[0m     not_digested_args[arg_name] \u001b[38;5;241m=\u001b[39m all_args[arg_name]\n",
      "File \u001b[0;32m~/Myopt/miniconda3/envs/OpenMembrane@dprada_3.9/lib/python3.9/site-packages/molsysmt/_private/digestion/argument/molecular_system.py:31\u001b[0m, in \u001b[0;36mdigest_molecular_system\u001b[0;34m(molecular_system, caller)\u001b[0m\n\u001b[1;32m     28\u001b[0m     \u001b[38;5;28;01melif\u001b[39;00m are_multiple_molecular_systems(molecular_system):\n\u001b[1;32m     29\u001b[0m         \u001b[38;5;28;01mreturn\u001b[39;00m molecular_system\n\u001b[0;32m---> 31\u001b[0m \u001b[38;5;28;01mif\u001b[39;00m \u001b[43mis_a_molecular_system\u001b[49m\u001b[43m(\u001b[49m\u001b[43mmolecular_system\u001b[49m\u001b[43m)\u001b[49m:\n\u001b[1;32m     32\u001b[0m     \u001b[38;5;28;01mreturn\u001b[39;00m molecular_system\n\u001b[1;32m     34\u001b[0m \u001b[38;5;28;01mraise\u001b[39;00m ArgumentError(\u001b[38;5;124m'\u001b[39m\u001b[38;5;124mmolecular_system\u001b[39m\u001b[38;5;124m'\u001b[39m, value\u001b[38;5;241m=\u001b[39mmolecular_system, caller\u001b[38;5;241m=\u001b[39mcaller, message\u001b[38;5;241m=\u001b[39m\u001b[38;5;28;01mNone\u001b[39;00m)\n",
      "File \u001b[0;32m~/Myopt/miniconda3/envs/OpenMembrane@dprada_3.9/lib/python3.9/site-packages/molsysmt/_private/digestion/digest.py:105\u001b[0m, in \u001b[0;36mdigest.<locals>.digestor.<locals>.wrapper\u001b[0;34m(*args, **kwargs)\u001b[0m\n\u001b[1;32m    102\u001b[0m     \u001b[38;5;28;01mpass\u001b[39;00m\n\u001b[1;32m    104\u001b[0m \u001b[38;5;28;01mfor\u001b[39;00m arg_name \u001b[38;5;129;01min\u001b[39;00m all_args:\n\u001b[0;32m--> 105\u001b[0m     \u001b[43mgut\u001b[49m\u001b[43m(\u001b[49m\u001b[43marg_name\u001b[49m\u001b[43m)\u001b[49m\n\u001b[1;32m    107\u001b[0m \u001b[38;5;28;01mfor\u001b[39;00m arg_name \u001b[38;5;129;01min\u001b[39;00m not_digested_args:\n\u001b[1;32m    108\u001b[0m     \u001b[38;5;28;01mif\u001b[39;00m arg_name \u001b[38;5;129;01mnot\u001b[39;00m \u001b[38;5;129;01min\u001b[39;00m [\u001b[38;5;124m'\u001b[39m\u001b[38;5;124mself\u001b[39m\u001b[38;5;124m'\u001b[39m]:\n",
      "File \u001b[0;32m~/Myopt/miniconda3/envs/OpenMembrane@dprada_3.9/lib/python3.9/site-packages/molsysmt/_private/digestion/digest.py:97\u001b[0m, in \u001b[0;36mdigest.<locals>.digestor.<locals>.wrapper.<locals>.gut\u001b[0;34m(arg_name)\u001b[0m\n\u001b[1;32m     95\u001b[0m         \u001b[38;5;28;01melse\u001b[39;00m:\n\u001b[1;32m     96\u001b[0m             parameters_dict[parameter] \u001b[38;5;241m=\u001b[39m \u001b[38;5;28;01mNone\u001b[39;00m\n\u001b[0;32m---> 97\u001b[0m     digested_args[arg_name] \u001b[38;5;241m=\u001b[39m \u001b[43mdigestion_functions\u001b[49m\u001b[43m[\u001b[49m\u001b[43marg_name\u001b[49m\u001b[43m]\u001b[49m\u001b[43m(\u001b[49m\u001b[43mall_args\u001b[49m\u001b[43m[\u001b[49m\u001b[43marg_name\u001b[49m\u001b[43m]\u001b[49m\u001b[43m,\u001b[49m\n\u001b[1;32m     98\u001b[0m \u001b[43m                                                  \u001b[49m\u001b[43mcaller\u001b[49m\u001b[38;5;241;43m=\u001b[39;49m\u001b[43mcaller\u001b[49m\u001b[43m,\u001b[49m\n\u001b[1;32m     99\u001b[0m \u001b[43m                                                  \u001b[49m\u001b[38;5;241;43m*\u001b[39;49m\u001b[38;5;241;43m*\u001b[39;49m\u001b[43mparameters_dict\u001b[49m\u001b[43m)\u001b[49m\n\u001b[1;32m    100\u001b[0m \u001b[38;5;28;01melse\u001b[39;00m:\n\u001b[1;32m    101\u001b[0m     not_digested_args[arg_name] \u001b[38;5;241m=\u001b[39m all_args[arg_name]\n",
      "File \u001b[0;32m~/Myopt/miniconda3/envs/OpenMembrane@dprada_3.9/lib/python3.9/site-packages/molsysmt/_private/digestion/argument/items.py:33\u001b[0m, in \u001b[0;36mdigest_items\u001b[0;34m(items, forms, caller)\u001b[0m\n\u001b[1;32m     30\u001b[0m                 \u001b[38;5;28;01mraise\u001b[39;00m ArgumentError(\u001b[38;5;124m'\u001b[39m\u001b[38;5;124mitem\u001b[39m\u001b[38;5;124m'\u001b[39m, value\u001b[38;5;241m=\u001b[39mitem, caller\u001b[38;5;241m=\u001b[39mcaller, message\u001b[38;5;241m=\u001b[39m\u001b[38;5;28;01mNone\u001b[39;00m)\n\u001b[1;32m     31\u001b[0m     \u001b[38;5;28;01mreturn\u001b[39;00m aux_items\n\u001b[0;32m---> 33\u001b[0m \u001b[38;5;28;01mraise\u001b[39;00m ArgumentError(\u001b[38;5;124m'\u001b[39m\u001b[38;5;124mitems\u001b[39m\u001b[38;5;124m'\u001b[39m, value\u001b[38;5;241m=\u001b[39mitems, caller\u001b[38;5;241m=\u001b[39mcaller, message\u001b[38;5;241m=\u001b[39m\u001b[38;5;28;01mNone\u001b[39;00m)\n",
      "\u001b[0;31mArgumentError\u001b[0m: Error in molsysmt.basic.is_a_molecular_system.is_a_molecular_system due to the items argument with value ./popc/conf1/popc_1.crd.Check  for more information. If you still need help, open a new issue in https://github.com/uibcdf/MolSysMT/issues."
     ]
    }
   ],
   "source": [
    "molsys = msm.convert(molsys)"
   ]
  },
  {
   "cell_type": "code",
   "execution_count": null,
   "id": "6e115123-ee63-4b5c-811c-30e682486462",
   "metadata": {},
   "outputs": [],
   "source": []
  }
 ],
 "metadata": {
  "kernelspec": {
   "display_name": "Python 3 (ipykernel)",
   "language": "python",
   "name": "python3"
  },
  "language_info": {
   "codemirror_mode": {
    "name": "ipython",
    "version": 3
   },
   "file_extension": ".py",
   "mimetype": "text/x-python",
   "name": "python",
   "nbconvert_exporter": "python",
   "pygments_lexer": "ipython3",
   "version": "3.10.12"
  }
 },
 "nbformat": 4,
 "nbformat_minor": 5
}
