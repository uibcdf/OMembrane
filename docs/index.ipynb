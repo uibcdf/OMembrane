{
 "cells": [
  {
   "cell_type": "code",
   "execution_count": 1,
   "id": "8bbe1b3d-3a64-4d74-9d3a-5a6d2bef1dad",
   "metadata": {
    "tags": [
     "remove-input"
    ]
   },
   "outputs": [],
   "source": [
    "# This cell is removed with the tag: \"remove-input\"\n",
    "# As such, it will not be shown in documentation\n",
    "\n",
    "nglview_static_dir = '_static/nglview/'"
   ]
  },
  {
   "cell_type": "markdown",
   "id": "7157b65b-a16f-498e-afa8-30e30cf25c70",
   "metadata": {},
   "source": [
    "# OpenMembrane\n",
    "\n",
    "```{image} https://anaconda.org/uibcdf/openmembrane/badges/license.svg\n",
    ":target: https://github.com/uibcdf/OpenMembrane/blob/main/License\n",
    "```\n",
    "\n",
    "OpenMembrane makes the work with membranes easy.\n",
    "\n",
    "## Install it\n",
    "\n",
    "```bash\n",
    "conda install -c uibcdf openmembrane\n",
    "```"
   ]
  },
  {
   "cell_type": "markdown",
   "id": "e8223bd1-f36f-4f8f-bca1-73a5ec53832d",
   "metadata": {},
   "source": [
    "## Use it"
   ]
  },
  {
   "cell_type": "code",
   "execution_count": 2,
   "id": "1eb78d05-51ee-4522-b153-8d61363b3436",
   "metadata": {
    "tags": []
   },
   "outputs": [
    {
     "data": {
      "application/vnd.jupyter.widget-view+json": {
       "model_id": "06abe045e3fe4aebb1a893ac70166d9f",
       "version_major": 2,
       "version_minor": 0
      },
      "text/plain": []
     },
     "metadata": {},
     "output_type": "display_data"
    },
    {
     "data": {
      "text/html": [
       "<style type=\"text/css\">\n",
       "</style>\n",
       "<table id=\"T_0cae7\">\n",
       "  <thead>\n",
       "    <tr>\n",
       "      <th id=\"T_0cae7_level0_col0\" class=\"col_heading level0 col0\" >form</th>\n",
       "      <th id=\"T_0cae7_level0_col1\" class=\"col_heading level0 col1\" >n_atoms</th>\n",
       "      <th id=\"T_0cae7_level0_col2\" class=\"col_heading level0 col2\" >n_groups</th>\n",
       "      <th id=\"T_0cae7_level0_col3\" class=\"col_heading level0 col3\" >n_components</th>\n",
       "      <th id=\"T_0cae7_level0_col4\" class=\"col_heading level0 col4\" >n_chains</th>\n",
       "      <th id=\"T_0cae7_level0_col5\" class=\"col_heading level0 col5\" >n_molecules</th>\n",
       "      <th id=\"T_0cae7_level0_col6\" class=\"col_heading level0 col6\" >n_entities</th>\n",
       "      <th id=\"T_0cae7_level0_col7\" class=\"col_heading level0 col7\" >n_waters</th>\n",
       "      <th id=\"T_0cae7_level0_col8\" class=\"col_heading level0 col8\" >n_lipids</th>\n",
       "      <th id=\"T_0cae7_level0_col9\" class=\"col_heading level0 col9\" >n_structures</th>\n",
       "    </tr>\n",
       "  </thead>\n",
       "  <tbody>\n",
       "    <tr>\n",
       "      <td id=\"T_0cae7_row0_col0\" class=\"data row0 col0\" >molsysmt.MolSys</td>\n",
       "      <td id=\"T_0cae7_row0_col1\" class=\"data row0 col1\" >78974</td>\n",
       "      <td id=\"T_0cae7_row0_col2\" class=\"data row0 col2\" >13532</td>\n",
       "      <td id=\"T_0cae7_row0_col3\" class=\"data row0 col3\" >13532</td>\n",
       "      <td id=\"T_0cae7_row0_col4\" class=\"data row0 col4\" >3</td>\n",
       "      <td id=\"T_0cae7_row0_col5\" class=\"data row0 col5\" >13532</td>\n",
       "      <td id=\"T_0cae7_row0_col6\" class=\"data row0 col6\" >3</td>\n",
       "      <td id=\"T_0cae7_row0_col7\" class=\"data row0 col7\" >13170</td>\n",
       "      <td id=\"T_0cae7_row0_col8\" class=\"data row0 col8\" >294</td>\n",
       "      <td id=\"T_0cae7_row0_col9\" class=\"data row0 col9\" >50</td>\n",
       "    </tr>\n",
       "  </tbody>\n",
       "</table>\n"
      ],
      "text/plain": [
       "<pandas.io.formats.style.Styler at 0x7f6b6a465f70>"
      ]
     },
     "execution_count": 2,
     "metadata": {},
     "output_type": "execute_result"
    }
   ],
   "source": [
    "import openmembrane as omem\n",
    "import molsysmt as msm\n",
    "\n",
    "file_msmpk = omem.demo['POPC']['POPC.msmpk']\n",
    "POPC_membrane = msm.convert(file_msmpk)\n",
    "\n",
    "msm.info(POPC_membrane)"
   ]
  },
  {
   "cell_type": "code",
   "execution_count": 6,
   "id": "e2cb2fce-3436-4cc5-913b-c84576c3d0cb",
   "metadata": {
    "tags": []
   },
   "outputs": [],
   "source": [
    "bins_edges, density = omem.analysis.get_lineal_density(POPC_membrane, selection='atom_name==\"P\"', range=[0.0,8.0], bins=50)"
   ]
  },
  {
   "cell_type": "code",
   "execution_count": 8,
   "id": "8cc85c96-9e57-47ee-ac4f-94d87ddfd7aa",
   "metadata": {
    "tags": []
   },
   "outputs": [
    {
     "data": {
      "image/png": "[encoded data removed]",
      "text/plain": [
       "<Figure size 640x480 with 1 Axes>"
      ]
     },
     "metadata": {},
     "output_type": "display_data"
    }
   ],
   "source": [
    "from matplotlib import pyplot as plt\n",
    "plt.plot(density, (bins_edges[1:]+bins_edges[:-1])/2.0)\n",
    "plt.xlabel(\"Phosphorus Density [1/nm]\")\n",
    "plt.ylabel(\"Axis Z [nm]\")\n",
    "plt.show()"
   ]
  },
  {
   "cell_type": "markdown",
   "id": "f03f053a-b35a-4364-b67d-7b35272971a6",
   "metadata": {},
   "source": [
    "## Citation\n",
    "\n",
    "Coming soon..."
   ]
  },
  {
   "cell_type": "markdown",
   "id": "7b9e7ad8-ebdb-48e2-8a96-54a2d0c40788",
   "metadata": {},
   "source": [
    "```{eval-rst}\n",
    ".. toctree::\n",
    "   :name: about\n",
    "   :caption: About\n",
    "   :maxdepth: 2\n",
    "   :hidden:\n",
    "\n",
    "   contents/about/what.md\n",
    "   contents/about/installation.md\n",
    "   contents/about/showcase/index.md\n",
    "   contents/about/citation.md\n",
    "\n",
    ".. toctree::\n",
    "   :name: user_guide\n",
    "   :caption: User Guide\n",
    "   :maxdepth: 2\n",
    "   :hidden:\n",
    "\n",
    "   contents/user/intro/index.md\n",
    "   contents/user/build/index.md\n",
    "   contents/user/analysis/index.md\n",
    "   contents/user/permeability/index.md\n",
    "\n",
    ".. toctree::\n",
    "   :name: developer_guide\n",
    "   :caption: Developer Guide\n",
    "   :maxdepth: 2\n",
    "   :hidden:\n",
    "\n",
    "   contents/developer/index.md\n",
    "   \n",
    ".. toctree::\n",
    "   :name: api_doc\n",
    "   :caption: API Documentation\n",
    "   :maxdepth: 2\n",
    "   :hidden:\n",
    "\n",
    "   api/users/api_users.rst\n",
    "   api/developers/api_developers.rst\n",
    "```"
   ]
  }
 ],
 "metadata": {
  "kernelspec": {
   "display_name": "Python 3 (ipykernel)",
   "language": "python",
   "name": "python3"
  },
  "language_info": {
   "codemirror_mode": {
    "name": "ipython",
    "version": 3
   },
   "file_extension": ".py",
   "mimetype": "text/x-python",
   "name": "python",
   "nbconvert_exporter": "python",
   "pygments_lexer": "ipython3",
   "version": "3.9.16"
  }
 },
 "nbformat": 4,
 "nbformat_minor": 5
}
