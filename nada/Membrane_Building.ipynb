{
 "cells": [
  {
   "cell_type": "markdown",
   "metadata": {},
   "source": [
    "# Building a membrane"
   ]
  },
  {
   "cell_type": "markdown",
   "metadata": {},
   "source": [
    "## Lipid bilayer"
   ]
  },
  {
   "cell_type": "markdown",
   "metadata": {},
   "source": [
    "## Lipid models\n",
    "\n",
    "- Berger:   \n",
    "Berger, O., Edholm, O. and Jähnig, F., 1997. Molecular dynamics simulations of a fluid bilayer of dipalmitoylphosphatidylcholine at full hydration, constant pressure, and constant temperature. Biophysical journal, 72(5), pp.2002-2013.\n",
    "\n",
    "- Gromos43A1-S3:   \n",
    "Chiu, S.W., Pandit, S.A., Scott, H.L. and Jakobsson, E., 2009. An improved united atom force field for simulation of mixed lipid bilayers. The Journal of Physical Chemistry B, 113(9), pp.2748-2763.\n",
    "\n",
    "- Gromos53A6:    \n",
    "Kukol, A., 2009. Lipid models for united-atom molecular dynamics simulations of proteins. Journal of Chemical Theory and Computation, 5(3), pp.615-626.\n",
    "\n",
    "- Gromos53A7:    \n",
    "Poger, D., Van Gunsteren, W.F. and Mark, A.E., 2010. A new force field for simulating phosphatidylcholine bilayers. Journal of computational chemistry, 31(6), pp.1117-1125.\n",
    "\n",
    "- CHARMM36:    \n",
    "Klauda, J.B., Venable, R.M., Freites, J.A., O’Connor, J.W., Tobias, D.J., Mondragon-Ramirez, C., Vorobyov, I., MacKerell Jr, A.D. and Pastor, R.W., 2010. Update of the CHARMM all-atom additive force field for lipids: validation on six lipid types. The journal of physical chemistry B, 114(23), pp.7830-7843.\n",
    "\n",
    "- OPLS-UA:    \n",
    "Ulmschneider, J.P. and Ulmschneider, M.B., 2009. United atom lipid parameters for combination with the optimized potentials for liquid simulations all-atom force field. Journal of chemical theory and computation, 5(7), pp.1803-1813.\n",
    "\n",
    "- Lipid11:    \n",
    "Skjevik, Å.A., Madej, B.D., Walker, R.C. and Teigen, K., 2012. LIPID11: a modular framework for lipid simulations using amber. The Journal of Physical Chemistry B, 116(36), pp.11124-11136.\n",
    "\n",
    "- Stockholm Lipids:    \n",
    "Jämbeck, J.P. and Lyubartsev, A.P., 2012. Derivation and systematic validation of a refined all-atom force field for phosphatidylcholine lipids. The journal of physical chemistry B, 116(10), pp.3164-3179.\n",
    "\n",
    "\n",
    "\n",
    "### They were parametrized with a what water model? why? is this a downside?"
   ]
  },
  {
   "cell_type": "code",
   "execution_count": null,
   "metadata": {},
   "outputs": [],
   "source": []
  }
 ],
 "metadata": {
  "kernelspec": {
   "display_name": "Python 3",
   "language": "python",
   "name": "python3"
  },
  "language_info": {
   "codemirror_mode": {
    "name": "ipython",
    "version": 3
   },
   "file_extension": ".py",
   "mimetype": "text/x-python",
   "name": "python",
   "nbconvert_exporter": "python",
   "pygments_lexer": "ipython3",
   "version": "3.7.8"
  }
 },
 "nbformat": 4,
 "nbformat_minor": 4
}
