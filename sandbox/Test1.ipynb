{
 "cells": [
  {
   "cell_type": "code",
   "execution_count": 1,
   "id": "9db74df2-db79-495b-89f5-a67a832d8bf2",
   "metadata": {
    "tags": []
   },
   "outputs": [
    {
     "data": {
      "application/vnd.jupyter.widget-view+json": {
       "model_id": "0552878f283b498c9009b9fdc1442702",
       "version_major": 2,
       "version_minor": 0
      },
      "text/plain": []
     },
     "metadata": {},
     "output_type": "display_data"
    }
   ],
   "source": [
    "import molsysmt as msm\n",
    "import openmembrane as omem\n",
    "from molsysmt import pyunitwizard as puw\n",
    "import numpy as np\n",
    "from matplotlib import pyplot as plt"
   ]
  },
  {
   "cell_type": "code",
   "execution_count": 2,
   "id": "53569453-74e8-4244-8cb3-b148f23a515b",
   "metadata": {
    "tags": []
   },
   "outputs": [],
   "source": [
    "molsys = msm.convert(omem.demo['POPC']['POPC.msmpk'])"
   ]
  },
  {
   "cell_type": "code",
   "execution_count": 7,
   "id": "6e175871-4f3f-4dc1-a1c3-c17f1e7f901d",
   "metadata": {
    "tags": []
   },
   "outputs": [],
   "source": [
    "bins_edges, density = omem.analysis.get_lineal_density(molsys, selection = 'atom_name == \"P\"', axis = [0,0,1],\n",
    "                                                       bins = 20, normalized=True)"
   ]
  },
  {
   "cell_type": "code",
   "execution_count": 12,
   "id": "30460a85-92fe-4557-a7ca-bed2693125a5",
   "metadata": {
    "tags": []
   },
   "outputs": [
    {
     "data": {
      "text/plain": [
       "6.982036113739014"
      ]
     },
     "execution_count": 12,
     "metadata": {},
     "output_type": "execute_result"
    }
   ],
   "source": [
    "bins_edges[20]"
   ]
  },
  {
   "cell_type": "code",
   "execution_count": 9,
   "id": "aa424e16-3ba1-4c18-8492-7cb8bd53d786",
   "metadata": {
    "tags": []
   },
   "outputs": [
    {
     "data": {
      "text/plain": [
       "array([0.00360544, 0.04727891, 0.19156463, 0.1947619 , 0.05965986,\n",
       "       0.00312925, 0.        , 0.        , 0.        , 0.        ,\n",
       "       0.        , 0.        , 0.        , 0.00020408, 0.00414966,\n",
       "       0.05666667, 0.18367347, 0.18986395, 0.06122449, 0.00421769])"
      ]
     },
     "execution_count": 9,
     "metadata": {},
     "output_type": "execute_result"
    }
   ],
   "source": [
    "density"
   ]
  },
  {
   "cell_type": "code",
   "execution_count": null,
   "id": "1d9f5d6b-964a-4c2c-bc54-fa8c753a1a7b",
   "metadata": {
    "tags": []
   },
   "outputs": [],
   "source": [
    "plt.plot((bins_edges[1:]+bins_edges[:-1])/2, density)"
   ]
  },
  {
   "cell_type": "code",
   "execution_count": null,
   "id": "0385dc6b-84b1-4cb3-ada4-ae95fdbf5b21",
   "metadata": {},
   "outputs": [],
   "source": []
  }
 ],
 "metadata": {
  "kernelspec": {
   "display_name": "Python 3 (ipykernel)",
   "language": "python",
   "name": "python3"
  },
  "language_info": {
   "codemirror_mode": {
    "name": "ipython",
    "version": 3
   },
   "file_extension": ".py",
   "mimetype": "text/x-python",
   "name": "python",
   "nbconvert_exporter": "python",
   "pygments_lexer": "ipython3",
   "version": "3.9.16"
  }
 },
 "nbformat": 4,
 "nbformat_minor": 5
}
