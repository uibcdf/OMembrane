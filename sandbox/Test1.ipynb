{
 "cells": [
  {
   "cell_type": "code",
   "execution_count": 1,
   "id": "9db74df2-db79-495b-89f5-a67a832d8bf2",
   "metadata": {
    "tags": []
   },
   "outputs": [
    {
     "data": {
      "application/vnd.jupyter.widget-view+json": {
       "model_id": "7ed8d009a57d45f1873e657dedc9a28d",
       "version_major": 2,
       "version_minor": 0
      },
      "text/plain": []
     },
     "metadata": {},
     "output_type": "display_data"
    }
   ],
   "source": [
    "import molsysmt as msm\n",
    "import omembrane as omem\n",
    "from molsysmt import pyunitwizard as puw\n",
    "from openmm import unit as u"
   ]
  },
  {
   "cell_type": "code",
   "execution_count": 2,
   "id": "dacfee90-eebc-4852-a0a6-cfbbfa135d25",
   "metadata": {},
   "outputs": [],
   "source": [
    "molsys = msm.convert('memb_popc_100_stage_3_3.h5msm')"
   ]
  },
  {
   "cell_type": "code",
   "execution_count": 3,
   "id": "a1a2f978-078b-4c75-ae08-970325e85a57",
   "metadata": {},
   "outputs": [],
   "source": [
    "C_atoms = msm.select(molsys, selection='atom_type==\"C\" and molecule_type==\"lipid\"')"
   ]
  },
  {
   "cell_type": "code",
   "execution_count": 4,
   "id": "7eb47f6d-0df8-490a-8f9c-7dfd71258fdf",
   "metadata": {},
   "outputs": [
    {
     "name": "stdout",
     "output_type": "stream",
     "text": [
      "[6.44772482 2.43921018 9.99910831]\n",
      "[[[7.88100433 0.         0.        ]\n",
      "  [0.         7.88100433 0.        ]\n",
      "  [0.         0.         9.86939526]]]\n"
     ]
    },
    {
     "ename": "IndexError",
     "evalue": "index 101 is out of bounds for axis 0 with size 100",
     "output_type": "error",
     "traceback": [
      "\u001b[0;31m---------------------------------------------------------------------------\u001b[0m",
      "\u001b[0;31mIndexError\u001b[0m                                Traceback (most recent call last)",
      "Cell \u001b[0;32mIn[4], line 1\u001b[0m\n\u001b[0;32m----> 1\u001b[0m bins_edges_C_init, density_C_init \u001b[38;5;241m=\u001b[39m \u001b[43momem\u001b[49m\u001b[38;5;241;43m.\u001b[39;49m\u001b[43manalysis\u001b[49m\u001b[38;5;241;43m.\u001b[39;49m\u001b[43mget_lineal_density\u001b[49m\u001b[43m(\u001b[49m\u001b[43mmolsys\u001b[49m\u001b[43m,\u001b[49m\u001b[43m \u001b[49m\u001b[43mselection\u001b[49m\u001b[43m \u001b[49m\u001b[38;5;241;43m=\u001b[39;49m\u001b[43m \u001b[49m\u001b[43mC_atoms\u001b[49m\u001b[43m,\u001b[49m\u001b[43m \u001b[49m\u001b[43maxis\u001b[49m\u001b[43m \u001b[49m\u001b[38;5;241;43m=\u001b[39;49m\u001b[43m \u001b[49m\u001b[43m[\u001b[49m\u001b[38;5;241;43m0\u001b[39;49m\u001b[43m,\u001b[49m\u001b[38;5;241;43m0\u001b[39;49m\u001b[43m,\u001b[49m\u001b[38;5;241;43m1\u001b[39;49m\u001b[43m]\u001b[49m\u001b[43m)\u001b[49m\n",
      "File \u001b[0;32m~/repos@uibcdf/OMembrane/omembrane/analysis/get_lineal_density.py:45\u001b[0m, in \u001b[0;36mget_lineal_density\u001b[0;34m(molecular_system, selection, structure_index, axis, bins, normalized, frequency, weight, syntax)\u001b[0m\n\u001b[1;32m     43\u001b[0m         \u001b[38;5;28mprint\u001b[39m(aux_coordinates)\n\u001b[1;32m     44\u001b[0m         \u001b[38;5;28mprint\u001b[39m(box)\n\u001b[0;32m---> 45\u001b[0m     \u001b[43mfreq\u001b[49m\u001b[43m[\u001b[49m\u001b[43mbin_index\u001b[49m\u001b[43m]\u001b[49m\u001b[38;5;241m+\u001b[39m\u001b[38;5;241m=\u001b[39m\u001b[38;5;241m1\u001b[39m\n\u001b[1;32m     47\u001b[0m \u001b[38;5;28;01mif\u001b[39;00m frequency:\n\u001b[1;32m     48\u001b[0m     density \u001b[38;5;241m=\u001b[39m freq\n",
      "\u001b[0;31mIndexError\u001b[0m: index 101 is out of bounds for axis 0 with size 100"
     ]
    }
   ],
   "source": [
    "bins_edges_C_init, density_C_init = omem.analysis.get_lineal_density(molsys, selection = C_atoms, axis = [0,0,1])"
   ]
  },
  {
   "cell_type": "code",
   "execution_count": null,
   "id": "274759ba-90f4-4462-adea-c94e09eca557",
   "metadata": {},
   "outputs": [],
   "source": [
    "aa = msm.get(molsys, box=True)"
   ]
  },
  {
   "cell_type": "code",
   "execution_count": null,
   "id": "a222e01b-9337-4454-85ae-f7a54055d1ea",
   "metadata": {},
   "outputs": [],
   "source": [
    "aa[0]"
   ]
  },
  {
   "cell_type": "code",
   "execution_count": null,
   "id": "32ddbed5-7b83-4ae1-a026-b0ff6acaceb4",
   "metadata": {},
   "outputs": [],
   "source": [
    "help(msm.pyunitwizard.get_value)"
   ]
  },
  {
   "cell_type": "code",
   "execution_count": 5,
   "id": "2272a800-fe84-4a4e-8f5f-10a5a619bcb0",
   "metadata": {},
   "outputs": [
    {
     "name": "stdout",
     "output_type": "stream",
     "text": [
      "Help on function convert in module pyunitwizard.main:\n",
      "\n",
      "convert(quantity_or_unit: Any, to_unit: Optional[str] = None, to_form: Optional[str] = None, parser: Optional[str] = None, to_type: Optional[str] = 'quantity') -> Union[~QuantityOrUnit, float, numpy.ndarray]\n",
      "    Converts a quantity or unit to a different unit and/or to a different\n",
      "    form and/or type. \n",
      "    \n",
      "    Parameters\n",
      "    ----------\n",
      "    to_unit : str, optional\n",
      "        The unit to convert to.\n",
      "    \n",
      "    to_form : {\"unyt\", \"pint\", \"openmm.unit\", \"string\"}, optional\n",
      "        The form to convert to.\n",
      "    \n",
      "    parser : {\"pint\", \"openmm.unit\"}, optional\n",
      "        The parser to use if a string is passed.\n",
      "    \n",
      "    to_type : {\"quantity\", \"unit\", \"value\"}, optional\n",
      "        The type to convert to.\n",
      "    \n",
      "    Returns\n",
      "    -------\n",
      "    QuantityOrUnit or ArrayLike or float\n",
      "        The converted quantity or unit. If to_type is passed the return value can\n",
      "        be a float or a numpy array.\n",
      "\n"
     ]
    }
   ],
   "source": [
    "help(msm.pyunitwizard.convert)"
   ]
  },
  {
   "cell_type": "code",
   "execution_count": null,
   "id": "21564f24-13c1-4567-8f30-ce108a0a67c6",
   "metadata": {},
   "outputs": [],
   "source": []
  }
 ],
 "metadata": {
  "kernelspec": {
   "display_name": "Python 3 (ipykernel)",
   "language": "python",
   "name": "python3"
  },
  "language_info": {
   "codemirror_mode": {
    "name": "ipython",
    "version": 3
   },
   "file_extension": ".py",
   "mimetype": "text/x-python",
   "name": "python",
   "nbconvert_exporter": "python",
   "pygments_lexer": "ipython3",
   "version": "3.11.11"
  }
 },
 "nbformat": 4,
 "nbformat_minor": 5
}
