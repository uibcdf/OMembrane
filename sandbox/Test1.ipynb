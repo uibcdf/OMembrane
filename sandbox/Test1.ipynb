{
 "cells": [
  {
   "cell_type": "code",
   "execution_count": 1,
   "id": "9db74df2-db79-495b-89f5-a67a832d8bf2",
   "metadata": {
    "tags": []
   },
   "outputs": [
    {
     "data": {
      "application/vnd.jupyter.widget-view+json": {
       "model_id": "ee5b265be8ca4c319a1fe2b3b00d1775",
       "version_major": 2,
       "version_minor": 0
      },
      "text/plain": []
     },
     "metadata": {},
     "output_type": "display_data"
    }
   ],
   "source": [
    "import molsysmt as msm\n",
    "import omembrane as omem\n",
    "from molsysmt import pyunitwizard as puw\n",
    "from openmm import unit as u\n",
    "from matplotlib import pyplot as plt"
   ]
  },
  {
   "cell_type": "code",
   "execution_count": 2,
   "id": "dacfee90-eebc-4852-a0a6-cfbbfa135d25",
   "metadata": {},
   "outputs": [],
   "source": [
    "molsys = msm.convert('memb_popc_100_stage_3_3.h5msm')"
   ]
  },
  {
   "cell_type": "code",
   "execution_count": 3,
   "id": "de51f06c-3afc-460f-952a-ca95636bc527",
   "metadata": {},
   "outputs": [],
   "source": [
    "box = msm.get(molsys, box=True)"
   ]
  },
  {
   "cell_type": "code",
   "execution_count": 5,
   "id": "bc053c65-35f2-486b-99ab-05b054db958b",
   "metadata": {},
   "outputs": [],
   "source": [
    "oo=box[0,2,2]/2"
   ]
  },
  {
   "cell_type": "code",
   "execution_count": 6,
   "id": "7eb47f6d-0df8-490a-8f9c-7dfd71258fdf",
   "metadata": {},
   "outputs": [
    {
     "ename": "IndexError",
     "evalue": "index 119 is out of bounds for axis 0 with size 100",
     "output_type": "error",
     "traceback": [
      "\u001b[0;31m---------------------------------------------------------------------------\u001b[0m",
      "\u001b[0;31mIndexError\u001b[0m                                Traceback (most recent call last)",
      "Cell \u001b[0;32mIn[6], line 1\u001b[0m\n\u001b[0;32m----> 1\u001b[0m bins_edges, density \u001b[38;5;241m=\u001b[39m \u001b[43momem\u001b[49m\u001b[38;5;241;43m.\u001b[39;49m\u001b[43manalysis\u001b[49m\u001b[38;5;241;43m.\u001b[39;49m\u001b[43mget_lineal_density_z\u001b[49m\u001b[43m(\u001b[49m\u001b[43mmolsys\u001b[49m\u001b[43m,\u001b[49m\u001b[43m \u001b[49m\u001b[43mselection\u001b[49m\u001b[43m \u001b[49m\u001b[38;5;241;43m=\u001b[39;49m\u001b[43m \u001b[49m\u001b[38;5;124;43m'\u001b[39;49m\u001b[38;5;124;43matom_type==\u001b[39;49m\u001b[38;5;124;43m\"\u001b[39;49m\u001b[38;5;124;43mC\u001b[39;49m\u001b[38;5;124;43m\"\u001b[39;49m\u001b[38;5;124;43m and molecule_type==\u001b[39;49m\u001b[38;5;124;43m\"\u001b[39;49m\u001b[38;5;124;43mlipid\u001b[39;49m\u001b[38;5;124;43m\"\u001b[39;49m\u001b[38;5;124;43m'\u001b[39;49m\u001b[43m,\u001b[49m\n\u001b[1;32m      2\u001b[0m \u001b[43m                                                         \u001b[49m\u001b[43mbox_z_origin\u001b[49m\u001b[38;5;241;43m=\u001b[39;49m\u001b[43moo\u001b[49m\u001b[43m)\u001b[49m\n",
      "File \u001b[0;32m~/repos@uibcdf/OMembrane/omembrane/analysis/get_lineal_density_z.py:56\u001b[0m, in \u001b[0;36mget_lineal_density_z\u001b[0;34m(molecular_system, selection, structure_index, bins, normalized, frequency, weights, box_z_origin, box_z_center, center_of_selection, center_coordinates, syntax)\u001b[0m\n\u001b[1;32m     54\u001b[0m     proj \u001b[38;5;241m=\u001b[39m aux_coordinates[\u001b[38;5;241m2\u001b[39m]\n\u001b[1;32m     55\u001b[0m     bin_index \u001b[38;5;241m=\u001b[39m \u001b[38;5;28mint\u001b[39m(np\u001b[38;5;241m.\u001b[39mfloor((proj \u001b[38;5;241m-\u001b[39m min_q)\u001b[38;5;241m/\u001b[39mbin_length))\n\u001b[0;32m---> 56\u001b[0m     \u001b[43mfreq\u001b[49m\u001b[43m[\u001b[49m\u001b[43mbin_index\u001b[49m\u001b[43m]\u001b[49m\u001b[38;5;241m+\u001b[39m\u001b[38;5;241m=\u001b[39m\u001b[38;5;241m1\u001b[39m\n\u001b[1;32m     58\u001b[0m \u001b[38;5;28;01mif\u001b[39;00m frequency:\n\u001b[1;32m     59\u001b[0m     density \u001b[38;5;241m=\u001b[39m freq\n",
      "\u001b[0;31mIndexError\u001b[0m: index 119 is out of bounds for axis 0 with size 100"
     ]
    }
   ],
   "source": [
    "bins_edges, density = omem.analysis.get_lineal_density_z(molsys, selection = 'atom_type==\"C\" and molecule_type==\"lipid\"',\n",
    "                                                         box_z_origin=oo)"
   ]
  },
  {
   "cell_type": "code",
   "execution_count": null,
   "id": "db26a4d7-848f-46ef-9576-84eafa0d43f8",
   "metadata": {},
   "outputs": [],
   "source": [
    "plt.rcParams[\"figure.figsize\"] = (6,4)\n",
    "plt.plot((bins_edges[1:]+bins_edges[:-1])/2, density)"
   ]
  },
  {
   "cell_type": "code",
   "execution_count": null,
   "id": "09a66af2-634e-4899-911a-d36b40684f6a",
   "metadata": {},
   "outputs": [],
   "source": []
  }
 ],
 "metadata": {
  "kernelspec": {
   "display_name": "Python 3 (ipykernel)",
   "language": "python",
   "name": "python3"
  },
  "language_info": {
   "codemirror_mode": {
    "name": "ipython",
    "version": 3
   },
   "file_extension": ".py",
   "mimetype": "text/x-python",
   "name": "python",
   "nbconvert_exporter": "python",
   "pygments_lexer": "ipython3",
   "version": "3.12.8"
  }
 },
 "nbformat": 4,
 "nbformat_minor": 5
}
