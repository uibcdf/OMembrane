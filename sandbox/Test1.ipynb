{
 "cells": [
  {
   "cell_type": "code",
   "execution_count": 1,
   "id": "9db74df2-db79-495b-89f5-a67a832d8bf2",
   "metadata": {
    "tags": []
   },
   "outputs": [
    {
     "data": {
      "application/vnd.jupyter.widget-view+json": {
       "model_id": "7c05614862564d37b58e557288f0a601",
       "version_major": 2,
       "version_minor": 0
      },
      "text/plain": []
     },
     "metadata": {},
     "output_type": "display_data"
    }
   ],
   "source": [
    "import molsysmt as msm\n",
    "import omembrane as omem\n",
    "from molsysmt import pyunitwizard as puw\n",
    "import numpy as np\n",
    "from matplotlib import pyplot as plt"
   ]
  },
  {
   "cell_type": "code",
   "execution_count": 2,
   "id": "951ec6ce-b382-4495-8a9d-a662dbbd111e",
   "metadata": {},
   "outputs": [],
   "source": [
    "membrane = msm.convert('membrane.msmpk')\n",
    "water_semibox_upper = msm.convert('water_up.msmpk')\n",
    "water_semibox_lower = msm.convert('water_low.msmpk')"
   ]
  },
  {
   "cell_type": "code",
   "execution_count": 3,
   "id": "f9dcebb0-5dcb-4826-bc68-53fc5f2ab5db",
   "metadata": {},
   "outputs": [
    {
     "name": "stdout",
     "output_type": "stream",
     "text": [
      "31596\n"
     ]
    }
   ],
   "source": [
    "molecular_system = msm.merge([membrane.structures, water_semibox_upper.structures])"
   ]
  },
  {
   "cell_type": "code",
   "execution_count": 6,
   "id": "5309ebfe-b460-427d-a26d-c5b1582d28b3",
   "metadata": {},
   "outputs": [
    {
     "data": {
      "text/plain": [
       "0"
      ]
     },
     "execution_count": 6,
     "metadata": {},
     "output_type": "execute_result"
    }
   ],
   "source": [
    "membrane.structures.n_atoms"
   ]
  },
  {
   "cell_type": "code",
   "execution_count": null,
   "id": "d8a952a1-cff8-4e21-ac2b-1b0dbdf4cacb",
   "metadata": {},
   "outputs": [],
   "source": [
    "msm.info(molecular_system)"
   ]
  },
  {
   "cell_type": "code",
   "execution_count": null,
   "id": "5cf3eb6a-7273-4807-b588-25f3d2cad11d",
   "metadata": {},
   "outputs": [],
   "source": [
    "coordinates = msm.get(molecular_system, coordinates=True)"
   ]
  },
  {
   "cell_type": "code",
   "execution_count": null,
   "id": "ef23513d-723a-4592-a6e4-bc9351515a82",
   "metadata": {},
   "outputs": [],
   "source": [
    "coordinates.shape"
   ]
  },
  {
   "cell_type": "code",
   "execution_count": null,
   "id": "930d76d2-0b6e-43e6-badd-d5c3e8577935",
   "metadata": {},
   "outputs": [],
   "source": [
    "membrane.structures.coordinates.shape"
   ]
  },
  {
   "cell_type": "code",
   "execution_count": null,
   "id": "39a48592-9cdc-4a97-996f-04c88fe0f2ec",
   "metadata": {},
   "outputs": [],
   "source": [
    "water_semibox_upper.structures.coordinates.shape"
   ]
  },
  {
   "cell_type": "code",
   "execution_count": null,
   "id": "d89f681c-878e-45b5-97bc-b0491e975c02",
   "metadata": {},
   "outputs": [],
   "source": []
  }
 ],
 "metadata": {
  "kernelspec": {
   "display_name": "Python 3 (ipykernel)",
   "language": "python",
   "name": "python3"
  },
  "language_info": {
   "codemirror_mode": {
    "name": "ipython",
    "version": 3
   },
   "file_extension": ".py",
   "mimetype": "text/x-python",
   "name": "python",
   "nbconvert_exporter": "python",
   "pygments_lexer": "ipython3",
   "version": "3.10.12"
  }
 },
 "nbformat": 4,
 "nbformat_minor": 5
}
