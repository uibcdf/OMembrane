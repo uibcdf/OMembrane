{
 "cells": [
  {
   "cell_type": "code",
   "execution_count": 1,
   "id": "9db74df2-db79-495b-89f5-a67a832d8bf2",
   "metadata": {
    "tags": []
   },
   "outputs": [
    {
     "data": {
      "application/vnd.jupyter.widget-view+json": {
       "model_id": "d0b973ebe5d340dd9fa6870b40ddbf23",
       "version_major": 2,
       "version_minor": 0
      },
      "text/plain": []
     },
     "metadata": {},
     "output_type": "display_data"
    }
   ],
   "source": [
    "import molsysmt as msm\n",
    "import omembrane as omem\n",
    "from molsysmt import pyunitwizard as puw\n",
    "import numpy as np\n",
    "from matplotlib import pyplot as plt"
   ]
  },
  {
   "cell_type": "code",
   "execution_count": 9,
   "id": "58e86f50-d6f5-47f3-ba02-edeb0970449d",
   "metadata": {},
   "outputs": [],
   "source": [
    "water_file = '../omembrane/data/water/spc216.gro'"
   ]
  },
  {
   "cell_type": "code",
   "execution_count": 10,
   "id": "dc70c7ee-b4e8-47e1-962c-68ceacd199d3",
   "metadata": {},
   "outputs": [],
   "source": [
    "water_tile = msm.convert(water_file)"
   ]
  },
  {
   "cell_type": "code",
   "execution_count": 12,
   "id": "6a4a295c-0907-4e96-b6a0-2790db776a07",
   "metadata": {},
   "outputs": [
    {
     "data": {
      "text/html": [
       "<style type=\"text/css\">\n",
       "</style>\n",
       "<table id=\"T_4bef7\">\n",
       "  <thead>\n",
       "    <tr>\n",
       "      <th id=\"T_4bef7_level0_col0\" class=\"col_heading level0 col0\" >form</th>\n",
       "      <th id=\"T_4bef7_level0_col1\" class=\"col_heading level0 col1\" >n_atoms</th>\n",
       "      <th id=\"T_4bef7_level0_col2\" class=\"col_heading level0 col2\" >n_groups</th>\n",
       "      <th id=\"T_4bef7_level0_col3\" class=\"col_heading level0 col3\" >n_components</th>\n",
       "      <th id=\"T_4bef7_level0_col4\" class=\"col_heading level0 col4\" >n_chains</th>\n",
       "      <th id=\"T_4bef7_level0_col5\" class=\"col_heading level0 col5\" >n_molecules</th>\n",
       "      <th id=\"T_4bef7_level0_col6\" class=\"col_heading level0 col6\" >n_entities</th>\n",
       "      <th id=\"T_4bef7_level0_col7\" class=\"col_heading level0 col7\" >n_waters</th>\n",
       "      <th id=\"T_4bef7_level0_col8\" class=\"col_heading level0 col8\" >n_structures</th>\n",
       "    </tr>\n",
       "  </thead>\n",
       "  <tbody>\n",
       "    <tr>\n",
       "      <td id=\"T_4bef7_row0_col0\" class=\"data row0 col0\" >molsysmt.MolSys</td>\n",
       "      <td id=\"T_4bef7_row0_col1\" class=\"data row0 col1\" >648</td>\n",
       "      <td id=\"T_4bef7_row0_col2\" class=\"data row0 col2\" >216</td>\n",
       "      <td id=\"T_4bef7_row0_col3\" class=\"data row0 col3\" >216</td>\n",
       "      <td id=\"T_4bef7_row0_col4\" class=\"data row0 col4\" >1</td>\n",
       "      <td id=\"T_4bef7_row0_col5\" class=\"data row0 col5\" >216</td>\n",
       "      <td id=\"T_4bef7_row0_col6\" class=\"data row0 col6\" >1</td>\n",
       "      <td id=\"T_4bef7_row0_col7\" class=\"data row0 col7\" >216</td>\n",
       "      <td id=\"T_4bef7_row0_col8\" class=\"data row0 col8\" >1</td>\n",
       "    </tr>\n",
       "  </tbody>\n",
       "</table>\n"
      ],
      "text/plain": [
       "<pandas.io.formats.style.Styler at 0x7f5386f21360>"
      ]
     },
     "execution_count": 12,
     "metadata": {},
     "output_type": "execute_result"
    }
   ],
   "source": [
    "msm.info(water_tile)"
   ]
  },
  {
   "cell_type": "code",
   "execution_count": 14,
   "id": "ff39192e-d223-4aba-9eb1-5569a3d3fc95",
   "metadata": {},
   "outputs": [
    {
     "data": {
      "application/vnd.jupyter.widget-view+json": {
       "model_id": "14b977899de54756b830dcf4fdef1944",
       "version_major": 2,
       "version_minor": 0
      },
      "text/plain": [
       "NGLWidget()"
      ]
     },
     "metadata": {},
     "output_type": "display_data"
    }
   ],
   "source": [
    "msm.view(water_tile, with_water_as='licorice')"
   ]
  },
  {
   "cell_type": "code",
   "execution_count": 32,
   "id": "3e539879-283b-4856-9827-969bcd56baa1",
   "metadata": {},
   "outputs": [],
   "source": [
    "box_tile = msm.get(water_tile, box=True)[0]"
   ]
  },
  {
   "cell_type": "code",
   "execution_count": 33,
   "id": "e583047b-bee9-4939-8a6c-a7262f4dfe27",
   "metadata": {},
   "outputs": [
    {
     "data": {
      "text/html": [
       "<table><tbody><tr><th>Magnitude</th><td style='text-align:left;'><pre>[[1.86206 0.0 0.0]<br> [0.0 1.86206 0.0]<br> [0.0 0.0 1.86206]]</pre></td></tr><tr><th>Units</th><td style='text-align:left;'>nanometer</td></tr></tbody></table>"
      ],
      "text/latex": [
       "$\\begin{pmatrix} &  & \\\\ \n",
       " &  & \\\\ \n",
       " &  & \\end{pmatrix}\\ \\mathrm{nanometer}$"
      ],
      "text/plain": [
       "array([[1.86206, 0.     , 0.     ],\n",
       "       [0.     , 1.86206, 0.     ],\n",
       "       [0.     , 0.     , 1.86206]]) <Unit('nanometer')>"
      ]
     },
     "execution_count": 33,
     "metadata": {},
     "output_type": "execute_result"
    }
   ],
   "source": [
    "box_tile"
   ]
  },
  {
   "cell_type": "code",
   "execution_count": 34,
   "id": "a97f9cbc-9628-4b18-8378-aee87e35ff17",
   "metadata": {},
   "outputs": [],
   "source": [
    "box = puw.quantity([[5.0, 0.0, 0.0], [0.0, 5.0, 0.0], [0.0, 0.0, 10.0]], 'nm')"
   ]
  },
  {
   "cell_type": "code",
   "execution_count": 35,
   "id": "876d3b7c-34e2-4402-a465-d240d6f68404",
   "metadata": {},
   "outputs": [
    {
     "data": {
      "text/html": [
       "<table><tbody><tr><th>Magnitude</th><td style='text-align:left;'><pre>[[5.0 0.0 0.0]<br> [0.0 5.0 0.0]<br> [0.0 0.0 10.0]]</pre></td></tr><tr><th>Units</th><td style='text-align:left;'>nanometer</td></tr></tbody></table>"
      ],
      "text/latex": [
       "$\\begin{pmatrix} &  & \\\\ \n",
       " &  & \\\\ \n",
       " &  & \\end{pmatrix}\\ \\mathrm{nanometer}$"
      ],
      "text/plain": [
       "array([[ 5.,  0.,  0.],\n",
       "       [ 0.,  5.,  0.],\n",
       "       [ 0.,  0., 10.]]) <Unit('nanometer')>"
      ]
     },
     "execution_count": 35,
     "metadata": {},
     "output_type": "execute_result"
    }
   ],
   "source": [
    "box"
   ]
  },
  {
   "cell_type": "code",
   "execution_count": 44,
   "id": "d961b39d-1cd6-4206-a823-171425cdeee0",
   "metadata": {},
   "outputs": [],
   "source": [
    "translations = []\n",
    "\n",
    "delta_x_tiles = box_tile[0,0]\n",
    "n_x_tiles = np.ceil(box[0,0]/delta_x_tiles)\n",
    "n_x_tiles = int(n_x_tiles)\n",
    "\n",
    "delta_y_tiles = box_tile[1,1]\n",
    "n_y_tiles = np.ceil(box[1,1]/delta_y_tiles)\n",
    "n_y_tiles = int(n_y_tiles)\n",
    "\n",
    "delta_z_tiles = box_tile[2,2]\n",
    "n_z_tiles = np.ceil(box[2,2]/delta_z_tiles)\n",
    "n_z_tiles = int(n_z_tiles)"
   ]
  },
  {
   "cell_type": "code",
   "execution_count": 49,
   "id": "a68c875c-1150-4d25-a245-049c2273e0b6",
   "metadata": {},
   "outputs": [],
   "source": [
    "tiles = []\n",
    "\n",
    "for ii in range(n_x_tiles):\n",
    "    for jj in range(n_y_tiles):\n",
    "        for kk in range(n_z_tiles):\n",
    "\n",
    "            translation = puw.concatenate([ii*delta_x_tiles, jj*delta_y_tiles, kk*delta_y_tiles])\n",
    "            tile = msm.structure.translate(water_tile, translation=translation)\n",
    "            tiles.append(tile)\n",
    "\n",
    "system = msm.merge(tiles)"
   ]
  },
  {
   "cell_type": "code",
   "execution_count": 50,
   "id": "5a3fe00c-d75e-4f36-a4a9-d9bffd4234c5",
   "metadata": {},
   "outputs": [
    {
     "data": {
      "text/html": [
       "<style type=\"text/css\">\n",
       "</style>\n",
       "<table id=\"T_ff9a1\">\n",
       "  <thead>\n",
       "    <tr>\n",
       "      <th id=\"T_ff9a1_level0_col0\" class=\"col_heading level0 col0\" >form</th>\n",
       "      <th id=\"T_ff9a1_level0_col1\" class=\"col_heading level0 col1\" >n_atoms</th>\n",
       "      <th id=\"T_ff9a1_level0_col2\" class=\"col_heading level0 col2\" >n_groups</th>\n",
       "      <th id=\"T_ff9a1_level0_col3\" class=\"col_heading level0 col3\" >n_components</th>\n",
       "      <th id=\"T_ff9a1_level0_col4\" class=\"col_heading level0 col4\" >n_chains</th>\n",
       "      <th id=\"T_ff9a1_level0_col5\" class=\"col_heading level0 col5\" >n_molecules</th>\n",
       "      <th id=\"T_ff9a1_level0_col6\" class=\"col_heading level0 col6\" >n_entities</th>\n",
       "      <th id=\"T_ff9a1_level0_col7\" class=\"col_heading level0 col7\" >n_waters</th>\n",
       "      <th id=\"T_ff9a1_level0_col8\" class=\"col_heading level0 col8\" >n_structures</th>\n",
       "    </tr>\n",
       "  </thead>\n",
       "  <tbody>\n",
       "    <tr>\n",
       "      <td id=\"T_ff9a1_row0_col0\" class=\"data row0 col0\" >molsysmt.MolSys</td>\n",
       "      <td id=\"T_ff9a1_row0_col1\" class=\"data row0 col1\" >34992</td>\n",
       "      <td id=\"T_ff9a1_row0_col2\" class=\"data row0 col2\" >11664</td>\n",
       "      <td id=\"T_ff9a1_row0_col3\" class=\"data row0 col3\" >11664</td>\n",
       "      <td id=\"T_ff9a1_row0_col4\" class=\"data row0 col4\" >54</td>\n",
       "      <td id=\"T_ff9a1_row0_col5\" class=\"data row0 col5\" >11664</td>\n",
       "      <td id=\"T_ff9a1_row0_col6\" class=\"data row0 col6\" >1</td>\n",
       "      <td id=\"T_ff9a1_row0_col7\" class=\"data row0 col7\" >11664</td>\n",
       "      <td id=\"T_ff9a1_row0_col8\" class=\"data row0 col8\" >1</td>\n",
       "    </tr>\n",
       "  </tbody>\n",
       "</table>\n"
      ],
      "text/plain": [
       "<pandas.io.formats.style.Styler at 0x7f53840c36d0>"
      ]
     },
     "execution_count": 50,
     "metadata": {},
     "output_type": "execute_result"
    }
   ],
   "source": [
    "msm.info(system)"
   ]
  },
  {
   "cell_type": "code",
   "execution_count": 52,
   "id": "171c4d93-fea9-496d-bbdc-514367b1b4ab",
   "metadata": {},
   "outputs": [
    {
     "data": {
      "application/vnd.jupyter.widget-view+json": {
       "model_id": "4a313e3006384639ac6f3dc1ccfdfec1",
       "version_major": 2,
       "version_minor": 0
      },
      "text/plain": [
       "NGLWidget()"
      ]
     },
     "metadata": {},
     "output_type": "display_data"
    }
   ],
   "source": [
    "msm.view(system, with_water_as='licorice')"
   ]
  },
  {
   "cell_type": "code",
   "execution_count": null,
   "id": "27fb3d40-e9eb-4de8-9233-56bda985c55d",
   "metadata": {},
   "outputs": [],
   "source": []
  }
 ],
 "metadata": {
  "kernelspec": {
   "display_name": "Python 3 (ipykernel)",
   "language": "python",
   "name": "python3"
  },
  "language_info": {
   "codemirror_mode": {
    "name": "ipython",
    "version": 3
   },
   "file_extension": ".py",
   "mimetype": "text/x-python",
   "name": "python",
   "nbconvert_exporter": "python",
   "pygments_lexer": "ipython3",
   "version": "3.10.12"
  }
 },
 "nbformat": 4,
 "nbformat_minor": 5
}
