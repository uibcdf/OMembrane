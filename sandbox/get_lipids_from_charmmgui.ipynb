{
 "cells": [
  {
   "cell_type": "markdown",
   "id": "14073b30-99c4-43ac-9731-6e147baa99ce",
   "metadata": {},
   "source": [
    "# Make lipids from Charmm Gui"
   ]
  },
  {
   "cell_type": "code",
   "execution_count": 1,
   "id": "10f20195-e2e9-4e9e-9e3d-35f139674863",
   "metadata": {},
   "outputs": [
    {
     "data": {
      "application/vnd.jupyter.widget-view+json": {
       "model_id": "efadff90df0a4a3ab77204558157e315",
       "version_major": 2,
       "version_minor": 0
      },
      "text/plain": []
     },
     "metadata": {},
     "output_type": "display_data"
    }
   ],
   "source": [
    "import molsysmt as msm\n",
    "import omembrane as omem\n",
    "from parmed.charmm import CharmmParameterSet\n",
    "import requests\n",
    "import tarfile\n",
    "from tqdm import tqdm\n",
    "import os\n",
    "import shutil"
   ]
  },
  {
   "cell_type": "code",
   "execution_count": 2,
   "id": "0d5cd226-c908-47ea-a249-5211565e584e",
   "metadata": {},
   "outputs": [],
   "source": [
    "lipids_db = '../omembrane/data/charmmgui_db_lipids.inp'\n",
    "\n",
    "lipids = {}\n",
    "\n",
    "with open(lipids_db, 'r') as fff:\n",
    "    for line in fff:\n",
    "        fields = (line.strip().split(' '))\n",
    "        if fields[0]!='>' and fields[0]!='':\n",
    "            if len(fields)==1:\n",
    "                lipid_name = fields[0]\n",
    "                lipid_code = fields[0].lower()\n",
    "            elif len(fields)==2:\n",
    "                lipid_name = fields[0]\n",
    "                lipid_code = fields[1]\n",
    "            elif len(fields)>=2:\n",
    "                lipid_name = ' '.join(fields[:-1])\n",
    "                lipid_code = fields[-1]\n",
    "            lipids[lipid_name]=lipid_code"
   ]
  },
  {
   "cell_type": "code",
   "execution_count": 3,
   "id": "aae38870-bbde-4970-9fc0-cecb6a2a7012",
   "metadata": {},
   "outputs": [],
   "source": [
    "toppar_dir = '../omembrane/data/charmm_topology/toppar/'\n",
    "src_web_prefix = 'https://www.charmm-gui.org/archive/lipid/'\n",
    "src_web_suffix = '.tar.gz'\n",
    "src_web_prefix = 'https://www.charmm-gui.org/archive/cslm/'\n",
    "src_web_suffix = '.pdb'"
   ]
  },
  {
   "cell_type": "code",
   "execution_count": 4,
   "id": "fc5e9ff2-db7e-40e3-8c28-5c491e0aab16",
   "metadata": {},
   "outputs": [],
   "source": [
    "toppar_files = [toppar_dir+'top_all36_lipid.rtf',\n",
    "                toppar_dir+'par_all36_lipid.prm']\n",
    "\n",
    "params = CharmmParameterSet(*toppar_files)"
   ]
  },
  {
   "cell_type": "code",
   "execution_count": 5,
   "id": "be85c4ca-00c7-45e0-af4b-cb37cbcd1aed",
   "metadata": {},
   "outputs": [],
   "source": [
    "def work_lipid(lipid):\n",
    "    lipid = msm.structure.align_principal_axes(lipid, axes=[[0,0,1],[1,0,0],[0,1,0]])\n",
    "    lipid = msm.structure.center(lipid, selection='all', center_of_selection='atom_name==\"P\"')\n",
    "    if not omem.lipid.is_head_up(lipid):\n",
    "        lipid = msm.structure.flip(lipid)\n",
    "    return lipid"
   ]
  },
  {
   "cell_type": "code",
   "execution_count": 6,
   "id": "2d045d3d-a017-4455-98c3-0088c4938811",
   "metadata": {},
   "outputs": [
    {
     "name": "stdout",
     "output_type": "stream",
     "text": [
      "LPPC lppc\n",
      "DLPC dlpc\n",
      "     ...without coordinates\n",
      " \n",
      "DLPE dlpe\n"
     ]
    },
    {
     "ename": "ValueError",
     "evalue": "Atom name HN1 has not known atom type.",
     "output_type": "error",
     "traceback": [
      "\u001b[0;31m---------------------------------------------------------------------------\u001b[0m",
      "\u001b[0;31mKeyError\u001b[0m                                  Traceback (most recent call last)",
      "File \u001b[0;32m~/projects@uibcdf/MolSysMT/molsysmt/element/atom/get_atom_type_from_atom_name.py:11\u001b[0m, in \u001b[0;36mget_atom_type_from_atom_name\u001b[0;34m(atom_name)\u001b[0m\n\u001b[1;32m     10\u001b[0m \u001b[38;5;28;01mtry\u001b[39;00m:\n\u001b[0;32m---> 11\u001b[0m     \u001b[38;5;28;01mreturn\u001b[39;00m atom_type[\u001b[43matom\u001b[49m\u001b[43m[\u001b[49m\u001b[43matom_name\u001b[49m\u001b[43m]\u001b[49m]\n\u001b[1;32m     12\u001b[0m \u001b[38;5;28;01mexcept\u001b[39;00m:\n",
      "\u001b[0;31mKeyError\u001b[0m: 'HN1'",
      "\nDuring handling of the above exception, another exception occurred:\n",
      "\u001b[0;31mValueError\u001b[0m                                Traceback (most recent call last)",
      "Cell \u001b[0;32mIn[6], line 8\u001b[0m\n\u001b[1;32m      5\u001b[0m \u001b[38;5;28mprint\u001b[39m(lipid_name, lipid_code)\n\u001b[1;32m      7\u001b[0m parmed_structure \u001b[38;5;241m=\u001b[39m params\u001b[38;5;241m.\u001b[39mresidues[lipid_name]\u001b[38;5;241m.\u001b[39mto_structure()\n\u001b[0;32m----> 8\u001b[0m molsys \u001b[38;5;241m=\u001b[39m \u001b[43mmsm\u001b[49m\u001b[38;5;241;43m.\u001b[39;49m\u001b[43mconvert\u001b[49m\u001b[43m(\u001b[49m\u001b[43mparmed_structure\u001b[49m\u001b[43m)\u001b[49m\n\u001b[1;32m      9\u001b[0m molsys \u001b[38;5;241m=\u001b[39m msm\u001b[38;5;241m.\u001b[39mremove(molsys, structure_indices\u001b[38;5;241m=\u001b[39m\u001b[38;5;124m'\u001b[39m\u001b[38;5;124mall\u001b[39m\u001b[38;5;124m'\u001b[39m)\n\u001b[1;32m     11\u001b[0m \u001b[38;5;28;01mif\u001b[39;00m os\u001b[38;5;241m.\u001b[39mpath\u001b[38;5;241m.\u001b[39mexists(lipid_code):\n",
      "File \u001b[0;32m~/projects@uibcdf/MolSysMT/molsysmt/_private/digestion/digest.py:119\u001b[0m, in \u001b[0;36mdigest.<locals>.digestor.<locals>.wrapper\u001b[0;34m(*args, **kwargs)\u001b[0m\n\u001b[1;32m    117\u001b[0m     \u001b[38;5;28;01mreturn\u001b[39;00m func(all_args[\u001b[38;5;124m'\u001b[39m\u001b[38;5;124mself\u001b[39m\u001b[38;5;124m'\u001b[39m], \u001b[38;5;241m*\u001b[39m\u001b[38;5;241m*\u001b[39mfinal_args)\n\u001b[1;32m    118\u001b[0m \u001b[38;5;28;01melse\u001b[39;00m:\n\u001b[0;32m--> 119\u001b[0m     \u001b[38;5;28;01mreturn\u001b[39;00m \u001b[43mfunc\u001b[49m\u001b[43m(\u001b[49m\u001b[38;5;241;43m*\u001b[39;49m\u001b[38;5;241;43m*\u001b[39;49m\u001b[43mfinal_args\u001b[49m\u001b[43m)\u001b[49m\n",
      "File \u001b[0;32m~/projects@uibcdf/MolSysMT/molsysmt/basic/convert.py:509\u001b[0m, in \u001b[0;36mconvert\u001b[0;34m(molecular_system, to_form, selection, structure_indices, syntax, verbose, **kwargs)\u001b[0m\n\u001b[1;32m    505\u001b[0m \u001b[38;5;66;03m# If one to one\u001b[39;00m\n\u001b[1;32m    507\u001b[0m \u001b[38;5;28;01mif\u001b[39;00m \u001b[38;5;129;01mnot\u001b[39;00m \u001b[38;5;28misinstance\u001b[39m(from_form, (\u001b[38;5;28mlist\u001b[39m, \u001b[38;5;28mtuple\u001b[39m)):\n\u001b[0;32m--> 509\u001b[0m     output \u001b[38;5;241m=\u001b[39m \u001b[43m_convert_one_to_one\u001b[49m\u001b[43m(\u001b[49m\u001b[43mmolecular_system\u001b[49m\u001b[43m,\u001b[49m\u001b[43m \u001b[49m\u001b[43mto_form\u001b[49m\u001b[38;5;241;43m=\u001b[39;49m\u001b[43mto_form\u001b[49m\u001b[43m,\u001b[49m\u001b[43m \u001b[49m\u001b[43mselection\u001b[49m\u001b[38;5;241;43m=\u001b[39;49m\u001b[43mselection\u001b[49m\u001b[43m,\u001b[49m\u001b[43m \u001b[49m\u001b[43mstructure_indices\u001b[49m\u001b[38;5;241;43m=\u001b[39;49m\u001b[43mstructure_indices\u001b[49m\u001b[43m,\u001b[49m\n\u001b[1;32m    510\u001b[0m \u001b[43m            \u001b[49m\u001b[43msyntax\u001b[49m\u001b[38;5;241;43m=\u001b[39;49m\u001b[43msyntax\u001b[49m\u001b[43m,\u001b[49m\u001b[43m \u001b[49m\u001b[43mverbose\u001b[49m\u001b[38;5;241;43m=\u001b[39;49m\u001b[43mverbose\u001b[49m\u001b[43m,\u001b[49m\u001b[43m \u001b[49m\u001b[38;5;241;43m*\u001b[39;49m\u001b[38;5;241;43m*\u001b[39;49m\u001b[43mkwargs\u001b[49m\u001b[43m)\u001b[49m\n\u001b[1;32m    513\u001b[0m \u001b[38;5;66;03m# If multiple to one\u001b[39;00m\n\u001b[1;32m    514\u001b[0m \n\u001b[1;32m    515\u001b[0m \u001b[38;5;28;01melse\u001b[39;00m:\n\u001b[1;32m    516\u001b[0m \n\u001b[1;32m    517\u001b[0m     \u001b[38;5;66;03m# conversions in private shortcuts\u001b[39;00m\n\u001b[1;32m    518\u001b[0m     \u001b[38;5;28;01mif\u001b[39;00m \u001b[38;5;28mtuple\u001b[39m(\u001b[38;5;28msorted\u001b[39m(from_form)) \u001b[38;5;129;01min\u001b[39;00m _multiple_conversion_shortcuts:\n",
      "File \u001b[0;32m~/projects@uibcdf/MolSysMT/molsysmt/basic/convert.py:73\u001b[0m, in \u001b[0;36m_convert_one_to_one\u001b[0;34m(molecular_system, to_form, selection, structure_indices, syntax, verbose, **kwargs)\u001b[0m\n\u001b[1;32m     70\u001b[0m     \u001b[38;5;28;01mif\u001b[39;00m \u001b[38;5;28mlen\u001b[39m(missing_arguments)\u001b[38;5;241m>\u001b[39m\u001b[38;5;241m0\u001b[39m:\n\u001b[1;32m     71\u001b[0m         \u001b[38;5;28;01mraise\u001b[39;00m NotCompatibleConversionError(from_form, to_form, missing_arguments)\n\u001b[0;32m---> 73\u001b[0m     output \u001b[38;5;241m=\u001b[39m \u001b[43mfunction\u001b[49m\u001b[43m(\u001b[49m\u001b[43mmolecular_system\u001b[49m\u001b[43m,\u001b[49m\u001b[43m \u001b[49m\u001b[38;5;241;43m*\u001b[39;49m\u001b[38;5;241;43m*\u001b[39;49m\u001b[43mconversion_arguments\u001b[49m\u001b[43m,\u001b[49m\u001b[43m \u001b[49m\u001b[38;5;241;43m*\u001b[39;49m\u001b[38;5;241;43m*\u001b[39;49m\u001b[43mkwargs\u001b[49m\u001b[43m)\u001b[49m\n\u001b[1;32m     75\u001b[0m \u001b[38;5;28;01melif\u001b[39;00m (\u001b[38;5;124m'\u001b[39m\u001b[38;5;124mmolsysmt.MolSys\u001b[39m\u001b[38;5;124m'\u001b[39m \u001b[38;5;129;01min\u001b[39;00m _dict_modules[from_form]\u001b[38;5;241m.\u001b[39m_convert_to) \u001b[38;5;129;01mand\u001b[39;00m (to_form \u001b[38;5;129;01min\u001b[39;00m _dict_modules[\u001b[38;5;124m'\u001b[39m\u001b[38;5;124mmolsysmt.MolSys\u001b[39m\u001b[38;5;124m'\u001b[39m]\u001b[38;5;241m.\u001b[39m_convert_to):\n\u001b[1;32m     77\u001b[0m     output \u001b[38;5;241m=\u001b[39m _convert_one_to_one(molecular_system, to_form\u001b[38;5;241m=\u001b[39m\u001b[38;5;124m'\u001b[39m\u001b[38;5;124mmolsysmt.MolSys\u001b[39m\u001b[38;5;124m'\u001b[39m, selection\u001b[38;5;241m=\u001b[39mselection,\n\u001b[1;32m     78\u001b[0m             structure_indices\u001b[38;5;241m=\u001b[39mstructure_indices, syntax\u001b[38;5;241m=\u001b[39msyntax, \u001b[38;5;241m*\u001b[39m\u001b[38;5;241m*\u001b[39mkwargs)\n",
      "File \u001b[0;32m~/projects@uibcdf/MolSysMT/molsysmt/_private/digestion/digest.py:119\u001b[0m, in \u001b[0;36mdigest.<locals>.digestor.<locals>.wrapper\u001b[0;34m(*args, **kwargs)\u001b[0m\n\u001b[1;32m    117\u001b[0m     \u001b[38;5;28;01mreturn\u001b[39;00m func(all_args[\u001b[38;5;124m'\u001b[39m\u001b[38;5;124mself\u001b[39m\u001b[38;5;124m'\u001b[39m], \u001b[38;5;241m*\u001b[39m\u001b[38;5;241m*\u001b[39mfinal_args)\n\u001b[1;32m    118\u001b[0m \u001b[38;5;28;01melse\u001b[39;00m:\n\u001b[0;32m--> 119\u001b[0m     \u001b[38;5;28;01mreturn\u001b[39;00m \u001b[43mfunc\u001b[49m\u001b[43m(\u001b[49m\u001b[38;5;241;43m*\u001b[39;49m\u001b[38;5;241;43m*\u001b[39;49m\u001b[43mfinal_args\u001b[49m\u001b[43m)\u001b[49m\n",
      "File \u001b[0;32m~/projects@uibcdf/MolSysMT/molsysmt/form/parmed_Structure/to_molsysmt_MolSys.py:12\u001b[0m, in \u001b[0;36mto_molsysmt_MolSys\u001b[0;34m(item, atom_indices, structure_indices)\u001b[0m\n\u001b[1;32m      8\u001b[0m \u001b[38;5;28;01mfrom\u001b[39;00m \u001b[38;5;21;01m.\u001b[39;00m \u001b[38;5;28;01mimport\u001b[39;00m to_molsysmt_Structures\n\u001b[1;32m     10\u001b[0m tmp_item \u001b[38;5;241m=\u001b[39m MolSys()\n\u001b[0;32m---> 12\u001b[0m tmp_item\u001b[38;5;241m.\u001b[39mtopology \u001b[38;5;241m=\u001b[39m \u001b[43mto_molsysmt_Topology\u001b[49m\u001b[43m(\u001b[49m\u001b[43mitem\u001b[49m\u001b[43m,\u001b[49m\u001b[43m \u001b[49m\u001b[43matom_indices\u001b[49m\u001b[38;5;241;43m=\u001b[39;49m\u001b[43matom_indices\u001b[49m\u001b[43m)\u001b[49m\n\u001b[1;32m     13\u001b[0m tmp_item\u001b[38;5;241m.\u001b[39mstructures \u001b[38;5;241m=\u001b[39m to_molsysmt_Structures(item, atom_indices\u001b[38;5;241m=\u001b[39matom_indices,\n\u001b[1;32m     14\u001b[0m                                              structure_indices\u001b[38;5;241m=\u001b[39mstructure_indices)\n\u001b[1;32m     16\u001b[0m \u001b[38;5;28;01mreturn\u001b[39;00m tmp_item\n",
      "File \u001b[0;32m~/projects@uibcdf/MolSysMT/molsysmt/_private/digestion/digest.py:119\u001b[0m, in \u001b[0;36mdigest.<locals>.digestor.<locals>.wrapper\u001b[0;34m(*args, **kwargs)\u001b[0m\n\u001b[1;32m    117\u001b[0m     \u001b[38;5;28;01mreturn\u001b[39;00m func(all_args[\u001b[38;5;124m'\u001b[39m\u001b[38;5;124mself\u001b[39m\u001b[38;5;124m'\u001b[39m], \u001b[38;5;241m*\u001b[39m\u001b[38;5;241m*\u001b[39mfinal_args)\n\u001b[1;32m    118\u001b[0m \u001b[38;5;28;01melse\u001b[39;00m:\n\u001b[0;32m--> 119\u001b[0m     \u001b[38;5;28;01mreturn\u001b[39;00m \u001b[43mfunc\u001b[49m\u001b[43m(\u001b[49m\u001b[38;5;241;43m*\u001b[39;49m\u001b[38;5;241;43m*\u001b[39;49m\u001b[43mfinal_args\u001b[49m\u001b[43m)\u001b[49m\n",
      "File \u001b[0;32m~/projects@uibcdf/MolSysMT/molsysmt/form/parmed_Structure/to_molsysmt_Topology.py:44\u001b[0m, in \u001b[0;36mto_molsysmt_Topology\u001b[0;34m(item, atom_indices)\u001b[0m\n\u001b[1;32m     42\u001b[0m atom_name_array[atom_index] \u001b[38;5;241m=\u001b[39m atom\u001b[38;5;241m.\u001b[39mname\n\u001b[1;32m     43\u001b[0m atom_id_array[atom_index] \u001b[38;5;241m=\u001b[39m atom\u001b[38;5;241m.\u001b[39midx\n\u001b[0;32m---> 44\u001b[0m atom_type_array[atom_index] \u001b[38;5;241m=\u001b[39m \u001b[43mget_atom_type_from_atom_name\u001b[49m\u001b[43m(\u001b[49m\u001b[43matom\u001b[49m\u001b[38;5;241;43m.\u001b[39;49m\u001b[43mname\u001b[49m\u001b[43m)\u001b[49m\n\u001b[1;32m     45\u001b[0m atom_partial_charge_array[atom_index] \u001b[38;5;241m=\u001b[39m atom\u001b[38;5;241m.\u001b[39mcharge\n\u001b[1;32m     46\u001b[0m atom_formal_charge_array[atom_index] \u001b[38;5;241m=\u001b[39m atom\u001b[38;5;241m.\u001b[39mformal_charge\n",
      "File \u001b[0;32m~/projects@uibcdf/MolSysMT/molsysmt/_private/digestion/digest.py:119\u001b[0m, in \u001b[0;36mdigest.<locals>.digestor.<locals>.wrapper\u001b[0;34m(*args, **kwargs)\u001b[0m\n\u001b[1;32m    117\u001b[0m     \u001b[38;5;28;01mreturn\u001b[39;00m func(all_args[\u001b[38;5;124m'\u001b[39m\u001b[38;5;124mself\u001b[39m\u001b[38;5;124m'\u001b[39m], \u001b[38;5;241m*\u001b[39m\u001b[38;5;241m*\u001b[39mfinal_args)\n\u001b[1;32m    118\u001b[0m \u001b[38;5;28;01melse\u001b[39;00m:\n\u001b[0;32m--> 119\u001b[0m     \u001b[38;5;28;01mreturn\u001b[39;00m \u001b[43mfunc\u001b[49m\u001b[43m(\u001b[49m\u001b[38;5;241;43m*\u001b[39;49m\u001b[38;5;241;43m*\u001b[39;49m\u001b[43mfinal_args\u001b[49m\u001b[43m)\u001b[49m\n",
      "File \u001b[0;32m~/projects@uibcdf/MolSysMT/molsysmt/element/atom/get_atom_type_from_atom_name.py:13\u001b[0m, in \u001b[0;36mget_atom_type_from_atom_name\u001b[0;34m(atom_name)\u001b[0m\n\u001b[1;32m     11\u001b[0m     \u001b[38;5;28;01mreturn\u001b[39;00m atom_type[atom[atom_name]]\n\u001b[1;32m     12\u001b[0m \u001b[38;5;28;01mexcept\u001b[39;00m:\n\u001b[0;32m---> 13\u001b[0m     \u001b[38;5;28;01mraise\u001b[39;00m \u001b[38;5;167;01mValueError\u001b[39;00m(\u001b[38;5;124m'\u001b[39m\u001b[38;5;124mAtom name \u001b[39m\u001b[38;5;124m'\u001b[39m\u001b[38;5;241m+\u001b[39matom_name\u001b[38;5;241m+\u001b[39m\u001b[38;5;124m'\u001b[39m\u001b[38;5;124m has not known atom type.\u001b[39m\u001b[38;5;124m'\u001b[39m)\n",
      "\u001b[0;31mValueError\u001b[0m: Atom name HN1 has not known atom type."
     ]
    }
   ],
   "source": [
    "for lipid_name in params.residues:\n",
    "\n",
    "    lipid_code = lipids[lipid_name]\n",
    "\n",
    "    print(lipid_name, lipid_code)\n",
    "    \n",
    "    parmed_structure = params.residues[lipid_name].to_structure()\n",
    "    molsys = msm.convert(parmed_structure)\n",
    "    molsys = msm.remove(molsys, structure_indices='all')\n",
    "\n",
    "    if os.path.exists(lipid_code):\n",
    "        continue\n",
    "    \n",
    "    os.mkdir(lipid_code)\n",
    "    \n",
    "    msm.convert(parmed_structure, lipid_code+'/'+lipid_code+'.psf')\n",
    "\n",
    "    src_web = 'https://www.charmm-gui.org/archive/cslm/'+lipid_code+'.pdb'\n",
    "    response = requests.get(src_web, stream=True, auth=('user', 'pass'))\n",
    "    \n",
    "    if response.status_code == 200:\n",
    "        with open(lipid_code+'/'+lipid_code+'.pdb', 'w') as fff:\n",
    "            fff.write(response.raw.read())\n",
    "    \n",
    "    src_web = src_web_prefix+lipid_code+src_web_suffix\n",
    "    response = requests.get(src_web, stream=True, auth=('user', 'pass'))\n",
    "    \n",
    "    if response.status_code == 200:\n",
    "        with open('foo.tar.gz', 'wb') as fff:\n",
    "            fff.write(response.raw.read())\n",
    "        file = tarfile.open('foo.tar.gz') \n",
    "        file.extractall(path=\"./foo\")\n",
    "    \n",
    "        for ii in tqdm(range(1, 10)):\n",
    "            filename = './foo/'+lipid_code+'/conf1/'+lipid_code+'_'+str(ii)+'.crd'\n",
    "            aux_lipid = msm.convert(filename)\n",
    "            aux_lipid = work_lipid(aux_lipid)\n",
    "            msm.append_structures(molsys, aux_lipid)\n",
    "\n",
    "        for ii in tqdm(range(1, 10)):\n",
    "            filename = './foo/'+lipid_code+'/conf2/'+lipid_code+'_'+str(ii)+'.crd'\n",
    "            aux_lipid = msm.convert(filename)\n",
    "            aux_lipid = work_lipid(aux_lipid)\n",
    "            msm.append_structures(molsys, aux_lipid)\n",
    "\n",
    "        os.remove('foo.tar.gz')\n",
    "        shutil.rmtree('./foo')\n",
    "\n",
    "        msm.convert(molsys, lipid_code+'/'+lipid_code+'.msmpk')\n",
    "        coordinates = msm.get(molsys, coordinates=True)\n",
    "        msm.convert(coordinates, lipid_code+'/'+lipid_code+'_conformations.xyznpy')\n",
    "\n",
    "        del(coordinates, aux_lipid)\n",
    "\n",
    "    else:\n",
    "\n",
    "        print('     ...without coordinates')\n",
    "\n",
    "    del(parmed_structure, molsys)\n",
    "\n",
    "    print(' ')"
   ]
  },
  {
   "cell_type": "code",
   "execution_count": null,
   "id": "e7d705eb-5ff1-491d-b7a2-d55a957adb92",
   "metadata": {},
   "outputs": [],
   "source": []
  }
 ],
 "metadata": {
  "kernelspec": {
   "display_name": "Python 3 (ipykernel)",
   "language": "python",
   "name": "python3"
  },
  "language_info": {
   "codemirror_mode": {
    "name": "ipython",
    "version": 3
   },
   "file_extension": ".py",
   "mimetype": "text/x-python",
   "name": "python",
   "nbconvert_exporter": "python",
   "pygments_lexer": "ipython3",
   "version": "3.10.12"
  }
 },
 "nbformat": 4,
 "nbformat_minor": 5
}
