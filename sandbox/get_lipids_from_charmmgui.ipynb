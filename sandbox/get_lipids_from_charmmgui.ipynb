{
 "cells": [
  {
   "cell_type": "markdown",
   "id": "14073b30-99c4-43ac-9731-6e147baa99ce",
   "metadata": {},
   "source": [
    "# Make lipids from Charmm Gui"
   ]
  },
  {
   "cell_type": "code",
   "execution_count": 1,
   "id": "10f20195-e2e9-4e9e-9e3d-35f139674863",
   "metadata": {},
   "outputs": [
    {
     "data": {
      "application/vnd.jupyter.widget-view+json": {
       "model_id": "e9aba0a9da11480da8d86ec1e13b0b16",
       "version_major": 2,
       "version_minor": 0
      },
      "text/plain": []
     },
     "metadata": {},
     "output_type": "display_data"
    }
   ],
   "source": [
    "import molsysmt as msm\n",
    "import omembrane as omem\n",
    "from parmed.charmm import CharmmParameterSet\n",
    "import requests\n",
    "import tarfile\n",
    "from tqdm import tqdm\n",
    "import os\n",
    "import shutil"
   ]
  },
  {
   "cell_type": "code",
   "execution_count": 2,
   "id": "fc5e9ff2-db7e-40e3-8c28-5c491e0aab16",
   "metadata": {},
   "outputs": [],
   "source": [
    "toppar_dir = '../omembrane/data/charmm_topology/toppar/'\n",
    "toppar_files = [toppar_dir+'top_all36_lipid.rtf',\n",
    "                toppar_dir+'par_all36_lipid.prm']\n",
    "\n",
    "params = CharmmParameterSet(*toppar_files)"
   ]
  },
  {
   "cell_type": "code",
   "execution_count": 3,
   "id": "be85c4ca-00c7-45e0-af4b-cb37cbcd1aed",
   "metadata": {},
   "outputs": [],
   "source": [
    "def work_lipid(lipid):\n",
    "    lipid = msm.structure.align_principal_axes(lipid, axes=[[0,0,1],[1,0,0],[0,1,0]])\n",
    "    lipid = msm.structure.center(lipid, selection='all', center_of_selection='atom_name==\"P\"')\n",
    "    if not omem.lipid.is_head_up(lipid):\n",
    "        lipid = msm.structure.flip(lipid)\n",
    "    return lipid"
   ]
  },
  {
   "cell_type": "code",
   "execution_count": 5,
   "id": "2d045d3d-a017-4455-98c3-0088c4938811",
   "metadata": {},
   "outputs": [
    {
     "name": "stdout",
     "output_type": "stream",
     "text": [
      "LPPC lppc\n",
      "DLPC dlpc\n",
      "DLPE dlpe\n",
      "DLPS dlps\n",
      "DLPA dlpa\n",
      "DLPG dlpg\n",
      "DMPC dmpc\n",
      "DMPE dmpe\n",
      "DMPS dmps\n",
      "DMPA dmpa\n",
      "DMPG dmpg\n",
      "DPPC dppc\n",
      "DPPE dppe\n",
      "DPPS dpps\n",
      "DPPA dppa\n",
      "DPPG dppg\n",
      "DSPC dspc\n",
      "DSPE dspe\n",
      "DSPS dsps\n",
      "DSPA dspa\n",
      "DSPG dspg\n",
      "DOPC dopc\n",
      "DOPE dope\n",
      "DOPS dops\n",
      "DOPA dopa\n",
      "DOPG dopg\n",
      "POPC popc\n",
      "POPE pope\n",
      "POPS pops\n",
      "POPA popa\n",
      "POPG popg\n",
      "SAPC sapc\n"
     ]
    },
    {
     "name": "stderr",
     "output_type": "stream",
     "text": [
      "100%|███████████████████████████████████████████████████████████████████████████████████████████████████████████████| 1/1 [00:14<00:00, 14.39s/it]\n",
      "100%|███████████████████████████████████████████████████████████████████████████████████████████████████████████████| 1/1 [00:12<00:00, 12.54s/it]\n"
     ]
    },
    {
     "name": "stdout",
     "output_type": "stream",
     "text": [
      " \n",
      "SDPC sdpc\n"
     ]
    },
    {
     "name": "stderr",
     "output_type": "stream",
     "text": [
      "100%|███████████████████████████████████████████████████████████████████████████████████████████████████████████████| 1/1 [00:13<00:00, 13.71s/it]\n",
      "100%|███████████████████████████████████████████████████████████████████████████████████████████████████████████████| 1/1 [00:13<00:00, 13.29s/it]\n"
     ]
    },
    {
     "name": "stdout",
     "output_type": "stream",
     "text": [
      " \n",
      "SOPC sopc\n"
     ]
    },
    {
     "name": "stderr",
     "output_type": "stream",
     "text": [
      "100%|███████████████████████████████████████████████████████████████████████████████████████████████████████████████| 1/1 [00:15<00:00, 15.73s/it]\n",
      "100%|███████████████████████████████████████████████████████████████████████████████████████████████████████████████| 1/1 [00:14<00:00, 14.02s/it]\n"
     ]
    },
    {
     "name": "stdout",
     "output_type": "stream",
     "text": [
      " \n",
      "DAPC dapc\n"
     ]
    },
    {
     "name": "stderr",
     "output_type": "stream",
     "text": [
      "100%|███████████████████████████████████████████████████████████████████████████████████████████████████████████████| 1/1 [00:16<00:00, 16.13s/it]\n",
      "100%|███████████████████████████████████████████████████████████████████████████████████████████████████████████████| 1/1 [00:14<00:00, 14.32s/it]\n"
     ]
    },
    {
     "name": "stdout",
     "output_type": "stream",
     "text": [
      " \n"
     ]
    }
   ],
   "source": [
    "for lipid_name in params.residues:\n",
    "    \n",
    "    if lipid_name in omem.lipid.name:\n",
    "        lipid_code = lipid_name.lower()\n",
    "    else:\n",
    "        print(lipid_name, 'not in name lists')\n",
    "        continue\n",
    "    \n",
    "    print(lipid_name, lipid_code)\n",
    "    \n",
    "    parmed_structure = params.residues[lipid_name].to_structure()\n",
    "    molsys = msm.convert(parmed_structure)\n",
    "    molsys = msm.remove(molsys, structure_indices='all')\n",
    "\n",
    "    if os.path.exists(lipid_code):\n",
    "        continue\n",
    "    \n",
    "    os.mkdir(lipid_code)\n",
    "    \n",
    "    msm.convert(parmed_structure, lipid_code+'/'+lipid_code+'.psf')\n",
    "\n",
    "    src_web = 'https://www.charmm-gui.org/archive/csml/'+lipid_code+'.pdb'\n",
    "    response = requests.get(src_web, stream=True, auth=('user', 'pass'))\n",
    "    \n",
    "    \n",
    "    if response.status_code == 200:\n",
    "        with open(lipid_code+'/'+lipid_code+'.pdb', 'w') as fff:\n",
    "            fff.write(response.text)\n",
    "    else:\n",
    "        print(src_web)\n",
    "        print('     ...without pdb')\n",
    "    \n",
    "    src_web = 'https://www.charmm-gui.org/archive/lipid/'+lipid_code+'.tar.gz'\n",
    "    response = requests.get(src_web, stream=True, auth=('user', 'pass'))\n",
    "    \n",
    "    if response.status_code == 200:\n",
    "        with open('foo.tar.gz', 'wb') as fff:\n",
    "            fff.write(response.raw.read())\n",
    "        file = tarfile.open('foo.tar.gz') \n",
    "        file.extractall(path=\"./foo\")\n",
    "    \n",
    "        for ii in tqdm(range(1, 2)): #range(1,1001)\n",
    "            filename = './foo/'+lipid_code+'/conf1/'+lipid_code+'_'+str(ii)+'.crd'\n",
    "            aux_lipid = msm.convert(filename)\n",
    "            aux_lipid = work_lipid(aux_lipid)\n",
    "            msm.append_structures(molsys, aux_lipid)\n",
    "\n",
    "        for ii in tqdm(range(1, 2)): #range(1,1001)\n",
    "            filename = './foo/'+lipid_code+'/conf2/'+lipid_code+'_'+str(ii)+'.crd'\n",
    "            aux_lipid = msm.convert(filename)\n",
    "            aux_lipid = work_lipid(aux_lipid)\n",
    "            msm.append_structures(molsys, aux_lipid)\n",
    "\n",
    "        os.remove('foo.tar.gz')\n",
    "        shutil.rmtree('./foo')\n",
    "\n",
    "        msm.convert(molsys, lipid_code+'/'+lipid_code+'.msmpk')\n",
    "        coordinates = msm.get(molsys, coordinates=True)\n",
    "        msm.convert(coordinates, lipid_code+'/'+lipid_code+'_conformations.xyznpy')\n",
    "\n",
    "        del(coordinates, aux_lipid)\n",
    "\n",
    "    else:\n",
    "        \n",
    "        print(src_web)\n",
    "        print('     ...without coordinates')\n",
    "\n",
    "    del(parmed_structure, molsys)\n",
    "\n",
    "    print(' ')"
   ]
  },
  {
   "cell_type": "code",
   "execution_count": null,
   "id": "e7d705eb-5ff1-491d-b7a2-d55a957adb92",
   "metadata": {},
   "outputs": [],
   "source": []
  }
 ],
 "metadata": {
  "kernelspec": {
   "display_name": "Python 3 (ipykernel)",
   "language": "python",
   "name": "python3"
  },
  "language_info": {
   "codemirror_mode": {
    "name": "ipython",
    "version": 3
   },
   "file_extension": ".py",
   "mimetype": "text/x-python",
   "name": "python",
   "nbconvert_exporter": "python",
   "pygments_lexer": "ipython3",
   "version": "3.10.12"
  }
 },
 "nbformat": 4,
 "nbformat_minor": 5
}
