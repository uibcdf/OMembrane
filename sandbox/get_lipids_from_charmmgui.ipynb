{
 "cells": [
  {
   "cell_type": "markdown",
   "id": "14073b30-99c4-43ac-9731-6e147baa99ce",
   "metadata": {},
   "source": [
    "# Make lipids from Charmm Gui"
   ]
  },
  {
   "cell_type": "code",
   "execution_count": null,
   "id": "10f20195-e2e9-4e9e-9e3d-35f139674863",
   "metadata": {},
   "outputs": [],
   "source": [
    "import molsysmt as msm\n",
    "import omembrane as omem\n",
    "from parmed.charmm import CharmmParameterSet\n",
    "import requests\n",
    "import tarfile\n",
    "from tqdm import tqdm\n",
    "import os\n",
    "import shutil"
   ]
  },
  {
   "cell_type": "code",
   "execution_count": null,
   "id": "fc5e9ff2-db7e-40e3-8c28-5c491e0aab16",
   "metadata": {},
   "outputs": [],
   "source": [
    "toppar_dir = '../omembrane/data/charmm_topology/toppar/'\n",
    "toppar_files = [toppar_dir+'top_all36_lipid.rtf',\n",
    "                toppar_dir+'par_all36_lipid.prm']\n",
    "\n",
    "params = CharmmParameterSet(*toppar_files)"
   ]
  },
  {
   "cell_type": "code",
   "execution_count": null,
   "id": "be85c4ca-00c7-45e0-af4b-cb37cbcd1aed",
   "metadata": {},
   "outputs": [],
   "source": [
    "def work_lipid(lipid):\n",
    "    lipid = msm.structure.align_principal_axes(lipid, axes=[[0,0,1],[1,0,0],[0,1,0]])\n",
    "    lipid = msm.structure.center(lipid, selection='all', center_of_selection='atom_name==\"P\"')\n",
    "    if not omem.lipid.is_head_up(lipid):\n",
    "        lipid = msm.structure.flip(lipid)\n",
    "    return lipid"
   ]
  },
  {
   "cell_type": "code",
   "execution_count": null,
   "id": "2d045d3d-a017-4455-98c3-0088c4938811",
   "metadata": {},
   "outputs": [],
   "source": [
    "for lipid_name in params.residues:\n",
    "    \n",
    "    if lipid_name in omem.lipid.name:\n",
    "        lipid_code = lipid_name.lower()\n",
    "    else:\n",
    "        print(lipid_name, 'not in name lists')\n",
    "        continue\n",
    "    \n",
    "    print(lipid_name, lipid_code)\n",
    "    \n",
    "    parmed_structure = params.residues[lipid_name].to_structure()\n",
    "    molsys = msm.convert(parmed_structure)\n",
    "    molsys = msm.remove(molsys, structure_indices='all')\n",
    "\n",
    "    if os.path.exists(lipid_code):\n",
    "        continue\n",
    "    \n",
    "    os.mkdir(lipid_code)\n",
    "    \n",
    "    msm.convert(parmed_structure, lipid_code+'/'+lipid_code+'.psf')\n",
    "\n",
    "    src_web = 'https://www.charmm-gui.org/archive/csml/'+lipid_code+'.pdb'\n",
    "    response = requests.get(src_web, stream=True, auth=('user', 'pass'))\n",
    "    \n",
    "    \n",
    "    if response.status_code == 200:\n",
    "        with open(lipid_code+'/'+lipid_code+'.pdb', 'w') as fff:\n",
    "            fff.write(response.text)\n",
    "    else:\n",
    "        print(src_web)\n",
    "        print('     ...without pdb')\n",
    "    \n",
    "    src_web = 'https://www.charmm-gui.org/archive/lipid/'+lipid_code+'.tar.gz'\n",
    "    response = requests.get(src_web, stream=True, auth=('user', 'pass'))\n",
    "    \n",
    "    if response.status_code == 200:\n",
    "        with open('foo.tar.gz', 'wb') as fff:\n",
    "            fff.write(response.raw.read())\n",
    "        file = tarfile.open('foo.tar.gz') \n",
    "        file.extractall(path=\"./foo\")\n",
    "    \n",
    "        for ii in tqdm(range(1, 10)): #range(1,1001)\n",
    "            filename = './foo/'+lipid_code+'/conf1/'+lipid_code+'_'+str(ii)+'.crd'\n",
    "            aux_lipid = msm.convert(filename)\n",
    "            aux_lipid = work_lipid(aux_lipid)\n",
    "            msm.append_structures(molsys, aux_lipid)\n",
    "\n",
    "        for ii in tqdm(range(1, 10)): #range(1,1001)\n",
    "            filename = './foo/'+lipid_code+'/conf2/'+lipid_code+'_'+str(ii)+'.crd'\n",
    "            aux_lipid = msm.convert(filename)\n",
    "            aux_lipid = work_lipid(aux_lipid)\n",
    "            msm.append_structures(molsys, aux_lipid)\n",
    "\n",
    "        os.remove('foo.tar.gz')\n",
    "        shutil.rmtree('./foo')\n",
    "\n",
    "        msm.convert(molsys, lipid_code+'/'+lipid_code+'.msmpk')\n",
    "        coordinates = msm.get(molsys, coordinates=True)\n",
    "        msm.convert(coordinates, lipid_code+'/'+lipid_code+'_conformations.xyznpy')\n",
    "\n",
    "        del(coordinates, aux_lipid)\n",
    "\n",
    "    else:\n",
    "        \n",
    "        print(src_web)\n",
    "        print('     ...without coordinates')\n",
    "\n",
    "    #del(parmed_structure, molsys)\n",
    "\n",
    "    print(' ')"
   ]
  },
  {
   "cell_type": "code",
   "execution_count": null,
   "id": "13afc263-7e16-4c8e-a460-4c6571e00bcc",
   "metadata": {},
   "outputs": [],
   "source": [
    "msm.view(molsys)"
   ]
  },
  {
   "cell_type": "code",
   "execution_count": null,
   "id": "d8bb4cfd-f128-449e-9d25-cb648686cdd7",
   "metadata": {},
   "outputs": [],
   "source": []
  }
 ],
 "metadata": {
  "kernelspec": {
   "display_name": "Python 3 (ipykernel)",
   "language": "python",
   "name": "python3"
  },
  "language_info": {
   "codemirror_mode": {
    "name": "ipython",
    "version": 3
   },
   "file_extension": ".py",
   "mimetype": "text/x-python",
   "name": "python",
   "nbconvert_exporter": "python",
   "pygments_lexer": "ipython3",
   "version": "3.10.12"
  }
 },
 "nbformat": 4,
 "nbformat_minor": 5
}
