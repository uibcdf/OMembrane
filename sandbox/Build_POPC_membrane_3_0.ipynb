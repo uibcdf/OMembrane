{
 "cells": [
  {
   "cell_type": "code",
   "execution_count": 1,
   "id": "9ddef09c-95d2-4d46-898d-5535600b08de",
   "metadata": {},
   "outputs": [
    {
     "data": {
      "application/vnd.jupyter.widget-view+json": {
       "model_id": "f2b96711a89049deb9526b07c5ae7292",
       "version_major": 2,
       "version_minor": 0
      },
      "text/plain": []
     },
     "metadata": {},
     "output_type": "display_data"
    }
   ],
   "source": [
    "import molsysmt as msm\n",
    "from molsysmt import pyunitwizard as puw\n",
    "import omembrane as omem\n",
    "import openmm as mm\n",
    "from openmm import app as app\n",
    "from openmm import unit as u\n",
    "import numpy as np\n",
    "import math\n",
    "from matplotlib import pyplot as plt\n",
    "from tqdm import tqdm\n",
    "from sys import stdout\n",
    "\n",
    "from openmm import LocalEnergyMinimizer"
   ]
  },
  {
   "cell_type": "code",
   "execution_count": 2,
   "id": "da0e7600-4014-424f-a7cf-66c82bc18eb3",
   "metadata": {},
   "outputs": [],
   "source": [
    "molsys = msm.convert('memb_popc_100_stage_2_4.h5msm')"
   ]
  },
  {
   "cell_type": "code",
   "execution_count": 3,
   "id": "12a09581-b803-4b64-ba7e-48cb63ead629",
   "metadata": {},
   "outputs": [],
   "source": [
    "P_atoms = msm.select(molsys, selection='atom_type==\"P\" and molecule_type==\"lipid\"')\n",
    "N_atoms = msm.select(molsys, selection='atom_type==\"N\" and molecule_type==\"lipid\"')\n",
    "O_atoms = msm.select(molsys, selection='atom_type==\"O\" and molecule_type==\"lipid\"')\n",
    "C_atoms = msm.select(molsys, selection='atom_type==\"C\" and molecule_type==\"lipid\"')\n",
    "OW_atoms = msm.select(molsys, selection='atom_type==\"O\" and molecule_type==\"water\"')\n",
    "\n",
    "PO_heads_atoms = msm.select(molsys, selection='atom_name in [\"P\",\"O11\",\"O12\",\"O13\",\"O14\"] and molecule_type==\"lipid\"')"
   ]
  },
  {
   "cell_type": "code",
   "execution_count": 4,
   "id": "796ed02c-2486-459e-a74f-36630ec4c600",
   "metadata": {},
   "outputs": [],
   "source": [
    "topology = msm.convert(molsys, 'openmm.topology')\n",
    "positions = msm.get(molsys, coordinates=True)"
   ]
  },
  {
   "cell_type": "code",
   "execution_count": 5,
   "id": "b045c323-1ef4-4895-af22-2b8822c763f6",
   "metadata": {},
   "outputs": [],
   "source": [
    "forcefield = mm.app.ForceField(\"amber14-all.xml\", \"amber14/tip3p.xml\")"
   ]
  },
  {
   "cell_type": "code",
   "execution_count": 6,
   "id": "52060d87-a3a8-490d-922a-85d584a28755",
   "metadata": {},
   "outputs": [],
   "source": [
    "system = forcefield.createSystem(topology, nonbondedMethod=app.PME, nonbondedCutoff=1.2*u.nanometer, constraints=app.HBonds)"
   ]
  },
  {
   "cell_type": "code",
   "execution_count": 7,
   "id": "ed59a783-16b0-45cf-83ab-6f772b7772f3",
   "metadata": {},
   "outputs": [],
   "source": [
    "friction = 1 / u.picosecond\n",
    "timestep = 2 * u.femtoseconds\n",
    "temperature = 0 * u.kelvin\n",
    "integrator = mm.LangevinIntegrator(temperature, friction, timestep)"
   ]
  },
  {
   "cell_type": "code",
   "execution_count": 8,
   "id": "ff6f54de-cddd-4b78-bdd3-5d6990d18f2e",
   "metadata": {},
   "outputs": [],
   "source": [
    "platform = mm.Platform.getPlatformByName(\"CUDA\")"
   ]
  },
  {
   "cell_type": "code",
   "execution_count": 9,
   "id": "5df6bfe6-2c83-47d7-8645-5b7ce769ebd1",
   "metadata": {},
   "outputs": [],
   "source": [
    "simulation = app.Simulation(topology, system, integrator, platform)\n",
    "simulation.context.setPositions(msm.pyunitwizard.convert(positions[0], to_form='openmm.unit'))"
   ]
  },
  {
   "cell_type": "code",
   "execution_count": 10,
   "id": "96c86bfb-ebe0-4e47-bbd8-583b8870b203",
   "metadata": {},
   "outputs": [],
   "source": [
    "msm.thirds.openmm.forces.harmonic_potential_to_coordinates(simulation, selection=PO_heads_atoms,\n",
    "                                                          force_constant=1000.0*u.kilojoules_per_mole/(u.nanometer**2),\n",
    "                                                          pbc=True, adding_force=True)"
   ]
  },
  {
   "cell_type": "code",
   "execution_count": 11,
   "id": "8a1aabcd-44b9-4598-9728-123956943da2",
   "metadata": {},
   "outputs": [],
   "source": [
    "simulation.minimizeEnergy()"
   ]
  },
  {
   "cell_type": "code",
   "execution_count": 12,
   "id": "01c06067-e317-4711-80b8-24910ad9600d",
   "metadata": {},
   "outputs": [],
   "source": [
    "reporter = app.StateDataReporter(stdout, 10000, step=True, potentialEnergy=True, temperature=True)\n",
    "simulation.reporters = [reporter]"
   ]
  },
  {
   "cell_type": "code",
   "execution_count": 13,
   "id": "b3308d40-66e6-41ec-9e8d-41ee0d91e13d",
   "metadata": {},
   "outputs": [
    {
     "name": "stdout",
     "output_type": "stream",
     "text": [
      "#\"Step\",\"Potential Energy (kJ/mole)\",\"Temperature (K)\"\n",
      "10000,-839554.9521373888,50.144426720606624\n",
      "20000,-842197.3447155138,50.46601876780765\n",
      "30000,-843693.3290905138,50.251589027376404\n",
      "40000,-844760.1064342638,50.164110233326035\n",
      "50000,-845500.7411998888,50.075731927046796\n",
      "60000,-816850.9540905138,99.62311213055166\n",
      "70000,-820127.3505748888,99.7914062770469\n",
      "80000,-822285.3974498888,100.5560200383334\n",
      "90000,-823247.6083873888,99.62273017414032\n",
      "100000,-824065.3290905138,99.76086434248563\n",
      "110000,-792427.2314342638,149.94360885303522\n",
      "120000,-795658.1708873888,150.3647116094637\n",
      "130000,-796891.1025280138,149.8097881263508\n",
      "140000,-798804.2314342638,150.8526689348283\n",
      "150000,-799850.7958873888,150.13017914873436\n",
      "160000,-758072.5576061388,200.37605657065907\n",
      "170000,-757930.7509655138,199.76686398079914\n",
      "180000,-758453.3720592638,200.73376873305816\n",
      "190000,-761095.4326061388,199.59839927655474\n",
      "200000,-761362.1357311388,199.63484700842162\n",
      "210000,-707889.0419811388,249.61078629022606\n",
      "220000,-709242.4130748888,249.89014932164642\n"
     ]
    },
    {
     "ename": "KeyboardInterrupt",
     "evalue": "",
     "output_type": "error",
     "traceback": [
      "\u001b[0;31m---------------------------------------------------------------------------\u001b[0m",
      "\u001b[0;31mKeyboardInterrupt\u001b[0m                         Traceback (most recent call last)",
      "\u001b[0;32m/tmp/ipykernel_2137280/3254510308.py\u001b[0m in \u001b[0;36m?\u001b[0;34m()\u001b[0m\n\u001b[1;32m      6\u001b[0m \u001b[0msimulation\u001b[0m\u001b[0;34m.\u001b[0m\u001b[0mstep\u001b[0m\u001b[0;34m(\u001b[0m\u001b[0;36m50000\u001b[0m\u001b[0;34m)\u001b[0m\u001b[0;34m\u001b[0m\u001b[0;34m\u001b[0m\u001b[0m\n\u001b[1;32m      7\u001b[0m \u001b[0msimulation\u001b[0m\u001b[0;34m.\u001b[0m\u001b[0mintegrator\u001b[0m\u001b[0;34m.\u001b[0m\u001b[0msetTemperature\u001b[0m\u001b[0;34m(\u001b[0m\u001b[0;36m200\u001b[0m\u001b[0;34m*\u001b[0m\u001b[0mu\u001b[0m\u001b[0;34m.\u001b[0m\u001b[0mkelvin\u001b[0m\u001b[0;34m)\u001b[0m\u001b[0;34m\u001b[0m\u001b[0;34m\u001b[0m\u001b[0m\n\u001b[1;32m      8\u001b[0m \u001b[0msimulation\u001b[0m\u001b[0;34m.\u001b[0m\u001b[0mstep\u001b[0m\u001b[0;34m(\u001b[0m\u001b[0;36m50000\u001b[0m\u001b[0;34m)\u001b[0m\u001b[0;34m\u001b[0m\u001b[0;34m\u001b[0m\u001b[0m\n\u001b[1;32m      9\u001b[0m \u001b[0msimulation\u001b[0m\u001b[0;34m.\u001b[0m\u001b[0mintegrator\u001b[0m\u001b[0;34m.\u001b[0m\u001b[0msetTemperature\u001b[0m\u001b[0;34m(\u001b[0m\u001b[0;36m250\u001b[0m\u001b[0;34m*\u001b[0m\u001b[0mu\u001b[0m\u001b[0;34m.\u001b[0m\u001b[0mkelvin\u001b[0m\u001b[0;34m)\u001b[0m\u001b[0;34m\u001b[0m\u001b[0;34m\u001b[0m\u001b[0m\n\u001b[0;32m---> 10\u001b[0;31m \u001b[0msimulation\u001b[0m\u001b[0;34m.\u001b[0m\u001b[0mstep\u001b[0m\u001b[0;34m(\u001b[0m\u001b[0;36m50000\u001b[0m\u001b[0;34m)\u001b[0m\u001b[0;34m\u001b[0m\u001b[0;34m\u001b[0m\u001b[0m\n\u001b[0m\u001b[1;32m     11\u001b[0m \u001b[0msimulation\u001b[0m\u001b[0;34m.\u001b[0m\u001b[0mintegrator\u001b[0m\u001b[0;34m.\u001b[0m\u001b[0msetTemperature\u001b[0m\u001b[0;34m(\u001b[0m\u001b[0;36m300\u001b[0m\u001b[0;34m*\u001b[0m\u001b[0mu\u001b[0m\u001b[0;34m.\u001b[0m\u001b[0mkelvin\u001b[0m\u001b[0;34m)\u001b[0m\u001b[0;34m\u001b[0m\u001b[0;34m\u001b[0m\u001b[0m\n\u001b[1;32m     12\u001b[0m \u001b[0msimulation\u001b[0m\u001b[0;34m.\u001b[0m\u001b[0mstep\u001b[0m\u001b[0;34m(\u001b[0m\u001b[0;36m250000\u001b[0m\u001b[0;34m)\u001b[0m\u001b[0;34m\u001b[0m\u001b[0;34m\u001b[0m\u001b[0m\n",
      "\u001b[0;32m~/miniconda3/envs/OMembrane@uibcdf_3.11/lib/python3.11/site-packages/openmm/app/simulation.py\u001b[0m in \u001b[0;36m?\u001b[0;34m(self, steps)\u001b[0m\n\u001b[1;32m    146\u001b[0m         \u001b[0;34m\"\"\"Advance the simulation by integrating a specified number of time steps.\"\"\"\u001b[0m\u001b[0;34m\u001b[0m\u001b[0;34m\u001b[0m\u001b[0m\n\u001b[1;32m    147\u001b[0m         \u001b[0;32mif\u001b[0m \u001b[0mint\u001b[0m\u001b[0;34m(\u001b[0m\u001b[0msteps\u001b[0m\u001b[0;34m)\u001b[0m \u001b[0;34m!=\u001b[0m \u001b[0msteps\u001b[0m\u001b[0;34m:\u001b[0m\u001b[0;34m\u001b[0m\u001b[0;34m\u001b[0m\u001b[0m\n\u001b[1;32m    148\u001b[0m             \u001b[0;32mraise\u001b[0m \u001b[0mTypeError\u001b[0m\u001b[0;34m(\u001b[0m\u001b[0;34mf'Expected an integer for steps, got {type(steps)}'\u001b[0m\u001b[0;34m)\u001b[0m\u001b[0;34m\u001b[0m\u001b[0;34m\u001b[0m\u001b[0m\n\u001b[1;32m    149\u001b[0m \u001b[0;34m\u001b[0m\u001b[0m\n\u001b[0;32m--> 150\u001b[0;31m         \u001b[0mself\u001b[0m\u001b[0;34m.\u001b[0m\u001b[0m_simulate\u001b[0m\u001b[0;34m(\u001b[0m\u001b[0mendStep\u001b[0m\u001b[0;34m=\u001b[0m\u001b[0mself\u001b[0m\u001b[0;34m.\u001b[0m\u001b[0mcurrentStep\u001b[0m\u001b[0;34m+\u001b[0m\u001b[0msteps\u001b[0m\u001b[0;34m)\u001b[0m\u001b[0;34m\u001b[0m\u001b[0;34m\u001b[0m\u001b[0m\n\u001b[0m",
      "\u001b[0;32m~/miniconda3/envs/OMembrane@uibcdf_3.11/lib/python3.11/site-packages/openmm/app/simulation.py\u001b[0m in \u001b[0;36m?\u001b[0;34m(self, endStep, endTime)\u001b[0m\n\u001b[1;32m    225\u001b[0m                     \u001b[0mnextSteps\u001b[0m \u001b[0;34m=\u001b[0m \u001b[0msteps\u001b[0m\u001b[0;34m\u001b[0m\u001b[0;34m\u001b[0m\u001b[0m\n\u001b[1;32m    226\u001b[0m                     \u001b[0manyReport\u001b[0m \u001b[0;34m=\u001b[0m \u001b[0;32mTrue\u001b[0m\u001b[0;34m\u001b[0m\u001b[0;34m\u001b[0m\u001b[0m\n\u001b[1;32m    227\u001b[0m             \u001b[0mstepsToGo\u001b[0m \u001b[0;34m=\u001b[0m \u001b[0mnextSteps\u001b[0m\u001b[0;34m\u001b[0m\u001b[0;34m\u001b[0m\u001b[0m\n\u001b[1;32m    228\u001b[0m             \u001b[0;32mwhile\u001b[0m \u001b[0mstepsToGo\u001b[0m \u001b[0;34m>\u001b[0m \u001b[0;36m10\u001b[0m\u001b[0;34m:\u001b[0m\u001b[0;34m\u001b[0m\u001b[0;34m\u001b[0m\u001b[0m\n\u001b[0;32m--> 229\u001b[0;31m                 \u001b[0mself\u001b[0m\u001b[0;34m.\u001b[0m\u001b[0mintegrator\u001b[0m\u001b[0;34m.\u001b[0m\u001b[0mstep\u001b[0m\u001b[0;34m(\u001b[0m\u001b[0;36m10\u001b[0m\u001b[0;34m)\u001b[0m \u001b[0;31m# Only take 10 steps at a time, to give Python more chances to respond to a control-c.\u001b[0m\u001b[0;34m\u001b[0m\u001b[0;34m\u001b[0m\u001b[0m\n\u001b[0m\u001b[1;32m    230\u001b[0m                 \u001b[0mstepsToGo\u001b[0m \u001b[0;34m-=\u001b[0m \u001b[0;36m10\u001b[0m\u001b[0;34m\u001b[0m\u001b[0;34m\u001b[0m\u001b[0m\n\u001b[1;32m    231\u001b[0m                 \u001b[0;32mif\u001b[0m \u001b[0mendTime\u001b[0m \u001b[0;32mis\u001b[0m \u001b[0;32mnot\u001b[0m \u001b[0;32mNone\u001b[0m \u001b[0;32mand\u001b[0m \u001b[0mdatetime\u001b[0m\u001b[0;34m.\u001b[0m\u001b[0mnow\u001b[0m\u001b[0;34m(\u001b[0m\u001b[0;34m)\u001b[0m \u001b[0;34m>=\u001b[0m \u001b[0mendTime\u001b[0m\u001b[0;34m:\u001b[0m\u001b[0;34m\u001b[0m\u001b[0;34m\u001b[0m\u001b[0m\n\u001b[1;32m    232\u001b[0m                     \u001b[0;32mreturn\u001b[0m\u001b[0;34m\u001b[0m\u001b[0;34m\u001b[0m\u001b[0m\n",
      "\u001b[0;32m~/miniconda3/envs/OMembrane@uibcdf_3.11/lib/python3.11/site-packages/openmm/openmm.py\u001b[0m in \u001b[0;36m?\u001b[0;34m(self, steps)\u001b[0m\n\u001b[1;32m   3264\u001b[0m         \u001b[0;34m-\u001b[0m\u001b[0;34m-\u001b[0m\u001b[0;34m-\u001b[0m\u001b[0;34m-\u001b[0m\u001b[0;34m-\u001b[0m\u001b[0;34m-\u001b[0m\u001b[0;34m-\u001b[0m\u001b[0;34m-\u001b[0m\u001b[0;34m-\u001b[0m\u001b[0;34m-\u001b[0m\u001b[0;34m\u001b[0m\u001b[0;34m\u001b[0m\u001b[0m\n\u001b[1;32m   3265\u001b[0m         \u001b[0msteps\u001b[0m \u001b[0;34m:\u001b[0m \u001b[0mint\u001b[0m\u001b[0;34m\u001b[0m\u001b[0;34m\u001b[0m\u001b[0m\n\u001b[1;32m   3266\u001b[0m             \u001b[0mthe\u001b[0m \u001b[0mnumber\u001b[0m \u001b[0mof\u001b[0m \u001b[0mtime\u001b[0m \u001b[0msteps\u001b[0m \u001b[0mto\u001b[0m \u001b[0mtake\u001b[0m\u001b[0;34m\u001b[0m\u001b[0;34m\u001b[0m\u001b[0m\n\u001b[1;32m   3267\u001b[0m         \"\"\"\n\u001b[0;32m-> 3268\u001b[0;31m         \u001b[0;32mreturn\u001b[0m \u001b[0m_openmm\u001b[0m\u001b[0;34m.\u001b[0m\u001b[0mLangevinMiddleIntegrator_step\u001b[0m\u001b[0;34m(\u001b[0m\u001b[0mself\u001b[0m\u001b[0;34m,\u001b[0m \u001b[0msteps\u001b[0m\u001b[0;34m)\u001b[0m\u001b[0;34m\u001b[0m\u001b[0;34m\u001b[0m\u001b[0m\n\u001b[0m",
      "\u001b[0;31mKeyboardInterrupt\u001b[0m: "
     ]
    }
   ],
   "source": [
    "simulation.integrator.setTemperature(50*u.kelvin)\n",
    "simulation.step(50000)\n",
    "simulation.integrator.setTemperature(100*u.kelvin)\n",
    "simulation.step(50000)\n",
    "simulation.integrator.setTemperature(150*u.kelvin)\n",
    "simulation.step(50000)\n",
    "simulation.integrator.setTemperature(200*u.kelvin)\n",
    "simulation.step(50000)\n",
    "simulation.integrator.setTemperature(250*u.kelvin)\n",
    "simulation.step(50000)\n",
    "simulation.integrator.setTemperature(300*u.kelvin)\n",
    "simulation.step(250000)"
   ]
  },
  {
   "cell_type": "code",
   "execution_count": null,
   "id": "70d40788-e547-4027-859e-be96eb9254bd",
   "metadata": {},
   "outputs": [],
   "source": []
  },
  {
   "cell_type": "code",
   "execution_count": null,
   "id": "9599f56d-126a-450f-8b93-7a02684ca540",
   "metadata": {},
   "outputs": [],
   "source": []
  },
  {
   "cell_type": "code",
   "execution_count": null,
   "id": "7a5cac6d-7225-4cab-a5ff-c9a205c25521",
   "metadata": {},
   "outputs": [],
   "source": []
  },
  {
   "cell_type": "code",
   "execution_count": null,
   "id": "55fd293a-ee2c-4a7f-be90-6719b6dee497",
   "metadata": {},
   "outputs": [],
   "source": [
    "state_init = context.getState(getPositions=True)"
   ]
  },
  {
   "cell_type": "code",
   "execution_count": null,
   "id": "c349397c-d349-495c-82cc-6e3c30125b91",
   "metadata": {},
   "outputs": [],
   "source": [
    "msm.molecular_mechanics.get_potential_energy(context)"
   ]
  },
  {
   "cell_type": "code",
   "execution_count": null,
   "id": "39654dcd-b304-45e9-b6c3-094547e07ef8",
   "metadata": {},
   "outputs": [],
   "source": [
    "LocalEnergyMinimizer.minimize(context)"
   ]
  },
  {
   "cell_type": "code",
   "execution_count": null,
   "id": "05c9d2f5-6a12-4108-9fcf-c98de073d93d",
   "metadata": {},
   "outputs": [],
   "source": [
    "msm.molecular_mechanics.get_potential_energy(context)"
   ]
  },
  {
   "cell_type": "code",
   "execution_count": null,
   "id": "6846cfbe-b116-413b-b54e-87363b6cf68a",
   "metadata": {},
   "outputs": [],
   "source": [
    "state_end = context.getState(getPositions=True)"
   ]
  },
  {
   "cell_type": "code",
   "execution_count": null,
   "id": "5c1178e7-326f-4d91-bdd9-322bd299d87e",
   "metadata": {},
   "outputs": [],
   "source": [
    "bins_edges_P_init, density_P_init = omem.analysis.get_lineal_density(molsys, selection = P_atoms, axis = [0,0,1],\n",
    "                                                       bins = 80, range=\"[-6.0, 6.0] nm\", normalized=True)\n",
    "bins_edges_N_init, density_N_init = omem.analysis.get_lineal_density(molsys, selection = N_atoms, axis = [0,0,1],\n",
    "                                                       bins = 80, range=\"[-6.0, 6.0] nm\", normalized=True)\n",
    "bins_edges_C_init, density_C_init = omem.analysis.get_lineal_density(molsys, selection = C_atoms, axis = [0,0,1],\n",
    "                                                       bins = 80, range=\"[-6.0, 6.0] nm\", normalized=True)\n",
    "bins_edges_O_init, density_O_init = omem.analysis.get_lineal_density(molsys, selection = O_atoms, axis = [0,0,1],\n",
    "                                                       bins = 80, range=\"[-6.0, 6.0] nm\", normalized=True)\n",
    "bins_edges_OW_init, density_OW_init = omem.analysis.get_lineal_density(molsys, selection=OW_atoms, axis = [0,0,1],\n",
    "                                                       bins = 80, range=\"[-6.0, 6.0] nm\", normalized=True)\n",
    "\n",
    "\n",
    "plt.rcParams[\"figure.figsize\"] = (6,4)\n",
    "plt.plot((bins_edges_P_init[1:]+bins_edges_P_init[:-1])/2, density_P_init, label='P')\n",
    "plt.plot((bins_edges_N_init[1:]+bins_edges_N_init[:-1])/2, density_N_init, label='N')\n",
    "plt.plot((bins_edges_C_init[1:]+bins_edges_C_init[:-1])/2, density_C_init, label='C')\n",
    "plt.plot((bins_edges_O_init[1:]+bins_edges_O_init[:-1])/2, density_O_init, label='O')\n",
    "plt.plot((bins_edges_OW_init[1:]+bins_edges_OW_init[:-1])/2, density_OW_init, label='OW')\n",
    "plt.legend()"
   ]
  },
  {
   "cell_type": "code",
   "execution_count": null,
   "id": "c2658ff6-9577-4fb3-8422-345794f01db9",
   "metadata": {},
   "outputs": [],
   "source": [
    "bins_edges_P_end, density_P_end = omem.analysis.get_lineal_density(state_end, selection = P_atoms, axis = [0,0,1],\n",
    "                                                       bins = 80, range=\"[-6.0, 6.0] nm\", normalized=True)\n",
    "bins_edges_N_end, density_N_end = omem.analysis.get_lineal_density(state_end, selection = N_atoms, axis = [0,0,1],\n",
    "                                                       bins = 80, range=\"[-6.0, 6.0] nm\", normalized=True)\n",
    "bins_edges_C_end, density_C_end = omem.analysis.get_lineal_density(state_end, selection = C_atoms, axis = [0,0,1],\n",
    "                                                       bins = 80, range=\"[-6.0, 6.0] nm\", normalized=True)\n",
    "bins_edges_O_end, density_O_end = omem.analysis.get_lineal_density(state_end, selection = O_atoms, axis = [0,0,1],\n",
    "                                                       bins = 80, range=\"[-6.0, 6.0] nm\", normalized=True)\n",
    "bins_edges_OW_end, density_OW_end = omem.analysis.get_lineal_density(state_end, selection=OW_atoms, axis = [0,0,1],\n",
    "                                                       bins = 80, range=\"[-6.0, 6.0] nm\", normalized=True)\n",
    "\n",
    "plt.rcParams[\"figure.figsize\"] = (6,4)\n",
    "plt.plot((bins_edges_P_end[1:]+bins_edges_P_end[:-1])/2, density_P_end, label='P')\n",
    "plt.plot((bins_edges_N_end[1:]+bins_edges_N_end[:-1])/2, density_N_end, label='N')\n",
    "plt.plot((bins_edges_C_end[1:]+bins_edges_C_end[:-1])/2, density_C_end, label='C')\n",
    "plt.plot((bins_edges_O_end[1:]+bins_edges_O_end[:-1])/2, density_O_end, label='O')\n",
    "plt.plot((bins_edges_OW_end[1:]+bins_edges_OW_end[:-1])/2, density_OW_end, label='OW')\n",
    "plt.legend()\n",
    "plt.show()"
   ]
  },
  {
   "cell_type": "code",
   "execution_count": null,
   "id": "42beba88-a13a-4173-98b1-975220890ed1",
   "metadata": {},
   "outputs": [],
   "source": [
    "shifts_P = msm.structure.get_distances(molecular_system=state_init, molecular_system_2=state_end,\n",
    "                                       selection=P_atoms, pairs=True, pbc=True)\n",
    "shifts_N = msm.structure.get_distances(molecular_system=state_init, molecular_system_2=state_end,\n",
    "                                       selection=N_atoms, pairs=True, pbc=True)\n",
    "shifts_C = msm.structure.get_distances(molecular_system=state_init, molecular_system_2=state_end,\n",
    "                                       selection=C_atoms, pairs=True, pbc=True)\n",
    "shifts_O = msm.structure.get_distances(molecular_system=state_init, molecular_system_2=state_end,\n",
    "                                       selection=O_atoms, pairs=True, pbc=True)\n",
    "shifts_OW = msm.structure.get_distances(molecular_system=state_init, molecular_system_2=state_end,\n",
    "                                       selection=OW_atoms, pairs=True, pbc=True)\n",
    "\n",
    "h_P, bins = np.histogram(puw.get_value(shifts_P[0]), range=[0.0, 1.0], bins=20, density=True)\n",
    "h_N, bins = np.histogram(puw.get_value(shifts_N[0]), range=[0.0, 1.0], bins=20, density=True)\n",
    "h_C, bins = np.histogram(puw.get_value(shifts_C[0]), range=[0.0, 1.0], bins=20, density=True)\n",
    "h_O, bins = np.histogram(puw.get_value(shifts_O[0]), range=[0.0, 1.0], bins=20, density=True)\n",
    "h_OW, bins = np.histogram(puw.get_value(shifts_OW[0]), range=[0.0, 1.0], bins=20, density=True)\n",
    "\n",
    "plt.plot(0.5*(bins[1:]+bins[:-1]), h_P, label='P')\n",
    "plt.plot(0.5*(bins[1:]+bins[:-1]), h_N, label='N')\n",
    "plt.plot(0.5*(bins[1:]+bins[:-1]), h_C, label='C')\n",
    "plt.plot(0.5*(bins[1:]+bins[:-1]), h_O, label='O')\n",
    "plt.plot(0.5*(bins[1:]+bins[:-1]), h_OW, label='OW')\n",
    "plt.legend()\n",
    "plt.show()"
   ]
  },
  {
   "cell_type": "code",
   "execution_count": null,
   "id": "8982240c-0fc9-4160-917a-35193ff15d7f",
   "metadata": {},
   "outputs": [],
   "source": [
    "forces = msm.molecular_mechanics.get_forces(context, norm=True)\n",
    "h, bins = np.histogram(puw.get_value(forces), bins=100, density=True)\n",
    "plt.plot(0.5*(bins[1:]+bins[:-1]), h)\n",
    "plt.show()"
   ]
  },
  {
   "cell_type": "code",
   "execution_count": null,
   "id": "a6ef2219-ee2c-4869-8a33-1ccfa66aa012",
   "metadata": {},
   "outputs": [],
   "source": [
    "#memb_antes = msm.extract(molsys, selection='molecule_type==\"lipid\"', to_form='molsysmt.MolSys')\n",
    "#memb_despues = msm.extract([molsys, context], selection='molecule_type==\"lipid\"', to_form='molsysmt.MolSys')"
   ]
  },
  {
   "cell_type": "code",
   "execution_count": null,
   "id": "2bf5aa39-2055-4f46-91ff-8d9c22719d0a",
   "metadata": {},
   "outputs": [],
   "source": [
    "#msm.view(memb_despues)"
   ]
  },
  {
   "cell_type": "code",
   "execution_count": null,
   "id": "ecb23357-dd17-49ec-b32c-fecccd36fd4c",
   "metadata": {},
   "outputs": [],
   "source": [
    "coordinates = msm.get(state_end, coordinates=True)\n",
    "msm.set(molsys, coordinates=coordinates)"
   ]
  },
  {
   "cell_type": "code",
   "execution_count": null,
   "id": "17b04bb2-aea6-4697-af77-9c5f39dc2432",
   "metadata": {},
   "outputs": [],
   "source": [
    "msm.convert(molsys, 'memb_popc_100_stage_2_4.h5msm')"
   ]
  },
  {
   "cell_type": "code",
   "execution_count": null,
   "id": "be6972fb-f498-4350-ae8d-c276547a046e",
   "metadata": {},
   "outputs": [],
   "source": []
  }
 ],
 "metadata": {
  "kernelspec": {
   "display_name": "Python 3 (ipykernel)",
   "language": "python",
   "name": "python3"
  },
  "language_info": {
   "codemirror_mode": {
    "name": "ipython",
    "version": 3
   },
   "file_extension": ".py",
   "mimetype": "text/x-python",
   "name": "python",
   "nbconvert_exporter": "python",
   "pygments_lexer": "ipython3",
   "version": "3.11.11"
  }
 },
 "nbformat": 4,
 "nbformat_minor": 5
}
