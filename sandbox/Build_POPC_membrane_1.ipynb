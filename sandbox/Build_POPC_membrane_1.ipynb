{
 "cells": [
  {
   "cell_type": "code",
   "execution_count": null,
   "id": "e99a54e2-6928-4c48-a83a-8de21f8bba6b",
   "metadata": {},
   "outputs": [],
   "source": [
    "import molsysmt as msm\n",
    "from molsysmt import pyunitwizard as puw\n",
    "import omembrane as omem\n",
    "import openmm as mm\n",
    "from openmm import unit as u\n",
    "import numpy as np\n",
    "import math\n",
    "from matplotlib import pyplot as plt\n",
    "from tqdm import tqdm"
   ]
  },
  {
   "cell_type": "code",
   "execution_count": null,
   "id": "fe3ce0e7-b598-4726-9341-b0ebd6688fb1",
   "metadata": {},
   "outputs": [],
   "source": [
    "n_popc_up = 100\n",
    "n_popc_low = 100\n",
    "\n",
    "upper_composition={'POPC':n_popc_up}\n",
    "lower_composition={'POPC':n_popc_low}"
   ]
  },
  {
   "cell_type": "code",
   "execution_count": null,
   "id": "ea0a6a72-4c48-40dd-b283-da9c204258e1",
   "metadata": {},
   "outputs": [],
   "source": [
    "length_x, length_y = omem.build.get_membrane_size_from_composition(lower_composition, upper_composition)"
   ]
  },
  {
   "cell_type": "code",
   "execution_count": null,
   "id": "86c427e6-df6a-4723-a68d-c4402bdb803b",
   "metadata": {},
   "outputs": [],
   "source": [
    "print(length_x, length_y)"
   ]
  },
  {
   "cell_type": "code",
   "execution_count": null,
   "id": "e89069c0-74eb-4873-ad05-f22693a60e16",
   "metadata": {},
   "outputs": [],
   "source": [
    "upper_lipid_radius = []\n",
    "upper_lipid_type = []\n",
    "n_upper_lipids = 0\n",
    "    \n",
    "for name, nn in upper_composition.items():\n",
    "        \n",
    "    upper_lipid_type += [name for ii in range(nn)]\n",
    "    upper_lipid_radius += [omem.lipid.get_radius(name) for ii in range(nn)]\n",
    "    n_upper_lipids += nn\n",
    "\n",
    "lower_lipid_radius = []\n",
    "lower_lipid_type = []\n",
    "n_lower_lipids = 0\n",
    "    \n",
    "for name, nn in lower_composition.items():\n",
    "        \n",
    "    lower_lipid_type += [name for ii in range(nn)]\n",
    "    lower_lipid_radius += [omem.lipid.get_radius(name) for ii in range(nn)]\n",
    "    n_lower_lipids += nn"
   ]
  },
  {
   "cell_type": "code",
   "execution_count": null,
   "id": "1663e728-d2c3-4c8f-b027-358c96103895",
   "metadata": {},
   "outputs": [],
   "source": [
    "upper_positions = omem.build.get_initial_random_seeds_leaf(upper_lipid_radius, length_x, length_y)"
   ]
  },
  {
   "cell_type": "code",
   "execution_count": null,
   "id": "393d74b9-289e-4a47-bebc-ee0cdcacf70d",
   "metadata": {},
   "outputs": [],
   "source": [
    "lower_positions = omem.build.get_initial_random_seeds_leaf(lower_lipid_radius, length_x, length_y)"
   ]
  },
  {
   "cell_type": "code",
   "execution_count": null,
   "id": "650e0127-99fd-4184-8e83-3bb6654edd54",
   "metadata": {},
   "outputs": [],
   "source": [
    "plt.rcParams[\"figure.figsize\"] = (10,10)\n",
    "\n",
    "ax=plt.gca()\n",
    "for ii in range(n_upper_lipids):\n",
    "    ax.add_patch(plt.Circle(10.0*upper_positions[ii,:]._value, radius= upper_lipid_radius[ii]._value, color='k', fill=False))\n",
    "\n",
    "plt.scatter(10.0*upper_positions[:,0]._value, 10.0*upper_positions[:,1]._value, s=5, c='k')\n",
    "\n",
    "plt.axis('scaled')\n",
    "\n",
    "plt.show()"
   ]
  },
  {
   "cell_type": "code",
   "execution_count": null,
   "id": "8fe3dbf8-56db-462d-8276-e9118b7a00b0",
   "metadata": {},
   "outputs": [],
   "source": [
    "plt.rcParams[\"figure.figsize\"] = (10,10)\n",
    "\n",
    "ax=plt.gca()\n",
    "for ii in range(n_lower_lipids):\n",
    "    ax.add_patch(plt.Circle(10.0*lower_positions[ii,:]._value, radius= lower_lipid_radius[ii]._value, color='k', fill=False))\n",
    "    \n",
    "plt.scatter(10.0*lower_positions[:,0]._value, 10.0*lower_positions[:,1]._value, s=5, c='k')\n",
    "\n",
    "plt.axis('scaled')\n",
    "\n",
    "plt.show()"
   ]
  },
  {
   "cell_type": "code",
   "execution_count": null,
   "id": "ebfdb981-6640-4913-a117-b1fc36fab960",
   "metadata": {},
   "outputs": [],
   "source": [
    "## Upper leaflet\n",
    "\n",
    "lipids = omem.lipid.get_random_lipid('POPC', n_popc_up)\n",
    "\n",
    "for ii in tqdm(range(n_popc_up)):\n",
    "    lipid = lipids[ii]\n",
    "    position = upper_positions[ii]\n",
    "    msm.structure.translate(lipid, translation=position, in_place=True)\n",
    "\n",
    "upper_leaflet = msm.merge(lipids)\n",
    "msm.build.define_new_chain(upper_leaflet, selection='all', id='U')"
   ]
  },
  {
   "cell_type": "code",
   "execution_count": null,
   "id": "5fa47670-0f7c-4821-beac-abf8733dd9c0",
   "metadata": {},
   "outputs": [],
   "source": [
    "## Lower leaflet\n",
    "\n",
    "lipids = omem.lipid.get_random_lipid('POPC', n_popc_low)\n",
    "\n",
    "for ii in tqdm(range(n_popc_low)):\n",
    "    lipid = lipids[ii]\n",
    "    position = lower_positions[ii]\n",
    "    msm.structure.translate(lipid, translation=position, in_place=True)\n",
    "    \n",
    "lower_leaflet = msm.merge(lipids)\n",
    "msm.structure.flip(lower_leaflet, in_place=True)\n",
    "msm.build.define_new_chain(lower_leaflet, selection='all', id='L')"
   ]
  },
  {
   "cell_type": "code",
   "execution_count": null,
   "id": "c35c1875-dc15-4e6c-86fe-e7e2ca3f258c",
   "metadata": {},
   "outputs": [],
   "source": [
    "allowed = 50\n",
    "\n",
    "bins_edges, frequency = omem.analysis.get_lineal_density(upper_leaflet, selection = 'all', axis = [0,0,1],\n",
    "                                                       bin_length = '0.1 nm', frequency=True)\n",
    "\n",
    "atoms_in = 0\n",
    "for inf_lim, n_atoms in zip(bins_edges[:-1], frequency):\n",
    "    atoms_in += n_atoms\n",
    "    if atoms_in>allowed:\n",
    "        break\n",
    "\n",
    "translation = puw.quantity(np.zeros((3)), 'nm')\n",
    "translation[2] = -inf_lim\n",
    "\n",
    "print(inf_lim, atoms_in)\n",
    "\n",
    "msm.structure.translate(upper_leaflet, translation=translation, in_place=True)\n",
    "\n",
    "bins_edges, frequency = omem.analysis.get_lineal_density(lower_leaflet, selection = 'all', axis = [0,0,1],\n",
    "                                                       bin_length = '0.1 nm', frequency=True)\n",
    "atoms_in = 0\n",
    "for inf_sup, n_atoms in zip(reversed(bins_edges[1:]), reversed(frequency)):\n",
    "    atoms_in += n_atoms\n",
    "    if atoms_in>allowed:\n",
    "        break\n",
    "\n",
    "translation[2] = -inf_sup\n",
    "\n",
    "print(inf_sup, atoms_in)\n",
    "\n",
    "msm.structure.translate(lower_leaflet, translation=translation, in_place=True)"
   ]
  },
  {
   "cell_type": "code",
   "execution_count": null,
   "id": "114c28c2-00ca-4e74-b56f-8ce34de880ac",
   "metadata": {},
   "outputs": [],
   "source": [
    "membrane = msm.merge([upper_leaflet, lower_leaflet])"
   ]
  },
  {
   "cell_type": "code",
   "execution_count": null,
   "id": "60a2c116-a78a-4448-a735-764d5546b510",
   "metadata": {},
   "outputs": [],
   "source": [
    "msm.view(membrane)"
   ]
  },
  {
   "cell_type": "code",
   "execution_count": null,
   "id": "bf9f73e8-12a7-418c-a711-60c569aa06db",
   "metadata": {},
   "outputs": [],
   "source": [
    "bins_edges, density_P = omem.analysis.get_lineal_density(membrane, selection = 'atom_name == \"P\"', axis = [0,0,1],\n",
    "                                                       bins = 80, range=\"[-3.5, 3.5] nm\")\n",
    "\n",
    "bins_edges, density_Any = omem.analysis.get_lineal_density(membrane, selection='all', axis = [0,0,1],\n",
    "                                                       bins = 80, range=\"[-3.5, 3.5] nm\")"
   ]
  },
  {
   "cell_type": "code",
   "execution_count": null,
   "id": "3e3d8430-6ee3-49a3-adc4-21ebc8ec68f7",
   "metadata": {},
   "outputs": [],
   "source": [
    "plt.rcParams[\"figure.figsize\"] = (6,4)\n",
    "plt.plot((bins_edges[1:]+bins_edges[:-1])/2, density_Any)\n",
    "plt.plot((bins_edges[1:]+bins_edges[:-1])/2, density_P)\n",
    "plt.show()"
   ]
  },
  {
   "cell_type": "code",
   "execution_count": null,
   "id": "05806dbd-ae74-4106-bdb1-3cc9107c0e19",
   "metadata": {},
   "outputs": [],
   "source": [
    "clearance = puw.quantity(3, 'nm')"
   ]
  },
  {
   "cell_type": "code",
   "execution_count": null,
   "id": "e4553ef3-deec-4735-a40a-882990fa4b93",
   "metadata": {},
   "outputs": [],
   "source": [
    "water_tile = msm.convert('../omembrane/data/water/spc216.gro')\n",
    "box_tile = msm.get(water_tile, box=True)[0]\n",
    "\n",
    "tiles = []\n",
    "\n",
    "box = puw.quantity([[0.0, 0.0, 0.0], [0.0, 0.0, 0.0], [0.0, 0.0, 0.0]], 'nm')\n",
    "box[0,0] = puw.convert(length_x, to_unit='nm', to_form='pint')\n",
    "box[1,1] = puw.convert(length_y, to_unit='nm', to_form='pint')\n",
    "box[2,2] = clearance\n",
    "\n",
    "delta_x_tiles = box_tile[0,0]\n",
    "n_x_tiles = np.ceil(box[0,0]/delta_x_tiles)\n",
    "n_x_tiles = int(n_x_tiles)\n",
    "print(n_x_tiles, delta_x_tiles, box[0,0])\n",
    "\n",
    "delta_y_tiles = box_tile[1,1]\n",
    "n_y_tiles = np.ceil(box[1,1]/delta_y_tiles)\n",
    "n_y_tiles = int(n_y_tiles)\n",
    "print(n_y_tiles, delta_y_tiles, box[1,1])\n",
    "\n",
    "delta_z_tiles = box_tile[2,2]\n",
    "n_z_tiles = np.ceil(box[2,2]/delta_z_tiles)\n",
    "n_z_tiles = int(n_z_tiles)\n",
    "print(n_z_tiles, delta_z_tiles, box[2,2])\n",
    "\n",
    "tiles = []\n",
    "\n",
    "for ii in tqdm(range(n_x_tiles)):\n",
    "    for jj in range(n_y_tiles):\n",
    "        for kk in range(n_z_tiles):\n",
    "\n",
    "            translation = puw.concatenate([(ii+0.5)*delta_x_tiles, (jj+0.5)*delta_y_tiles, (kk+0.5)*delta_z_tiles])\n",
    "            tile = msm.structure.translate(water_tile, translation=translation)\n",
    "            tiles.append(tile)\n",
    "\n",
    "water_semibox = msm.merge(tiles)"
   ]
  },
  {
   "cell_type": "code",
   "execution_count": null,
   "id": "f6d63dc6-46fa-4b85-8785-eabbbd3135e1",
   "metadata": {},
   "outputs": [],
   "source": [
    "group_indices, coordinates = msm.get(water_semibox, element='atom', selection='atom_type==\"O\"',\n",
    "                             group_index=True, coordinates=True)"
   ]
  },
  {
   "cell_type": "code",
   "execution_count": null,
   "id": "aa122733-58b7-4476-bb5d-393e98c99bc5",
   "metadata": {},
   "outputs": [],
   "source": [
    "len(group_indices)"
   ]
  },
  {
   "cell_type": "code",
   "execution_count": null,
   "id": "8173e178-1993-459a-8122-cb84d04f556d",
   "metadata": {},
   "outputs": [],
   "source": [
    "mask = (coordinates[0,:,0]>box[0,0]) | (coordinates[0,:,1]>box[1,1])| (coordinates[0,:,2]>box[2,2])\n",
    "group_indices = group_indices[mask]"
   ]
  },
  {
   "cell_type": "code",
   "execution_count": null,
   "id": "21a78df7-58fc-4953-8003-a41129fbd289",
   "metadata": {},
   "outputs": [],
   "source": [
    "water_semibox = msm.remove(water_semibox, selection='group_index == @group_indices')"
   ]
  },
  {
   "cell_type": "code",
   "execution_count": null,
   "id": "3f70c348-4c97-441f-9cf1-4347f9337de8",
   "metadata": {},
   "outputs": [],
   "source": [
    "msm.info(water_semibox)"
   ]
  },
  {
   "cell_type": "code",
   "execution_count": null,
   "id": "14c0a607-7ae5-474c-ac87-b8487ad3a371",
   "metadata": {},
   "outputs": [],
   "source": [
    "water_semibox_upper = water_semibox\n",
    "water_semibox_lower = msm.copy(water_semibox)\n",
    "msm.structure.flip(water_semibox_lower, in_place=True)"
   ]
  },
  {
   "cell_type": "code",
   "execution_count": null,
   "id": "555dde5b-a52e-4b80-b6f7-328f15f5f110",
   "metadata": {},
   "outputs": [],
   "source": [
    "coordinates_Ps = msm.get(membrane, selection='atom_name==\"P\"', coordinates=True)\n",
    "mask = coordinates_Ps[0,:,2]>0.0*puw.unit('nm')\n",
    "coordinates_Ps_upper = coordinates_Ps[0,mask,2].mean()\n",
    "coordinates_Ps_lower = coordinates_Ps[0,~mask,2].mean()"
   ]
  },
  {
   "cell_type": "code",
   "execution_count": null,
   "id": "ef57fb25-ad14-4273-9575-46c32b65e7a6",
   "metadata": {},
   "outputs": [],
   "source": [
    "translation = [0.0, 0.0, 0.0]*puw.unit('nm')\n",
    "v_shift = 0.2*puw.unit('nm')\n",
    "translation[2] = coordinates_Ps_upper + v_shift\n",
    "msm.structure.translate(water_semibox_upper, translation=translation, in_place=True)\n",
    "translation[2] = coordinates_Ps_lower - v_shift\n",
    "msm.structure.translate(water_semibox_lower, translation=translation, in_place=True)"
   ]
  },
  {
   "cell_type": "code",
   "execution_count": null,
   "id": "53932065-2607-4343-8005-7cae72f39b21",
   "metadata": {},
   "outputs": [],
   "source": [
    "top_z = coordinates_Ps_upper + clearance + v_shift\n",
    "bottom_z = coordinates_Ps_lower - clearance - v_shift\n",
    "length_z = top_z - bottom_z"
   ]
  },
  {
   "cell_type": "code",
   "execution_count": null,
   "id": "1cf18e4e-4348-43bc-995e-d56838943c99",
   "metadata": {},
   "outputs": [],
   "source": [
    "length_z"
   ]
  },
  {
   "cell_type": "code",
   "execution_count": null,
   "id": "67fdcb48-d43c-4e26-980d-20880a1b9bda",
   "metadata": {},
   "outputs": [],
   "source": [
    "water = msm.merge([water_semibox_lower, water_semibox_upper])\n",
    "msm.build.define_new_chain(water, selection='all', id='W')"
   ]
  },
  {
   "cell_type": "code",
   "execution_count": null,
   "id": "d1dca2a2-6292-49d6-85b8-0395e78d5f8c",
   "metadata": {},
   "outputs": [],
   "source": [
    "molecular_system = msm.merge([membrane, water])"
   ]
  },
  {
   "cell_type": "code",
   "execution_count": null,
   "id": "22d021dc-08d3-4ca9-b860-55673c53eff5",
   "metadata": {},
   "outputs": [],
   "source": [
    "msm.info(molecular_system)"
   ]
  },
  {
   "cell_type": "code",
   "execution_count": null,
   "id": "84fd8ec1-0597-42de-8ec6-5a3632eb11ed",
   "metadata": {},
   "outputs": [],
   "source": [
    "box = puw.quantity(np.zeros((3,3)), 'nm')\n",
    "\n",
    "box[0,0] = puw.convert(length_x, 'nm', to_form='pint')\n",
    "box[1,1] = puw.convert(length_y, 'nm', to_form='pint')\n",
    "box[2,2] = length_z\n",
    "\n",
    "msm.set(molecular_system, box=box)"
   ]
  },
  {
   "cell_type": "code",
   "execution_count": null,
   "id": "2f550019-a7b7-4a9f-bec0-12058c3d78bd",
   "metadata": {},
   "outputs": [],
   "source": [
    "selection_not_water = msm.select(molecular_system, selection='molecule_type!=\"water\" and atom_type!=\"H\"')\n",
    "selection_water = msm.select(molecular_system, selection='molecule_type==\"water\" and atom_type==\"H\"')\n",
    "neighs, dists = msm.structure.get_neighbors(molecular_system, selection=selection_not_water, selection_2=selection_water,\n",
    "                           threshold='3.5 angstroms', pbc=True)\n",
    "aux_list = np.unique(np.concatenate(neighs[0]))\n",
    "oxygens_to_be_removed = selection_water[aux_list]\n",
    "groups_to_be_removed = msm.get(molecular_system, selection=oxygens_to_be_removed, group_index=True)\n",
    "print(len(groups_to_be_removed))\n",
    "molecular_system = msm.remove(molecular_system, selection='group_index==@groups_to_be_removed')"
   ]
  },
  {
   "cell_type": "code",
   "execution_count": null,
   "id": "f4c4f278-0f5d-40a0-a8ef-d9d11ab12a57",
   "metadata": {},
   "outputs": [],
   "source": [
    "msm.info(molecular_system)"
   ]
  },
  {
   "cell_type": "code",
   "execution_count": null,
   "id": "9383d3d8-e0bc-4741-8ec5-73e609256d91",
   "metadata": {},
   "outputs": [],
   "source": [
    "msm.view(molecular_system, with_water_as='licorice')"
   ]
  },
  {
   "cell_type": "code",
   "execution_count": null,
   "id": "852ad55b-67b8-4951-8307-c0dfce4994b1",
   "metadata": {},
   "outputs": [],
   "source": [
    "msm.convert(molecular_system, 'memb_popc_100_stage_1.msmpk')"
   ]
  },
  {
   "cell_type": "code",
   "execution_count": null,
   "id": "97ad5fbc-e785-4fb4-b906-4d68aea4bd0b",
   "metadata": {},
   "outputs": [],
   "source": []
  }
 ],
 "metadata": {
  "kernelspec": {
   "display_name": "Python 3 (ipykernel)",
   "language": "python",
   "name": "python3"
  },
  "language_info": {
   "codemirror_mode": {
    "name": "ipython",
    "version": 3
   },
   "file_extension": ".py",
   "mimetype": "text/x-python",
   "name": "python",
   "nbconvert_exporter": "python",
   "pygments_lexer": "ipython3",
   "version": "3.10.12"
  }
 },
 "nbformat": 4,
 "nbformat_minor": 5
}
