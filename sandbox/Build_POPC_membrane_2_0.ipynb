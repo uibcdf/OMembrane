{
 "cells": [
  {
   "cell_type": "code",
   "execution_count": 1,
   "id": "9ddef09c-95d2-4d46-898d-5535600b08de",
   "metadata": {},
   "outputs": [
    {
     "data": {
      "application/vnd.jupyter.widget-view+json": {
       "model_id": "5d26f97992684f8b8cf4c6796417f01b",
       "version_major": 2,
       "version_minor": 0
      },
      "text/plain": []
     },
     "metadata": {},
     "output_type": "display_data"
    }
   ],
   "source": [
    "import molsysmt as msm\n",
    "from molsysmt import pyunitwizard as puw\n",
    "import omembrane as omem\n",
    "import openmm as mm\n",
    "from openmm import unit as u\n",
    "import numpy as np\n",
    "import math\n",
    "from matplotlib import pyplot as plt\n",
    "from tqdm import tqdm\n",
    "\n",
    "from openmm import LocalEnergyMinimizer"
   ]
  },
  {
   "cell_type": "code",
   "execution_count": 2,
   "id": "da0e7600-4014-424f-a7cf-66c82bc18eb3",
   "metadata": {},
   "outputs": [],
   "source": [
    "molsys = msm.convert('memb_popc_100_stage_1.msmpk')"
   ]
  },
  {
   "cell_type": "code",
   "execution_count": 3,
   "id": "aef0f1e0-a5c3-427d-bfbc-78874fdb23e6",
   "metadata": {},
   "outputs": [
    {
     "data": {
      "text/html": [
       "<style type=\"text/css\">\n",
       "</style>\n",
       "<table id=\"T_b3294\">\n",
       "  <thead>\n",
       "    <tr>\n",
       "      <th id=\"T_b3294_level0_col0\" class=\"col_heading level0 col0\" >form</th>\n",
       "      <th id=\"T_b3294_level0_col1\" class=\"col_heading level0 col1\" >n_atoms</th>\n",
       "      <th id=\"T_b3294_level0_col2\" class=\"col_heading level0 col2\" >n_groups</th>\n",
       "      <th id=\"T_b3294_level0_col3\" class=\"col_heading level0 col3\" >n_components</th>\n",
       "      <th id=\"T_b3294_level0_col4\" class=\"col_heading level0 col4\" >n_chains</th>\n",
       "      <th id=\"T_b3294_level0_col5\" class=\"col_heading level0 col5\" >n_molecules</th>\n",
       "      <th id=\"T_b3294_level0_col6\" class=\"col_heading level0 col6\" >n_entities</th>\n",
       "      <th id=\"T_b3294_level0_col7\" class=\"col_heading level0 col7\" >n_waters</th>\n",
       "      <th id=\"T_b3294_level0_col8\" class=\"col_heading level0 col8\" >n_lipids</th>\n",
       "      <th id=\"T_b3294_level0_col9\" class=\"col_heading level0 col9\" >n_structures</th>\n",
       "    </tr>\n",
       "  </thead>\n",
       "  <tbody>\n",
       "    <tr>\n",
       "      <td id=\"T_b3294_row0_col0\" class=\"data row0 col0\" >molsysmt.MolSys</td>\n",
       "      <td id=\"T_b3294_row0_col1\" class=\"data row0 col1\" >64168</td>\n",
       "      <td id=\"T_b3294_row0_col2\" class=\"data row0 col2\" >12656</td>\n",
       "      <td id=\"T_b3294_row0_col3\" class=\"data row0 col3\" >12656</td>\n",
       "      <td id=\"T_b3294_row0_col4\" class=\"data row0 col4\" >3</td>\n",
       "      <td id=\"T_b3294_row0_col5\" class=\"data row0 col5\" >12656</td>\n",
       "      <td id=\"T_b3294_row0_col6\" class=\"data row0 col6\" >1</td>\n",
       "      <td id=\"T_b3294_row0_col7\" class=\"data row0 col7\" >12456</td>\n",
       "      <td id=\"T_b3294_row0_col8\" class=\"data row0 col8\" >200</td>\n",
       "      <td id=\"T_b3294_row0_col9\" class=\"data row0 col9\" >1</td>\n",
       "    </tr>\n",
       "  </tbody>\n",
       "</table>\n"
      ],
      "text/plain": [
       "<pandas.io.formats.style.Styler at 0x7fdec461abc0>"
      ]
     },
     "execution_count": 3,
     "metadata": {},
     "output_type": "execute_result"
    }
   ],
   "source": [
    "msm.info(molsys)"
   ]
  },
  {
   "cell_type": "code",
   "execution_count": 16,
   "id": "c6b5b35e-3def-423c-8a81-a292d3789744",
   "metadata": {},
   "outputs": [
    {
     "name": "stderr",
     "output_type": "stream",
     "text": [
      "/home/diego/Myopt/miniconda3/envs/OMembrane@uibcdf_3.10/lib/python3.10/site-packages/matplotlib/cbook.py:1345: UnitStrippedWarning: The unit of the quantity is stripped when downcasting to ndarray.\n",
      "  return np.asarray(x, float)\n"
     ]
    },
    {
     "data": {
      "image/png": "[encoded data removed]",
      "text/plain": [
       "<Figure size 600x400 with 1 Axes>"
      ]
     },
     "metadata": {},
     "output_type": "display_data"
    }
   ],
   "source": [
    "P_atoms = msm.select(molsys, selection='atom_type==\"P\" and molecule_type==\"lipid\"')\n",
    "N_atoms = msm.select(molsys, selection='atom_type==\"N\" and molecule_type==\"lipid\"')\n",
    "C_atoms = msm.select(molsys, selection='atom_type==\"C\" and molecule_type==\"lipid\"')\n",
    "O_atoms = msm.select(molsys, selection='atom_type==\"O\" and molecule_type==\"lipid\"')\n",
    "OW_atoms = msm.select(molsys, selection='atom_type==\"O\" and molecule_type==\"water\"')\n",
    "\n",
    "bins_edges_P_init, density_P_init = omem.analysis.get_lineal_density(molsys, selection = P_atoms, axis = [0,0,1],\n",
    "                                                       bins = 80, range=\"[-6.0, 6.0] nm\", normalized=True)\n",
    "bins_edges_N_init, density_N_init = omem.analysis.get_lineal_density(molsys, selection = N_atoms, axis = [0,0,1],\n",
    "                                                       bins = 80, range=\"[-6.0, 6.0] nm\", normalized=True)\n",
    "bins_edges_C_init, density_C_init = omem.analysis.get_lineal_density(molsys, selection = C_atoms, axis = [0,0,1],\n",
    "                                                       bins = 80, range=\"[-6.0, 6.0] nm\", normalized=True)\n",
    "bins_edges_O_init, density_O_init = omem.analysis.get_lineal_density(molsys, selection = O_atoms, axis = [0,0,1],\n",
    "                                                       bins = 80, range=\"[-6.0, 6.0] nm\", normalized=True)\n",
    "bins_edges_OW_init, density_OW_init = omem.analysis.get_lineal_density(molsys, selection=OW_atoms, axis = [0,0,1],\n",
    "                                                       bins = 80, range=\"[-6.0, 6.0] nm\", normalized=True)\n",
    "\n",
    "\n",
    "plt.rcParams[\"figure.figsize\"] = (6,4)\n",
    "plt.plot((bins_edges_P_init[1:]+bins_edges_P_init[:-1])/2, density_P_init, label='P')\n",
    "plt.plot((bins_edges_N_init[1:]+bins_edges_N_init[:-1])/2, density_N_init, label='N')\n",
    "plt.plot((bins_edges_C_init[1:]+bins_edges_C_init[:-1])/2, density_C_init, label='C')\n",
    "plt.plot((bins_edges_O_init[1:]+bins_edges_O_init[:-1])/2, density_O_init, label='O')\n",
    "plt.plot((bins_edges_OW_init[1:]+bins_edges_OW_init[:-1])/2, density_OW_init, label='OW')\n",
    "plt.show()"
   ]
  },
  {
   "cell_type": "code",
   "execution_count": 5,
   "id": "3f8d6149-0a6e-41c2-8f3f-a21afdf3c881",
   "metadata": {},
   "outputs": [],
   "source": [
    "#msm.view(molsys, with_water_as='licorice')"
   ]
  },
  {
   "cell_type": "code",
   "execution_count": 6,
   "id": "b32b513a-4f6e-4c4c-bf3c-5d488c64f221",
   "metadata": {},
   "outputs": [],
   "source": [
    "context = msm.convert(molsys, 'openmm.Context', platform='CUDA')"
   ]
  },
  {
   "cell_type": "code",
   "execution_count": 7,
   "id": "0ceb263a-6b80-4383-b760-084b1a2cc75b",
   "metadata": {},
   "outputs": [],
   "source": [
    "state_init = context.getState(getPositions=True)"
   ]
  },
  {
   "cell_type": "code",
   "execution_count": 8,
   "id": "0f6e37d8-1fef-47c7-b86d-232ad32920f8",
   "metadata": {},
   "outputs": [
    {
     "data": {
      "text/html": [
       "6.236693663737446×10<sup>16</sup> kilojoule/mole"
      ],
      "text/latex": [
       "$6.236693663737446\\times 10^{16}\\ \\frac{\\mathrm{kilojoule}}{\\mathrm{mole}}$"
      ],
      "text/plain": [
       "6.236693663737446e+16 <Unit('kilojoule / mole')>"
      ]
     },
     "execution_count": 8,
     "metadata": {},
     "output_type": "execute_result"
    }
   ],
   "source": [
    "msm.molecular_mechanics.get_potential_energy(context)"
   ]
  },
  {
   "cell_type": "code",
   "execution_count": 9,
   "id": "4e3044ab-3c1a-4049-88d4-530cbbfb72fb",
   "metadata": {},
   "outputs": [],
   "source": [
    "LocalEnergyMinimizer.minimize(context)"
   ]
  },
  {
   "cell_type": "code",
   "execution_count": 10,
   "id": "0f35bc54-44d6-4835-9eca-99e747937e3e",
   "metadata": {},
   "outputs": [
    {
     "data": {
      "text/html": [
       "-827327.75 kilojoule/mole"
      ],
      "text/latex": [
       "$-827327.75\\ \\frac{\\mathrm{kilojoule}}{\\mathrm{mole}}$"
      ],
      "text/plain": [
       "-827327.75 <Unit('kilojoule / mole')>"
      ]
     },
     "execution_count": 10,
     "metadata": {},
     "output_type": "execute_result"
    }
   ],
   "source": [
    "msm.molecular_mechanics.get_potential_energy(context)"
   ]
  },
  {
   "cell_type": "code",
   "execution_count": 11,
   "id": "6d92a593-45e8-4450-bb1d-c12d61f44ec1",
   "metadata": {},
   "outputs": [],
   "source": [
    "state_end = context.getState(getPositions=True)"
   ]
  },
  {
   "cell_type": "code",
   "execution_count": 12,
   "id": "cb2c27b0-731a-4fc5-9d72-34b6b78495ce",
   "metadata": {},
   "outputs": [],
   "source": [
    "shifts_P = msm.structure.get_distances(molecular_system=state_init, molecular_system_2=state_end,\n",
    "                                       selection=P_atoms, pairs=True, pbc=True)\n",
    "shifts_N = msm.structure.get_distances(molecular_system=state_init, molecular_system_2=state_end,\n",
    "                                       selection=N_atoms, pairs=True, pbc=True)\n",
    "shifts_C = msm.structure.get_distances(molecular_system=state_init, molecular_system_2=state_end,\n",
    "                                       selection=C_atoms, pairs=True, pbc=True)\n",
    "shifts_OW = msm.structure.get_distances(molecular_system=state_init, molecular_system_2=state_end,\n",
    "                                       selection=OW_atoms, pairs=True, pbc=True)"
   ]
  },
  {
   "cell_type": "code",
   "execution_count": 15,
   "id": "aa282a45-4f18-4d28-b2ee-d1c3c5c984b1",
   "metadata": {},
   "outputs": [
    {
     "ename": "TypeError",
     "evalue": "histogram() got an unexpected keyword argument 'key'",
     "output_type": "error",
     "traceback": [
      "\u001b[0;31m---------------------------------------------------------------------------\u001b[0m",
      "\u001b[0;31mTypeError\u001b[0m                                 Traceback (most recent call last)",
      "Cell \u001b[0;32mIn[15], line 1\u001b[0m\n\u001b[0;32m----> 1\u001b[0m h_P, bins \u001b[38;5;241m=\u001b[39m \u001b[43mnp\u001b[49m\u001b[38;5;241;43m.\u001b[39;49m\u001b[43mhistogram\u001b[49m\u001b[43m(\u001b[49m\u001b[43mpuw\u001b[49m\u001b[38;5;241;43m.\u001b[39;49m\u001b[43mget_value\u001b[49m\u001b[43m(\u001b[49m\u001b[43mshifts_P\u001b[49m\u001b[43m[\u001b[49m\u001b[38;5;241;43m0\u001b[39;49m\u001b[43m]\u001b[49m\u001b[43m)\u001b[49m\u001b[43m,\u001b[49m\u001b[43m \u001b[49m\u001b[38;5;28;43mrange\u001b[39;49m\u001b[38;5;241;43m=\u001b[39;49m\u001b[43m[\u001b[49m\u001b[38;5;241;43m0.0\u001b[39;49m\u001b[43m,\u001b[49m\u001b[43m \u001b[49m\u001b[38;5;241;43m1.0\u001b[39;49m\u001b[43m]\u001b[49m\u001b[43m,\u001b[49m\u001b[43m \u001b[49m\u001b[43mbins\u001b[49m\u001b[38;5;241;43m=\u001b[39;49m\u001b[38;5;241;43m20\u001b[39;49m\u001b[43m,\u001b[49m\u001b[43m \u001b[49m\u001b[43mdensity\u001b[49m\u001b[38;5;241;43m=\u001b[39;49m\u001b[38;5;28;43;01mTrue\u001b[39;49;00m\u001b[43m,\u001b[49m\u001b[43m \u001b[49m\u001b[43mkey\u001b[49m\u001b[38;5;241;43m=\u001b[39;49m\u001b[38;5;124;43m'\u001b[39;49m\u001b[38;5;124;43mP\u001b[39;49m\u001b[38;5;124;43m'\u001b[39;49m\u001b[43m)\u001b[49m\n\u001b[1;32m      2\u001b[0m h_N, bins \u001b[38;5;241m=\u001b[39m np\u001b[38;5;241m.\u001b[39mhistogram(puw\u001b[38;5;241m.\u001b[39mget_value(shifts_N[\u001b[38;5;241m0\u001b[39m]), \u001b[38;5;28mrange\u001b[39m\u001b[38;5;241m=\u001b[39m[\u001b[38;5;241m0.0\u001b[39m, \u001b[38;5;241m1.0\u001b[39m], bins\u001b[38;5;241m=\u001b[39m\u001b[38;5;241m20\u001b[39m, density\u001b[38;5;241m=\u001b[39m\u001b[38;5;28;01mTrue\u001b[39;00m)\n\u001b[1;32m      3\u001b[0m h_C, bins \u001b[38;5;241m=\u001b[39m np\u001b[38;5;241m.\u001b[39mhistogram(puw\u001b[38;5;241m.\u001b[39mget_value(shifts_C[\u001b[38;5;241m0\u001b[39m]), \u001b[38;5;28mrange\u001b[39m\u001b[38;5;241m=\u001b[39m[\u001b[38;5;241m0.0\u001b[39m, \u001b[38;5;241m1.0\u001b[39m], bins\u001b[38;5;241m=\u001b[39m\u001b[38;5;241m20\u001b[39m, density\u001b[38;5;241m=\u001b[39m\u001b[38;5;28;01mTrue\u001b[39;00m)\n",
      "File \u001b[0;32m<__array_function__ internals>:198\u001b[0m, in \u001b[0;36mhistogram\u001b[0;34m(*args, **kwargs)\u001b[0m\n",
      "\u001b[0;31mTypeError\u001b[0m: histogram() got an unexpected keyword argument 'key'"
     ]
    }
   ],
   "source": [
    "h_P, bins = np.histogram(puw.get_value(shifts_P[0]), range=[0.0, 1.0], bins=20, density=True)\n",
    "h_N, bins = np.histogram(puw.get_value(shifts_N[0]), range=[0.0, 1.0], bins=20, density=True)\n",
    "h_C, bins = np.histogram(puw.get_value(shifts_C[0]), range=[0.0, 1.0], bins=20, density=True)\n",
    "h_OW, bins = np.histogram(puw.get_value(shifts_OW[0]), range=[0.0, 1.0], bins=20, density=True)\n",
    "plt.plot(0.5*(bins[1:]+bins[:-1]), h_P, label='P')\n",
    "plt.plot(0.5*(bins[1:]+bins[:-1]), h_N, label='N')\n",
    "plt.plot(0.5*(bins[1:]+bins[:-1]), h_C, label='C')\n",
    "plt.plot(0.5*(bins[1:]+bins[:-1]), h_OW, label='OW')\n",
    "plt.show()"
   ]
  },
  {
   "cell_type": "code",
   "execution_count": null,
   "id": "3a2fbdb8-dbad-4573-bfd5-e4af1e25ced3",
   "metadata": {},
   "outputs": [],
   "source": [
    "bins_edges_P_end, density_P_end = omem.analysis.get_lineal_density(state_end, selection = P_atoms, axis = [0,0,1],\n",
    "                                                       bins = 80, range=\"[-6.0, 6.0] nm\", normalized=True)\n",
    "bins_edges_N_end, density_N_end = omem.analysis.get_lineal_density(state_end, selection = N_atoms, axis = [0,0,1],\n",
    "                                                       bins = 80, range=\"[-6.0, 6.0] nm\", normalized=True)\n",
    "bins_edges_C_end, density_C_end = omem.analysis.get_lineal_density(state_end, selection = C_atoms, axis = [0,0,1],\n",
    "                                                       bins = 80, range=\"[-6.0, 6.0] nm\", normalized=True)\n",
    "\n",
    "bins_edges_OW_end, density_OW_end = omem.analysis.get_lineal_density(state_end, selection=OW_atoms, axis = [0,0,1],\n",
    "                                                       bins = 80, range=\"[-6.0, 6.0] nm\", normalized=True)\n",
    "\n",
    "\n",
    "plt.rcParams[\"figure.figsize\"] = (6,4)\n",
    "plt.plot((bins_edges_P_end[1:]+bins_edges_P_end[:-1])/2, density_P_end)\n",
    "plt.plot((bins_edges_N_end[1:]+bins_edges_N_end[:-1])/2, density_N_end)\n",
    "plt.plot((bins_edges_C_end[1:]+bins_edges_C_end[:-1])/2, density_C_end)\n",
    "plt.plot((bins_edges_OW_end[1:]+bins_edges_OW_end[:-1])/2, density_OW_end)\n",
    "plt.show()"
   ]
  },
  {
   "cell_type": "code",
   "execution_count": null,
   "id": "b67a2df6-cc0d-4933-a532-2ffce6ecc46a",
   "metadata": {},
   "outputs": [],
   "source": [
    "forces = msm.molecular_mechanics.get_forces(context, norm=True)"
   ]
  },
  {
   "cell_type": "code",
   "execution_count": null,
   "id": "8f9d124a-333c-4624-99e8-dddfd8cf0a45",
   "metadata": {},
   "outputs": [],
   "source": [
    "forces"
   ]
  },
  {
   "cell_type": "code",
   "execution_count": null,
   "id": "013d81eb-8751-43ec-9592-9025a990a137",
   "metadata": {},
   "outputs": [],
   "source": [
    "h, bins = np.histogram(puw.get_value(forces), bins=100, density=True)\n",
    "plt.plot(0.5*(bins[1:]+bins[:-1]), h)\n",
    "plt.show()"
   ]
  },
  {
   "cell_type": "code",
   "execution_count": null,
   "id": "a6ef2219-ee2c-4869-8a33-1ccfa66aa012",
   "metadata": {},
   "outputs": [],
   "source": [
    "memb_antes = msm.extract(molsys, selection='molecule_type==\"lipid\"', to_form='molsysmt.MolSys')\n",
    "memb_despues = msm.extract([molsys, context], selection='molecule_type==\"lipid\"', to_form='molsysmt.MolSys')"
   ]
  },
  {
   "cell_type": "code",
   "execution_count": null,
   "id": "6496db70-cd39-4270-92e6-301187708ed4",
   "metadata": {},
   "outputs": [],
   "source": [
    "msm.view(memb_antes)"
   ]
  },
  {
   "cell_type": "code",
   "execution_count": null,
   "id": "2bf5aa39-2055-4f46-91ff-8d9c22719d0a",
   "metadata": {},
   "outputs": [],
   "source": [
    "msm.view(memb_despues)"
   ]
  },
  {
   "cell_type": "code",
   "execution_count": null,
   "id": "202c97cf-e76f-4d8d-9192-52c114ee7504",
   "metadata": {},
   "outputs": [],
   "source": [
    "msm.view([molsys, context])"
   ]
  },
  {
   "cell_type": "code",
   "execution_count": null,
   "id": "ecb23357-dd17-49ec-b32c-fecccd36fd4c",
   "metadata": {},
   "outputs": [],
   "source": []
  }
 ],
 "metadata": {
  "kernelspec": {
   "display_name": "Python 3 (ipykernel)",
   "language": "python",
   "name": "python3"
  },
  "language_info": {
   "codemirror_mode": {
    "name": "ipython",
    "version": 3
   },
   "file_extension": ".py",
   "mimetype": "text/x-python",
   "name": "python",
   "nbconvert_exporter": "python",
   "pygments_lexer": "ipython3",
   "version": "3.10.12"
  }
 },
 "nbformat": 4,
 "nbformat_minor": 5
}
