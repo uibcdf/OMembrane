{
 "cells": [
  {
   "cell_type": "code",
   "execution_count": 38,
   "id": "ac152694-7aa9-4330-8823-8e97a7bdb994",
   "metadata": {},
   "outputs": [],
   "source": [
    "import molsysmt as msm\n",
    "import numpy as np"
   ]
  },
  {
   "cell_type": "code",
   "execution_count": 2,
   "id": "1bb76fe8-8e9b-48be-926a-f3eb5ad528d6",
   "metadata": {},
   "outputs": [
    {
     "name": "stdout",
     "output_type": "stream",
     "text": [
      "/home/diego/projects@uibcdf/OMembrane/sandbox\n"
     ]
    }
   ],
   "source": [
    "!pwd"
   ]
  },
  {
   "cell_type": "code",
   "execution_count": 28,
   "id": "e4d44d5f-b744-451c-aeb5-87eaa6fc4a61",
   "metadata": {},
   "outputs": [],
   "source": [
    "crd_file = '../attic/popc/conf1/popc_600.crd'"
   ]
  },
  {
   "cell_type": "code",
   "execution_count": 29,
   "id": "ebd4029b-b0a3-4cc7-8aa4-7a8b46f51916",
   "metadata": {},
   "outputs": [],
   "source": [
    "lipid = msm.convert(crd_file)"
   ]
  },
  {
   "cell_type": "code",
   "execution_count": 30,
   "id": "98d8eac1-2d94-4419-bcf0-5512182fb008",
   "metadata": {},
   "outputs": [],
   "source": [
    "#msm.info(lipid, element='atom')"
   ]
  },
  {
   "cell_type": "code",
   "execution_count": 31,
   "id": "402cccfe-5e58-4508-b2f8-d54bbdf1a993",
   "metadata": {},
   "outputs": [
    {
     "data": {
      "application/vnd.jupyter.widget-view+json": {
       "model_id": "cf264859590d47aebc2e6e41c6065d3b",
       "version_major": 2,
       "version_minor": 0
      },
      "text/plain": [
       "NGLWidget()"
      ]
     },
     "metadata": {},
     "output_type": "display_data"
    }
   ],
   "source": [
    "msm.view(lipid)"
   ]
  },
  {
   "cell_type": "code",
   "execution_count": 25,
   "id": "ceb3c42a-387e-4892-8c51-8ec9f840b787",
   "metadata": {},
   "outputs": [
    {
     "data": {
      "text/html": [
       "<table><tbody><tr><th>Magnitude</th><td style='text-align:left;'><pre>[[[-0.11774490962999998 0.23312024855 -0.20711154357999997]]]</pre></td></tr><tr><th>Units</th><td style='text-align:left;'>nanometer</td></tr></tbody></table>"
      ],
      "text/latex": [
       "$arr[,0,:,:] = \\begin{pmatrix} &  & \\end{pmatrix}\\ \\mathrm{nanometer}$"
      ],
      "text/plain": [
       "array([[[-0.11774491,  0.23312025, -0.20711154]]]) <Unit('nanometer')>"
      ]
     },
     "execution_count": 25,
     "metadata": {},
     "output_type": "execute_result"
    }
   ],
   "source": [
    "msm.get(lipid, selection='atom_name==\"P\"', coordinates=True)"
   ]
  },
  {
   "cell_type": "code",
   "execution_count": 26,
   "id": "f83e1262-277f-4a38-99df-ff5cfbb6d654",
   "metadata": {},
   "outputs": [],
   "source": [
    "lipid_2 = msm.structure.center(lipid, selection='all', center_of_selection='atom_name==\"P\"',\n",
    "                               center_coordinates=[0.0, 0.0, 0.0]*msm.pyunitwizard.quantity('nm'))"
   ]
  },
  {
   "cell_type": "code",
   "execution_count": 27,
   "id": "62fc1c7b-cab6-4ec6-aed0-a84543274da6",
   "metadata": {},
   "outputs": [
    {
     "data": {
      "text/html": [
       "<table><tbody><tr><th>Magnitude</th><td style='text-align:left;'><pre>[[[0.0 0.0 0.0]]]</pre></td></tr><tr><th>Units</th><td style='text-align:left;'>nanometer</td></tr></tbody></table>"
      ],
      "text/latex": [
       "$arr[,0,:,:] = \\begin{pmatrix} &  & \\end{pmatrix}\\ \\mathrm{nanometer}$"
      ],
      "text/plain": [
       "array([[[0., 0., 0.]]]) <Unit('nanometer')>"
      ]
     },
     "execution_count": 27,
     "metadata": {},
     "output_type": "execute_result"
    }
   ],
   "source": [
    "msm.get(lipid_2, selection='atom_name==\"P\"', coordinates=True)"
   ]
  },
  {
   "cell_type": "code",
   "execution_count": 53,
   "id": "20ef70d2-3365-441c-b6ee-62e6d6a945ec",
   "metadata": {},
   "outputs": [
    {
     "name": "stdout",
     "output_type": "stream",
     "text": [
      "0.6510026856408161 nanometer ** 2\n",
      "0.755411081142011 nanometer ** 2\n",
      "0.7677685797665151 nanometer ** 2\n",
      "0.656359829255147 nanometer ** 2\n",
      "0.6771845445355582 nanometer ** 2\n",
      "0.6256922965664944 nanometer ** 2\n",
      "0.8603864510700567 nanometer ** 2\n",
      "0.6197278394538603 nanometer ** 2\n",
      "0.8075195899014157 nanometer ** 2\n",
      "0.786460880071148 nanometer ** 2\n",
      "0.9968907969041316 nanometer ** 2\n",
      "0.8306590703227801 nanometer ** 2\n",
      "0.447646054466281 nanometer ** 2\n",
      "0.3679992639046535 nanometer ** 2\n",
      "0.49665199351103795 nanometer ** 2\n",
      "0.43872703844920635 nanometer ** 2\n",
      "1.0391199289180146 nanometer ** 2\n",
      "1.1556693728695522 nanometer ** 2\n",
      "1.1416098534692067 nanometer ** 2\n",
      "1.1303732869877818 nanometer ** 2\n",
      "1.171189183109972 nanometer ** 2\n",
      "1.3779631131188885 nanometer ** 2\n",
      "1.1036212782141095 nanometer ** 2\n",
      "0.8686858258292631 nanometer ** 2\n",
      "0.8962986597570733 nanometer ** 2\n",
      "1.0659826139885735 nanometer ** 2\n",
      "0.9616372274000458 nanometer ** 2\n",
      "0.6766302530944349 nanometer ** 2\n",
      "0.7539319297225662 nanometer ** 2\n",
      "0.5411242078112383 nanometer ** 2\n",
      "0.4798975989650998 nanometer ** 2\n",
      "0.5173861232532853 nanometer ** 2\n",
      "0.41927814257477763 nanometer ** 2\n",
      "0.49497665409868585 nanometer ** 2\n",
      "0.48817932277878345 nanometer ** 2\n",
      "0.581939139724816 nanometer ** 2\n",
      "0.577913455796322 nanometer ** 2\n",
      "0.705013171163408 nanometer ** 2\n",
      "0.4136251650429238 nanometer ** 2\n",
      "0.2746658638697317 nanometer ** 2\n",
      "0.28401088409673625 nanometer ** 2\n",
      "0.17409910594243921 nanometer ** 2\n",
      "0.21853933476618687 nanometer ** 2\n",
      "0.18061914639483256 nanometer ** 2\n",
      "0.2439365792785243 nanometer ** 2\n",
      "0.19592895907995128 nanometer ** 2\n",
      "0.22606029704445493 nanometer ** 2\n",
      "0.2562090312911741 nanometer ** 2\n",
      "0.36629919370906894 nanometer ** 2\n",
      "0.28043605391260906 nanometer ** 2\n",
      "0.17504888162373308 nanometer ** 2\n",
      "0.15280940181135533 nanometer ** 2\n",
      "0.24978022148970153 nanometer ** 2\n",
      "0.09723876459664642 nanometer ** 2\n",
      "0.15318580092022038 nanometer ** 2\n",
      "0.05241543205775005 nanometer ** 2\n",
      "0.09970625233448414 nanometer ** 2\n",
      "0.08226710485757234 nanometer ** 2\n",
      "0.1812606648202657 nanometer ** 2\n",
      "0.08930826148573141 nanometer ** 2\n",
      "0.13381432685666708 nanometer ** 2\n",
      "0.14286436089589502 nanometer ** 2\n",
      "0.03825520847904207 nanometer ** 2\n",
      "0.03771506307701703 nanometer ** 2\n",
      "0.04567457948318816 nanometer ** 2\n",
      "0.05454461176989568 nanometer ** 2\n",
      "0.10732480228822394 nanometer ** 2\n",
      "0.12258609316546726 nanometer ** 2\n",
      "0.11520812900029352 nanometer ** 2\n",
      "0.20985854950110888 nanometer ** 2\n",
      "0.22687805142432405 nanometer ** 2\n",
      "0.24077949639231627 nanometer ** 2\n",
      "0.3433189161064352 nanometer ** 2\n",
      "0.44547874329000436 nanometer ** 2\n",
      "0.35780379355233394 nanometer ** 2\n",
      "0.40417855091077787 nanometer ** 2\n",
      "0.3616123359480192 nanometer ** 2\n",
      "0.38184621405578045 nanometer ** 2\n",
      "0.6201309195871729 nanometer ** 2\n",
      "0.6909207266016459 nanometer ** 2\n",
      "0.686389260816542 nanometer ** 2\n",
      "0.7633328512924573 nanometer ** 2\n",
      "0.7760802081995307 nanometer ** 2\n",
      "0.6815712416615017 nanometer ** 2\n",
      "1.0336789592142739 nanometer ** 2\n",
      "1.1840724941277005 nanometer ** 2\n",
      "1.1553002726802746 nanometer ** 2\n",
      "1.102480592454225 nanometer ** 2\n",
      "1.3439715577662619 nanometer ** 2\n",
      "1.012058134917265 nanometer ** 2\n",
      "1.035434321287448 nanometer ** 2\n",
      "0.07898536448698823 nanometer ** 2\n",
      "0.08027405786419885 nanometer ** 2\n",
      "0.09221877905843219 nanometer ** 2\n",
      "0.03667961455319829 nanometer ** 2\n",
      "0.05591842789424475 nanometer ** 2\n",
      "0.006917356755115706 nanometer ** 2\n",
      "0.09225747102334526 nanometer ** 2\n",
      "0.142743876997786 nanometer ** 2\n",
      "0.14127112017446056 nanometer ** 2\n",
      "0.10729139210050836 nanometer ** 2\n",
      "0.09547245880249945 nanometer ** 2\n",
      "0.09563133388405325 nanometer ** 2\n",
      "0.23338576096854316 nanometer ** 2\n",
      "0.267582826147446 nanometer ** 2\n",
      "0.2745137580264813 nanometer ** 2\n",
      "0.33270992418936407 nanometer ** 2\n",
      "0.34336154945534464 nanometer ** 2\n",
      "0.4614866017748876 nanometer ** 2\n",
      "0.3211352831789066 nanometer ** 2\n",
      "0.22988100327853875 nanometer ** 2\n",
      "0.44226411673992994 nanometer ** 2\n",
      "0.34933522659993316 nanometer ** 2\n",
      "0.48571219545223154 nanometer ** 2\n",
      "0.3094504278081508 nanometer ** 2\n",
      "0.3850555105925953 nanometer ** 2\n",
      "0.4899840795209921 nanometer ** 2\n",
      "0.2912128442332601 nanometer ** 2\n",
      "0.5157028846567989 nanometer ** 2\n",
      "0.45726997573463546 nanometer ** 2\n",
      "0.620161759157802 nanometer ** 2\n",
      "0.6699129302038747 nanometer ** 2\n",
      "0.8192711483753818 nanometer ** 2\n",
      "0.6042279389473384 nanometer ** 2\n",
      "0.8015620582045844 nanometer ** 2\n",
      "0.6874899139529164 nanometer ** 2\n",
      "0.8959012886885717 nanometer ** 2\n",
      "1.0076243439850507 nanometer ** 2\n",
      "1.131466873401763 nanometer ** 2\n",
      "0.9323100624960121 nanometer ** 2\n",
      "1.2353469466500682 nanometer ** 2\n",
      "1.4361675592771126 nanometer ** 2\n",
      "1.17641083540364 nanometer ** 2\n",
      "1.3059849188915542 nanometer ** 2\n"
     ]
    }
   ],
   "source": [
    "# Principal axis of intertia\n",
    "# https://github.com/dprada/Aqua/blob/75fd8da5c967d5db25ff746272ea6c4a2fd4f30e/libgeneral.f90#L1618\n",
    "\n",
    "center = msm.structure.get_geometric_center(lipid) # Debería ser el centro de masas\n",
    "coordinates = msm.get(lipid, coordinates=True)\n",
    "\n",
    "matrix = np.zeros((3,3))\n",
    "\n",
    "for coor in coordinates[0]:\n",
    "    vect_aux = coor - center[0,0]\n",
    "    dd = np.dot(vect_aux, vect_aux)\n",
    "    matrix[0,0] += vect_aux[0]**2\n",
    "    matrix[1,1] += vect_aux[1]**2\n",
    "    matrix[2,2] += vect_aux[2]**2"
   ]
  },
  {
   "cell_type": "code",
   "execution_count": 51,
   "id": "432f4446-3c27-43b8-b0cb-32456ccc7afc",
   "metadata": {},
   "outputs": [
    {
     "data": {
      "text/plain": [
       "(1, 134, 3)"
      ]
     },
     "execution_count": 51,
     "metadata": {},
     "output_type": "execute_result"
    }
   ],
   "source": [
    "coordinates.shape"
   ]
  },
  {
   "cell_type": "code",
   "execution_count": null,
   "id": "2fb40fc3-1460-4810-a17b-523fa3241cca",
   "metadata": {},
   "outputs": [],
   "source": []
  }
 ],
 "metadata": {
  "kernelspec": {
   "display_name": "Python 3 (ipykernel)",
   "language": "python",
   "name": "python3"
  },
  "language_info": {
   "codemirror_mode": {
    "name": "ipython",
    "version": 3
   },
   "file_extension": ".py",
   "mimetype": "text/x-python",
   "name": "python",
   "nbconvert_exporter": "python",
   "pygments_lexer": "ipython3",
   "version": "3.10.12"
  }
 },
 "nbformat": 4,
 "nbformat_minor": 5
}
