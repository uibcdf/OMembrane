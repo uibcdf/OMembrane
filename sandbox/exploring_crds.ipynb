{
 "cells": [
  {
   "cell_type": "code",
   "execution_count": null,
   "id": "ac152694-7aa9-4330-8823-8e97a7bdb994",
   "metadata": {},
   "outputs": [],
   "source": [
    "import molsysmt as msm\n",
    "import numpy as np"
   ]
  },
  {
   "cell_type": "code",
   "execution_count": null,
   "id": "1bb76fe8-8e9b-48be-926a-f3eb5ad528d6",
   "metadata": {},
   "outputs": [],
   "source": [
    "!pwd"
   ]
  },
  {
   "cell_type": "code",
   "execution_count": null,
   "id": "e4d44d5f-b744-451c-aeb5-87eaa6fc4a61",
   "metadata": {},
   "outputs": [],
   "source": [
    "crd_file = '../attic/popc/conf1/popc_600.crd'"
   ]
  },
  {
   "cell_type": "code",
   "execution_count": null,
   "id": "ebd4029b-b0a3-4cc7-8aa4-7a8b46f51916",
   "metadata": {},
   "outputs": [],
   "source": [
    "lipid = msm.convert(crd_file)"
   ]
  },
  {
   "cell_type": "code",
   "execution_count": null,
   "id": "98d8eac1-2d94-4419-bcf0-5512182fb008",
   "metadata": {},
   "outputs": [],
   "source": [
    "#msm.info(lipid, element='atom')"
   ]
  },
  {
   "cell_type": "code",
   "execution_count": null,
   "id": "402cccfe-5e58-4508-b2f8-d54bbdf1a993",
   "metadata": {},
   "outputs": [],
   "source": [
    "msm.view(lipid)"
   ]
  },
  {
   "cell_type": "code",
   "execution_count": null,
   "id": "ceb3c42a-387e-4892-8c51-8ec9f840b787",
   "metadata": {},
   "outputs": [],
   "source": [
    "msm.get(lipid, selection='atom_name==\"P\"', coordinates=True)"
   ]
  },
  {
   "cell_type": "code",
   "execution_count": null,
   "id": "f83e1262-277f-4a38-99df-ff5cfbb6d654",
   "metadata": {},
   "outputs": [],
   "source": [
    "lipid_2 = msm.structure.center(lipid, selection='all', center_of_selection='atom_name==\"P\"',\n",
    "                               center_coordinates=[0.0, 0.0, 0.0]*msm.pyunitwizard.quantity('nm'))"
   ]
  },
  {
   "cell_type": "code",
   "execution_count": null,
   "id": "62fc1c7b-cab6-4ec6-aed0-a84543274da6",
   "metadata": {},
   "outputs": [],
   "source": [
    "msm.get(lipid_2, selection='atom_name==\"P\"', coordinates=True)"
   ]
  },
  {
   "cell_type": "code",
   "execution_count": null,
   "id": "20ef70d2-3365-441c-b6ee-62e6d6a945ec",
   "metadata": {},
   "outputs": [],
   "source": [
    "# Principal axis of intertia\n",
    "# https://github.com/dprada/Aqua/blob/75fd8da5c967d5db25ff746272ea6c4a2fd4f30e/libgeneral.f90#L1618\n",
    "\n",
    "center = msm.structure.get_geometric_center(lipid) # Debería ser el centro de masas\n",
    "coordinates = msm.get(lipid, coordinates=True)\n",
    "\n",
    "matrix = np.zeros((3,3))\n",
    "\n",
    "for coor in coordinates[0]:\n",
    "    vect_aux = coor - center[0,0]\n",
    "    dd = np.dot(vect_aux, vect_aux)\n",
    "    matrix[0,0] += vect_aux[0]**2\n",
    "    matrix[1,1] += vect_aux[1]**2\n",
    "    matrix[2,2] += vect_aux[2]**2"
   ]
  },
  {
   "cell_type": "code",
   "execution_count": null,
   "id": "432f4446-3c27-43b8-b0cb-32456ccc7afc",
   "metadata": {},
   "outputs": [],
   "source": [
    "coordinates.shape"
   ]
  },
  {
   "cell_type": "code",
   "execution_count": null,
   "id": "2fb40fc3-1460-4810-a17b-523fa3241cca",
   "metadata": {},
   "outputs": [],
   "source": []
  }
 ],
 "metadata": {
  "kernelspec": {
   "display_name": "Python 3 (ipykernel)",
   "language": "python",
   "name": "python3"
  },
  "language_info": {
   "codemirror_mode": {
    "name": "ipython",
    "version": 3
   },
   "file_extension": ".py",
   "mimetype": "text/x-python",
   "name": "python",
   "nbconvert_exporter": "python",
   "pygments_lexer": "ipython3",
   "version": "3.10.12"
  }
 },
 "nbformat": 4,
 "nbformat_minor": 5
}
