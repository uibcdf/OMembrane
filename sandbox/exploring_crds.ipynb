{
 "cells": [
  {
   "cell_type": "code",
   "execution_count": 1,
   "id": "ac152694-7aa9-4330-8823-8e97a7bdb994",
   "metadata": {},
   "outputs": [
    {
     "data": {
      "application/vnd.jupyter.widget-view+json": {
       "model_id": "99117513190b4621b8741b7ed9dd7b44",
       "version_major": 2,
       "version_minor": 0
      },
      "text/plain": []
     },
     "metadata": {},
     "output_type": "display_data"
    }
   ],
   "source": [
    "import molsysmt as msm\n",
    "import numpy as np\n",
    "from tqdm import tqdm"
   ]
  },
  {
   "cell_type": "code",
   "execution_count": 2,
   "id": "1e20ae2e-156b-4b4f-82f2-bc920bf59efe",
   "metadata": {},
   "outputs": [],
   "source": [
    "import omembrane as omem"
   ]
  },
  {
   "cell_type": "code",
   "execution_count": null,
   "id": "7dc3098f-65b3-4d1d-9bf4-4d1051a10f8c",
   "metadata": {},
   "outputs": [],
   "source": [
    "#lipid = omem.lipid.get_random_lipid('POPC', 100)"
   ]
  },
  {
   "cell_type": "code",
   "execution_count": 3,
   "id": "fe04047d-2577-4ef3-8843-b3ed6a731f2f",
   "metadata": {},
   "outputs": [],
   "source": [
    "filename = '../omembrane/data/popc/popc.psf'\n",
    "lipid = msm.convert(filename)"
   ]
  },
  {
   "cell_type": "code",
   "execution_count": 6,
   "id": "eb53c937-e7e8-4a67-9f78-e3e0cbd37d92",
   "metadata": {},
   "outputs": [
    {
     "name": "stderr",
     "output_type": "stream",
     "text": [
      "100%|████████████████████████████████████████████████████████████████████████████████████████████████████████████████████████████████████████| 49/49 [00:12<00:00,  4.06it/s]\n"
     ]
    }
   ],
   "source": [
    "for ii in tqdm(range(1, 50)):\n",
    "    filename = '../omembrane/data/popc/charmmgui/conf1/popc_'+str(ii)+'.crd'\n",
    "    aux_lipid = msm.convert(filename)\n",
    "    #coordinates = msm.get(aux_lipid, coordinates=True)\n",
    "    msm.append_structures(lipid, aux_lipid)"
   ]
  },
  {
   "cell_type": "code",
   "execution_count": 7,
   "id": "d68b64c8-158f-453a-a6a6-9645f43f965d",
   "metadata": {},
   "outputs": [
    {
     "data": {
      "text/html": [
       "<style type=\"text/css\">\n",
       "</style>\n",
       "<table id=\"T_289bd\">\n",
       "  <thead>\n",
       "    <tr>\n",
       "      <th id=\"T_289bd_level0_col0\" class=\"col_heading level0 col0\" >form</th>\n",
       "      <th id=\"T_289bd_level0_col1\" class=\"col_heading level0 col1\" >n_atoms</th>\n",
       "      <th id=\"T_289bd_level0_col2\" class=\"col_heading level0 col2\" >n_groups</th>\n",
       "      <th id=\"T_289bd_level0_col3\" class=\"col_heading level0 col3\" >n_components</th>\n",
       "      <th id=\"T_289bd_level0_col4\" class=\"col_heading level0 col4\" >n_chains</th>\n",
       "      <th id=\"T_289bd_level0_col5\" class=\"col_heading level0 col5\" >n_molecules</th>\n",
       "      <th id=\"T_289bd_level0_col6\" class=\"col_heading level0 col6\" >n_entities</th>\n",
       "      <th id=\"T_289bd_level0_col7\" class=\"col_heading level0 col7\" >n_lipids</th>\n",
       "      <th id=\"T_289bd_level0_col8\" class=\"col_heading level0 col8\" >n_structures</th>\n",
       "    </tr>\n",
       "  </thead>\n",
       "  <tbody>\n",
       "    <tr>\n",
       "      <td id=\"T_289bd_row0_col0\" class=\"data row0 col0\" >molsysmt.MolSys</td>\n",
       "      <td id=\"T_289bd_row0_col1\" class=\"data row0 col1\" >134</td>\n",
       "      <td id=\"T_289bd_row0_col2\" class=\"data row0 col2\" >1</td>\n",
       "      <td id=\"T_289bd_row0_col3\" class=\"data row0 col3\" >1</td>\n",
       "      <td id=\"T_289bd_row0_col4\" class=\"data row0 col4\" >1</td>\n",
       "      <td id=\"T_289bd_row0_col5\" class=\"data row0 col5\" >1</td>\n",
       "      <td id=\"T_289bd_row0_col6\" class=\"data row0 col6\" >1</td>\n",
       "      <td id=\"T_289bd_row0_col7\" class=\"data row0 col7\" >1</td>\n",
       "      <td id=\"T_289bd_row0_col8\" class=\"data row0 col8\" >49</td>\n",
       "    </tr>\n",
       "  </tbody>\n",
       "</table>\n"
      ],
      "text/plain": [
       "<pandas.io.formats.style.Styler at 0x7f1a65bee980>"
      ]
     },
     "execution_count": 7,
     "metadata": {},
     "output_type": "execute_result"
    }
   ],
   "source": [
    "msm.info(lipid)"
   ]
  },
  {
   "cell_type": "code",
   "execution_count": null,
   "id": "a665434f-8b26-4b68-9c99-d319789b76c5",
   "metadata": {},
   "outputs": [],
   "source": [
    "for ii in tqdm(range(1, 1000)):\n",
    "    filename = '../attic/popc/conf2/popc_'+str(ii)+'.crd'\n",
    "    aux_lipid = msm.convert(filename)\n",
    "    #coordinates = msm.get(aux_lipid, coordinates=True)\n",
    "    msm.append_structures(lipid, aux_lipid)"
   ]
  },
  {
   "cell_type": "code",
   "execution_count": null,
   "id": "d8e3c028-646e-480c-81c1-5a86ffa092fe",
   "metadata": {},
   "outputs": [],
   "source": [
    "msm.info(lipid)"
   ]
  },
  {
   "cell_type": "code",
   "execution_count": null,
   "id": "e4d44d5f-b744-451c-aeb5-87eaa6fc4a61",
   "metadata": {},
   "outputs": [],
   "source": [
    "msm.convert(lipid, 'popc.msmpk')"
   ]
  },
  {
   "cell_type": "code",
   "execution_count": null,
   "id": "4b17abbd-8451-441f-b095-b025916feedc",
   "metadata": {},
   "outputs": [],
   "source": [
    "lipid2 = msm.convert('popc.msmpk')"
   ]
  },
  {
   "cell_type": "code",
   "execution_count": null,
   "id": "55c70251-93e8-47eb-bd1e-44bbd83bfe6a",
   "metadata": {},
   "outputs": [],
   "source": [
    "coordinates = msm.get(lipid, coordinates=True)"
   ]
  },
  {
   "cell_type": "code",
   "execution_count": null,
   "id": "cb9c5aa7-eeea-4201-970d-8de25d7de33f",
   "metadata": {},
   "outputs": [],
   "source": [
    "msm.convert(coordinates, 'popc_conformations.xyznpy')"
   ]
  },
  {
   "cell_type": "code",
   "execution_count": null,
   "id": "ebd4029b-b0a3-4cc7-8aa4-7a8b46f51916",
   "metadata": {},
   "outputs": [],
   "source": [
    "lipid = msm.convert(crd_file)"
   ]
  },
  {
   "cell_type": "code",
   "execution_count": null,
   "id": "7aeae8e7-b8d7-451e-aecd-dd60ba8314e9",
   "metadata": {},
   "outputs": [],
   "source": [
    "lipid = msm.structure.align_principal_axes(lipid, axes=[[0,0,1],[1,0,0],[0,1,0]])"
   ]
  },
  {
   "cell_type": "code",
   "execution_count": null,
   "id": "f83e1262-277f-4a38-99df-ff5cfbb6d654",
   "metadata": {},
   "outputs": [],
   "source": [
    "lipid = msm.structure.center(lipid, selection='all', center_of_selection='atom_name==\"P\"',\n",
    "                             center_coordinates=[0.0, 0.0, 0.0]*msm.pyunitwizard.quantity('nm'))"
   ]
  },
  {
   "cell_type": "code",
   "execution_count": null,
   "id": "80f18127-045e-4910-b287-06aa23004ab9",
   "metadata": {},
   "outputs": [],
   "source": [
    "center = msm.structure.get_center(lipid)"
   ]
  },
  {
   "cell_type": "code",
   "execution_count": null,
   "id": "4753ead9-fb30-4619-bc09-43c2d11a5cdd",
   "metadata": {},
   "outputs": [],
   "source": [
    "center"
   ]
  },
  {
   "cell_type": "code",
   "execution_count": null,
   "id": "f80a0ff1-23b3-4089-9342-aedb12ae1cdc",
   "metadata": {},
   "outputs": [],
   "source": [
    "center[0,0,2]"
   ]
  },
  {
   "cell_type": "code",
   "execution_count": null,
   "id": "fcbabb5a-6a05-4663-9dca-c496328ee4eb",
   "metadata": {},
   "outputs": [],
   "source": [
    "lipid = msm.structure.flip(lipid)"
   ]
  },
  {
   "cell_type": "code",
   "execution_count": null,
   "id": "88a478c1-50c9-426e-bb13-6b37a14bbf4d",
   "metadata": {},
   "outputs": [],
   "source": [
    "center = msm.structure.get_center(lipid)"
   ]
  },
  {
   "cell_type": "code",
   "execution_count": null,
   "id": "38cd605d-86c4-4337-8016-e1de0f6a1eb1",
   "metadata": {},
   "outputs": [],
   "source": [
    "center"
   ]
  },
  {
   "cell_type": "code",
   "execution_count": null,
   "id": "0b508c02-8dd1-44b7-a030-fe0c632ca6b2",
   "metadata": {},
   "outputs": [],
   "source": [
    "msm.view(lipid)"
   ]
  },
  {
   "cell_type": "code",
   "execution_count": null,
   "id": "3d211890-a1ce-485f-9a2a-541045831122",
   "metadata": {},
   "outputs": [],
   "source": []
  }
 ],
 "metadata": {
  "kernelspec": {
   "display_name": "Python 3 (ipykernel)",
   "language": "python",
   "name": "python3"
  },
  "language_info": {
   "codemirror_mode": {
    "name": "ipython",
    "version": 3
   },
   "file_extension": ".py",
   "mimetype": "text/x-python",
   "name": "python",
   "nbconvert_exporter": "python",
   "pygments_lexer": "ipython3",
   "version": "3.10.12"
  }
 },
 "nbformat": 4,
 "nbformat_minor": 5
}
