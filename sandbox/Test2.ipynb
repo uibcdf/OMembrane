{
 "cells": [
  {
   "cell_type": "code",
   "execution_count": 1,
   "id": "4e6ce7be-e97f-48ed-8a81-70f428a232d4",
   "metadata": {
    "tags": []
   },
   "outputs": [
    {
     "data": {
      "application/vnd.jupyter.widget-view+json": {
       "model_id": "c6fbbf80fcb14ebe9591aaf8603fcc82",
       "version_major": 2,
       "version_minor": 0
      },
      "text/plain": []
     },
     "metadata": {},
     "output_type": "display_data"
    }
   ],
   "source": [
    "import molsysmt as msm\n",
    "import openmembrane as omem"
   ]
  },
  {
   "cell_type": "code",
   "execution_count": 6,
   "id": "a7c73d0a-2a22-4aa2-994c-625894466a3e",
   "metadata": {
    "tags": []
   },
   "outputs": [],
   "source": [
    "molsys = msm.convert(omem.demo['POPC']['POPC.msmpk'])"
   ]
  },
  {
   "cell_type": "code",
   "execution_count": 7,
   "id": "f6e44b9a-538c-45c6-9e4a-11b5377702a9",
   "metadata": {
    "tags": []
   },
   "outputs": [
    {
     "data": {
      "text/html": [
       "<style type=\"text/css\">\n",
       "</style>\n",
       "<table id=\"T_804a4\">\n",
       "  <thead>\n",
       "    <tr>\n",
       "      <th id=\"T_804a4_level0_col0\" class=\"col_heading level0 col0\" >form</th>\n",
       "      <th id=\"T_804a4_level0_col1\" class=\"col_heading level0 col1\" >n_atoms</th>\n",
       "      <th id=\"T_804a4_level0_col2\" class=\"col_heading level0 col2\" >n_groups</th>\n",
       "      <th id=\"T_804a4_level0_col3\" class=\"col_heading level0 col3\" >n_components</th>\n",
       "      <th id=\"T_804a4_level0_col4\" class=\"col_heading level0 col4\" >n_chains</th>\n",
       "      <th id=\"T_804a4_level0_col5\" class=\"col_heading level0 col5\" >n_molecules</th>\n",
       "      <th id=\"T_804a4_level0_col6\" class=\"col_heading level0 col6\" >n_entities</th>\n",
       "      <th id=\"T_804a4_level0_col7\" class=\"col_heading level0 col7\" >n_waters</th>\n",
       "      <th id=\"T_804a4_level0_col8\" class=\"col_heading level0 col8\" >n_lipids</th>\n",
       "      <th id=\"T_804a4_level0_col9\" class=\"col_heading level0 col9\" >n_structures</th>\n",
       "    </tr>\n",
       "  </thead>\n",
       "  <tbody>\n",
       "    <tr>\n",
       "      <td id=\"T_804a4_row0_col0\" class=\"data row0 col0\" >molsysmt.MolSys</td>\n",
       "      <td id=\"T_804a4_row0_col1\" class=\"data row0 col1\" >78974</td>\n",
       "      <td id=\"T_804a4_row0_col2\" class=\"data row0 col2\" >13532</td>\n",
       "      <td id=\"T_804a4_row0_col3\" class=\"data row0 col3\" >13532</td>\n",
       "      <td id=\"T_804a4_row0_col4\" class=\"data row0 col4\" >3</td>\n",
       "      <td id=\"T_804a4_row0_col5\" class=\"data row0 col5\" >13532</td>\n",
       "      <td id=\"T_804a4_row0_col6\" class=\"data row0 col6\" >3</td>\n",
       "      <td id=\"T_804a4_row0_col7\" class=\"data row0 col7\" >13170</td>\n",
       "      <td id=\"T_804a4_row0_col8\" class=\"data row0 col8\" >294</td>\n",
       "      <td id=\"T_804a4_row0_col9\" class=\"data row0 col9\" >50</td>\n",
       "    </tr>\n",
       "  </tbody>\n",
       "</table>\n"
      ],
      "text/plain": [
       "<pandas.io.formats.style.Styler at 0x7f0de2292eb0>"
      ]
     },
     "execution_count": 7,
     "metadata": {},
     "output_type": "execute_result"
    }
   ],
   "source": [
    "msm.info(molsys)"
   ]
  },
  {
   "cell_type": "code",
   "execution_count": null,
   "id": "bc6cc53a-7b41-4c13-a0f9-64dba187aae5",
   "metadata": {},
   "outputs": [],
   "source": []
  }
 ],
 "metadata": {
  "kernelspec": {
   "display_name": "Python 3 (ipykernel)",
   "language": "python",
   "name": "python3"
  },
  "language_info": {
   "codemirror_mode": {
    "name": "ipython",
    "version": 3
   },
   "file_extension": ".py",
   "mimetype": "text/x-python",
   "name": "python",
   "nbconvert_exporter": "python",
   "pygments_lexer": "ipython3",
   "version": "3.9.16"
  }
 },
 "nbformat": 4,
 "nbformat_minor": 5
}
