{
 "cells": [
  {
   "cell_type": "code",
   "execution_count": null,
   "id": "9ddef09c-95d2-4d46-898d-5535600b08de",
   "metadata": {},
   "outputs": [],
   "source": [
    "import molsysmt as msm\n",
    "from molsysmt import pyunitwizard as puw\n",
    "import omembrane as omem\n",
    "import openmm as mm\n",
    "from openmm import unit as u\n",
    "import numpy as np\n",
    "import math\n",
    "from matplotlib import pyplot as plt\n",
    "from tqdm import tqdm"
   ]
  },
  {
   "cell_type": "code",
   "execution_count": null,
   "id": "da0e7600-4014-424f-a7cf-66c82bc18eb3",
   "metadata": {},
   "outputs": [],
   "source": [
    "molsys = msm.convert('memb_popc_100_stage_1.msmpk')"
   ]
  },
  {
   "cell_type": "code",
   "execution_count": null,
   "id": "aef0f1e0-a5c3-427d-bfbc-78874fdb23e6",
   "metadata": {},
   "outputs": [],
   "source": [
    "msm.info(molsys)"
   ]
  },
  {
   "cell_type": "code",
   "execution_count": null,
   "id": "3f8d6149-0a6e-41c2-8f3f-a21afdf3c881",
   "metadata": {},
   "outputs": [],
   "source": [
    "#msm.view(molsys, with_water_as='licorice')"
   ]
  },
  {
   "cell_type": "code",
   "execution_count": null,
   "id": "dea2f5e0-f7f5-4bb7-86fa-b23c5238f68a",
   "metadata": {},
   "outputs": [],
   "source": [
    "msm.molecular_mechanics.get_potential_energy()"
   ]
  }
 ],
 "metadata": {
  "kernelspec": {
   "display_name": "Python 3 (ipykernel)",
   "language": "python",
   "name": "python3"
  },
  "language_info": {
   "codemirror_mode": {
    "name": "ipython",
    "version": 3
   },
   "file_extension": ".py",
   "mimetype": "text/x-python",
   "name": "python",
   "nbconvert_exporter": "python",
   "pygments_lexer": "ipython3",
   "version": "3.10.12"
  }
 },
 "nbformat": 4,
 "nbformat_minor": 5
}
