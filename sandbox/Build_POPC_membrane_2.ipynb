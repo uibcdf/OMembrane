{
 "cells": [
  {
   "cell_type": "code",
   "execution_count": 1,
   "id": "9ddef09c-95d2-4d46-898d-5535600b08de",
   "metadata": {},
   "outputs": [
    {
     "data": {
      "application/vnd.jupyter.widget-view+json": {
       "model_id": "07e8d706b42544a1b75d9164b053f00c",
       "version_major": 2,
       "version_minor": 0
      },
      "text/plain": []
     },
     "metadata": {},
     "output_type": "display_data"
    }
   ],
   "source": [
    "import molsysmt as msm\n",
    "from molsysmt import pyunitwizard as puw\n",
    "import omembrane as omem\n",
    "import openmm as mm\n",
    "from openmm import unit as u\n",
    "import numpy as np\n",
    "import math\n",
    "from matplotlib import pyplot as plt\n",
    "from tqdm import tqdm"
   ]
  },
  {
   "cell_type": "code",
   "execution_count": 2,
   "id": "da0e7600-4014-424f-a7cf-66c82bc18eb3",
   "metadata": {},
   "outputs": [],
   "source": [
    "molsys = msm.convert('memb_popc_100_stage_1.msmpk')"
   ]
  },
  {
   "cell_type": "code",
   "execution_count": 3,
   "id": "aef0f1e0-a5c3-427d-bfbc-78874fdb23e6",
   "metadata": {},
   "outputs": [
    {
     "data": {
      "text/html": [
       "<style type=\"text/css\">\n",
       "</style>\n",
       "<table id=\"T_2c8f7\">\n",
       "  <thead>\n",
       "    <tr>\n",
       "      <th id=\"T_2c8f7_level0_col0\" class=\"col_heading level0 col0\" >form</th>\n",
       "      <th id=\"T_2c8f7_level0_col1\" class=\"col_heading level0 col1\" >n_atoms</th>\n",
       "      <th id=\"T_2c8f7_level0_col2\" class=\"col_heading level0 col2\" >n_groups</th>\n",
       "      <th id=\"T_2c8f7_level0_col3\" class=\"col_heading level0 col3\" >n_components</th>\n",
       "      <th id=\"T_2c8f7_level0_col4\" class=\"col_heading level0 col4\" >n_chains</th>\n",
       "      <th id=\"T_2c8f7_level0_col5\" class=\"col_heading level0 col5\" >n_molecules</th>\n",
       "      <th id=\"T_2c8f7_level0_col6\" class=\"col_heading level0 col6\" >n_entities</th>\n",
       "      <th id=\"T_2c8f7_level0_col7\" class=\"col_heading level0 col7\" >n_waters</th>\n",
       "      <th id=\"T_2c8f7_level0_col8\" class=\"col_heading level0 col8\" >n_lipids</th>\n",
       "      <th id=\"T_2c8f7_level0_col9\" class=\"col_heading level0 col9\" >n_structures</th>\n",
       "    </tr>\n",
       "  </thead>\n",
       "  <tbody>\n",
       "    <tr>\n",
       "      <td id=\"T_2c8f7_row0_col0\" class=\"data row0 col0\" >molsysmt.MolSys</td>\n",
       "      <td id=\"T_2c8f7_row0_col1\" class=\"data row0 col1\" >64243</td>\n",
       "      <td id=\"T_2c8f7_row0_col2\" class=\"data row0 col2\" >12681</td>\n",
       "      <td id=\"T_2c8f7_row0_col3\" class=\"data row0 col3\" >12681</td>\n",
       "      <td id=\"T_2c8f7_row0_col4\" class=\"data row0 col4\" >3</td>\n",
       "      <td id=\"T_2c8f7_row0_col5\" class=\"data row0 col5\" >12681</td>\n",
       "      <td id=\"T_2c8f7_row0_col6\" class=\"data row0 col6\" >1</td>\n",
       "      <td id=\"T_2c8f7_row0_col7\" class=\"data row0 col7\" >12481</td>\n",
       "      <td id=\"T_2c8f7_row0_col8\" class=\"data row0 col8\" >200</td>\n",
       "      <td id=\"T_2c8f7_row0_col9\" class=\"data row0 col9\" >1</td>\n",
       "    </tr>\n",
       "  </tbody>\n",
       "</table>\n"
      ],
      "text/plain": [
       "<pandas.io.formats.style.Styler at 0x7fd238f118a0>"
      ]
     },
     "execution_count": 3,
     "metadata": {},
     "output_type": "execute_result"
    }
   ],
   "source": [
    "msm.info(molsys)"
   ]
  },
  {
   "cell_type": "code",
   "execution_count": 4,
   "id": "3f8d6149-0a6e-41c2-8f3f-a21afdf3c881",
   "metadata": {},
   "outputs": [],
   "source": [
    "#msm.view(molsys, with_water_as='licorice')"
   ]
  },
  {
   "cell_type": "code",
   "execution_count": 6,
   "id": "dea2f5e0-f7f5-4bb7-86fa-b23c5238f68a",
   "metadata": {},
   "outputs": [
    {
     "data": {
      "text/html": [
       "1.8142518882006257×10<sup>21</sup> kilojoule/mole"
      ],
      "text/latex": [
       "$1.8142518882006257\\times 10^{21}\\ \\frac{\\mathrm{kilojoule}}{\\mathrm{mole}}$"
      ],
      "text/plain": [
       "1.8142518882006257e+21 <Unit('kilojoule / mole')>"
      ]
     },
     "execution_count": 6,
     "metadata": {},
     "output_type": "execute_result"
    }
   ],
   "source": [
    "msm.molecular_mechanics.get_potential_energy(molsys)"
   ]
  },
  {
   "cell_type": "code",
   "execution_count": 10,
   "id": "b32b513a-4f6e-4c4c-bf3c-5d488c64f221",
   "metadata": {},
   "outputs": [],
   "source": [
    "context = msm.convert(molsys, 'openmm.Context', platform='CUDA')"
   ]
  },
  {
   "cell_type": "code",
   "execution_count": 15,
   "id": "bdeaeadf-f233-4bc5-bb6c-9de9651ba223",
   "metadata": {},
   "outputs": [
    {
     "data": {
      "text/plain": [
       "'CUDA'"
      ]
     },
     "execution_count": 15,
     "metadata": {},
     "output_type": "execute_result"
    }
   ],
   "source": [
    "context.getPlatform().getName()"
   ]
  },
  {
   "cell_type": "code",
   "execution_count": 16,
   "id": "adf0601b-1f19-4e46-b65d-558cbf6ec918",
   "metadata": {},
   "outputs": [
    {
     "data": {
      "text/plain": [
       "Quantity(value=1.8142518882006257e+21, unit=kilojoule/mole)"
      ]
     },
     "execution_count": 16,
     "metadata": {},
     "output_type": "execute_result"
    }
   ],
   "source": [
    "state = context.getState(getEnergy=True)\n",
    "state.getPotentialEnergy()"
   ]
  },
  {
   "cell_type": "code",
   "execution_count": 17,
   "id": "d22f9a2f-d00d-45a8-aaca-46c2625fee49",
   "metadata": {},
   "outputs": [
    {
     "data": {
      "text/plain": [
       "Quantity(value=[Vec3(x=8.264381404557753, y=0.0, z=0.0), Vec3(x=0.0, y=8.264381404557753, z=0.0), Vec3(x=0.0, y=0.0, z=10.673305406915667)], unit=nanometer)"
      ]
     },
     "execution_count": 17,
     "metadata": {},
     "output_type": "execute_result"
    }
   ],
   "source": [
    "state.getPeriodicBoxVectors()"
   ]
  },
  {
   "cell_type": "code",
   "execution_count": 18,
   "id": "7b780d95-1d12-48ab-a8d8-d82ea1adf212",
   "metadata": {},
   "outputs": [],
   "source": [
    "from openmm import LocalEnergyMinimizer"
   ]
  },
  {
   "cell_type": "code",
   "execution_count": 19,
   "id": "4e3044ab-3c1a-4049-88d4-530cbbfb72fb",
   "metadata": {},
   "outputs": [],
   "source": [
    "LocalEnergyMinimizer.minimize(context)"
   ]
  },
  {
   "cell_type": "code",
   "execution_count": 20,
   "id": "0f35bc54-44d6-4835-9eca-99e747937e3e",
   "metadata": {},
   "outputs": [
    {
     "data": {
      "text/plain": [
       "Quantity(value=-827509.5, unit=kilojoule/mole)"
      ]
     },
     "execution_count": 20,
     "metadata": {},
     "output_type": "execute_result"
    }
   ],
   "source": [
    "state = context.getState(getEnergy=True)\n",
    "state.getPotentialEnergy()"
   ]
  },
  {
   "cell_type": "code",
   "execution_count": 21,
   "id": "202c97cf-e76f-4d8d-9192-52c114ee7504",
   "metadata": {},
   "outputs": [
    {
     "ename": "NotImplementedConversionError",
     "evalue": "Error in conversion from openmm.Context to nglview.NGLWidget",
     "output_type": "error",
     "traceback": [
      "\u001b[0;31m---------------------------------------------------------------------------\u001b[0m",
      "\u001b[0;31mNotImplementedConversionError\u001b[0m             Traceback (most recent call last)",
      "Cell \u001b[0;32mIn[21], line 1\u001b[0m\n\u001b[0;32m----> 1\u001b[0m \u001b[43mmsm\u001b[49m\u001b[38;5;241;43m.\u001b[39;49m\u001b[43mview\u001b[49m\u001b[43m(\u001b[49m\u001b[43mcontext\u001b[49m\u001b[43m)\u001b[49m\n",
      "File \u001b[0;32m~/projects@uibcdf/MolSysMT/molsysmt/_private/digestion/digest.py:119\u001b[0m, in \u001b[0;36mdigest.<locals>.digestor.<locals>.wrapper\u001b[0;34m(*args, **kwargs)\u001b[0m\n\u001b[1;32m    117\u001b[0m     \u001b[38;5;28;01mreturn\u001b[39;00m func(all_args[\u001b[38;5;124m'\u001b[39m\u001b[38;5;124mself\u001b[39m\u001b[38;5;124m'\u001b[39m], \u001b[38;5;241m*\u001b[39m\u001b[38;5;241m*\u001b[39mfinal_args)\n\u001b[1;32m    118\u001b[0m \u001b[38;5;28;01melse\u001b[39;00m:\n\u001b[0;32m--> 119\u001b[0m     \u001b[38;5;28;01mreturn\u001b[39;00m \u001b[43mfunc\u001b[49m\u001b[43m(\u001b[49m\u001b[38;5;241;43m*\u001b[39;49m\u001b[38;5;241;43m*\u001b[39;49m\u001b[43mfinal_args\u001b[49m\u001b[43m)\u001b[49m\n",
      "File \u001b[0;32m~/projects@uibcdf/MolSysMT/molsysmt/basic/view.py:121\u001b[0m, in \u001b[0;36mview\u001b[0;34m(molecular_system, selection, structure_indices, standard, with_water_as, viewer, syntax)\u001b[0m\n\u001b[1;32m    117\u001b[0m \u001b[38;5;28;01mfrom\u001b[39;00m \u001b[38;5;21;01mmolsysmt\u001b[39;00m\u001b[38;5;21;01m.\u001b[39;00m\u001b[38;5;21;01msupported\u001b[39;00m\u001b[38;5;21;01m.\u001b[39;00m\u001b[38;5;21;01mviewers\u001b[39;00m \u001b[38;5;28;01mimport\u001b[39;00m viewers_forms\n\u001b[1;32m    119\u001b[0m form_viewer \u001b[38;5;241m=\u001b[39m viewers_forms[viewer]\n\u001b[0;32m--> 121\u001b[0m tmp_item \u001b[38;5;241m=\u001b[39m \u001b[43mconvert\u001b[49m\u001b[43m(\u001b[49m\u001b[43mmolecular_system\u001b[49m\u001b[43m,\u001b[49m\u001b[43m \u001b[49m\u001b[43mto_form\u001b[49m\u001b[38;5;241;43m=\u001b[39;49m\u001b[43mform_viewer\u001b[49m\u001b[43m,\u001b[49m\u001b[43m \u001b[49m\u001b[43mselection\u001b[49m\u001b[38;5;241;43m=\u001b[39;49m\u001b[43mselection\u001b[49m\u001b[43m,\u001b[49m\n\u001b[1;32m    122\u001b[0m \u001b[43m                    \u001b[49m\u001b[43mstructure_indices\u001b[49m\u001b[38;5;241;43m=\u001b[39;49m\u001b[43mstructure_indices\u001b[49m\u001b[43m,\u001b[49m\u001b[43m \u001b[49m\u001b[43msyntax\u001b[49m\u001b[38;5;241;43m=\u001b[39;49m\u001b[43msyntax\u001b[49m\u001b[43m)\u001b[49m\n\u001b[1;32m    124\u001b[0m \u001b[38;5;28;01mif\u001b[39;00m standard:\n\u001b[1;32m    125\u001b[0m     \u001b[38;5;28;01mif\u001b[39;00m viewer\u001b[38;5;241m==\u001b[39m\u001b[38;5;124m'\u001b[39m\u001b[38;5;124mNGLView\u001b[39m\u001b[38;5;124m'\u001b[39m:\n",
      "File \u001b[0;32m~/projects@uibcdf/MolSysMT/molsysmt/_private/digestion/digest.py:119\u001b[0m, in \u001b[0;36mdigest.<locals>.digestor.<locals>.wrapper\u001b[0;34m(*args, **kwargs)\u001b[0m\n\u001b[1;32m    117\u001b[0m     \u001b[38;5;28;01mreturn\u001b[39;00m func(all_args[\u001b[38;5;124m'\u001b[39m\u001b[38;5;124mself\u001b[39m\u001b[38;5;124m'\u001b[39m], \u001b[38;5;241m*\u001b[39m\u001b[38;5;241m*\u001b[39mfinal_args)\n\u001b[1;32m    118\u001b[0m \u001b[38;5;28;01melse\u001b[39;00m:\n\u001b[0;32m--> 119\u001b[0m     \u001b[38;5;28;01mreturn\u001b[39;00m \u001b[43mfunc\u001b[49m\u001b[43m(\u001b[49m\u001b[38;5;241;43m*\u001b[39;49m\u001b[38;5;241;43m*\u001b[39;49m\u001b[43mfinal_args\u001b[49m\u001b[43m)\u001b[49m\n",
      "File \u001b[0;32m~/projects@uibcdf/MolSysMT/molsysmt/basic/convert.py:515\u001b[0m, in \u001b[0;36mconvert\u001b[0;34m(molecular_system, to_form, selection, structure_indices, syntax, verbose, **kwargs)\u001b[0m\n\u001b[1;32m    513\u001b[0m     \u001b[38;5;28;01mif\u001b[39;00m \u001b[38;5;28mlen\u001b[39m(from_form)\u001b[38;5;241m==\u001b[39m\u001b[38;5;241m1\u001b[39m:\n\u001b[1;32m    514\u001b[0m         from_form\u001b[38;5;241m=\u001b[39mfrom_form[\u001b[38;5;241m0\u001b[39m]\n\u001b[0;32m--> 515\u001b[0m     \u001b[38;5;28;01mraise\u001b[39;00m NotImplementedConversionError(from_form, to_form)\n\u001b[1;32m    517\u001b[0m \u001b[38;5;28;01mif\u001b[39;00m \u001b[38;5;28misinstance\u001b[39m(output, (\u001b[38;5;28mlist\u001b[39m, \u001b[38;5;28mtuple\u001b[39m)):\n\u001b[1;32m    518\u001b[0m     \u001b[38;5;28;01mif\u001b[39;00m \u001b[38;5;28mlen\u001b[39m(output) \u001b[38;5;241m==\u001b[39m \u001b[38;5;241m1\u001b[39m:\n",
      "\u001b[0;31mNotImplementedConversionError\u001b[0m: Error in conversion from openmm.Context to nglview.NGLWidget"
     ]
    }
   ],
   "source": [
    "msm.view(context)"
   ]
  },
  {
   "cell_type": "code",
   "execution_count": null,
   "id": "ecb23357-dd17-49ec-b32c-fecccd36fd4c",
   "metadata": {},
   "outputs": [],
   "source": []
  }
 ],
 "metadata": {
  "kernelspec": {
   "display_name": "Python 3 (ipykernel)",
   "language": "python",
   "name": "python3"
  },
  "language_info": {
   "codemirror_mode": {
    "name": "ipython",
    "version": 3
   },
   "file_extension": ".py",
   "mimetype": "text/x-python",
   "name": "python",
   "nbconvert_exporter": "python",
   "pygments_lexer": "ipython3",
   "version": "3.10.12"
  }
 },
 "nbformat": 4,
 "nbformat_minor": 5
}
