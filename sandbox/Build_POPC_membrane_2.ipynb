{
 "cells": [
  {
   "cell_type": "code",
   "execution_count": null,
   "id": "9ddef09c-95d2-4d46-898d-5535600b08de",
   "metadata": {},
   "outputs": [],
   "source": [
    "import molsysmt as msm\n",
    "from molsysmt import pyunitwizard as puw\n",
    "import omembrane as omem\n",
    "import openmm as mm\n",
    "from openmm import unit as u\n",
    "import numpy as np\n",
    "import math\n",
    "from matplotlib import pyplot as plt\n",
    "from tqdm import tqdm\n",
    "\n",
    "from openmm import LocalEnergyMinimizer"
   ]
  },
  {
   "cell_type": "code",
   "execution_count": null,
   "id": "da0e7600-4014-424f-a7cf-66c82bc18eb3",
   "metadata": {},
   "outputs": [],
   "source": [
    "molsys = msm.convert('memb_popc_100_stage_1.msmpk')"
   ]
  },
  {
   "cell_type": "code",
   "execution_count": null,
   "id": "aef0f1e0-a5c3-427d-bfbc-78874fdb23e6",
   "metadata": {},
   "outputs": [],
   "source": [
    "msm.info(molsys)"
   ]
  },
  {
   "cell_type": "code",
   "execution_count": null,
   "id": "c6b5b35e-3def-423c-8a81-a292d3789744",
   "metadata": {},
   "outputs": [],
   "source": [
    "P_atoms = msm.select(molsys, selection='atom_type==\"P\" and molecule_type==\"lipid\"')\n",
    "N_atoms = msm.select(molsys, selection='atom_type==\"N\" and molecule_type==\"lipid\"')\n",
    "C_atoms = msm.select(molsys, selection='atom_type==\"C\" and molecule_type==\"lipid\"')\n",
    "OW_atoms = msm.select(molsys, selection='atom_type==\"O\" and molecule_type==\"water\"')\n",
    "\n",
    "bins_edges_P_init, density_P_init = omem.analysis.get_lineal_density(molsys, selection = P_atoms, axis = [0,0,1],\n",
    "                                                       bins = 80, range=\"[-6.0, 6.0] nm\", normalized=True)\n",
    "bins_edges_N_init, density_N_init = omem.analysis.get_lineal_density(molsys, selection = N_atoms, axis = [0,0,1],\n",
    "                                                       bins = 80, range=\"[-6.0, 6.0] nm\", normalized=True)\n",
    "bins_edges_C_init, density_C_init = omem.analysis.get_lineal_density(molsys, selection = C_atoms, axis = [0,0,1],\n",
    "                                                       bins = 80, range=\"[-6.0, 6.0] nm\", normalized=True)\n",
    "\n",
    "bins_edges_OW_init, density_OW_init = omem.analysis.get_lineal_density(molsys, selection=OW_atoms, axis = [0,0,1],\n",
    "                                                       bins = 80, range=\"[-6.0, 6.0] nm\", normalized=True)\n",
    "\n",
    "\n",
    "plt.rcParams[\"figure.figsize\"] = (6,4)\n",
    "plt.plot((bins_edges_P_init[1:]+bins_edges_P_init[:-1])/2, density_P_init)\n",
    "plt.plot((bins_edges_N_init[1:]+bins_edges_N_init[:-1])/2, density_N_init)\n",
    "plt.plot((bins_edges_C_init[1:]+bins_edges_C_init[:-1])/2, density_C_init)\n",
    "plt.plot((bins_edges_OW_init[1:]+bins_edges_OW_init[:-1])/2, density_OW_init)\n",
    "plt.show()"
   ]
  },
  {
   "cell_type": "code",
   "execution_count": null,
   "id": "3f8d6149-0a6e-41c2-8f3f-a21afdf3c881",
   "metadata": {},
   "outputs": [],
   "source": [
    "#msm.view(molsys, with_water_as='licorice')"
   ]
  },
  {
   "cell_type": "code",
   "execution_count": null,
   "id": "b32b513a-4f6e-4c4c-bf3c-5d488c64f221",
   "metadata": {},
   "outputs": [],
   "source": [
    "context = msm.convert(molsys, 'openmm.Context', platform='CUDA')"
   ]
  },
  {
   "cell_type": "code",
   "execution_count": null,
   "id": "0ceb263a-6b80-4383-b760-084b1a2cc75b",
   "metadata": {},
   "outputs": [],
   "source": [
    "state_init = context.getState(getPositions=True)"
   ]
  },
  {
   "cell_type": "code",
   "execution_count": null,
   "id": "0f6e37d8-1fef-47c7-b86d-232ad32920f8",
   "metadata": {},
   "outputs": [],
   "source": [
    "#msm.molecular_mechanics.get_potential_energy(context)"
   ]
  },
  {
   "cell_type": "code",
   "execution_count": null,
   "id": "4e3044ab-3c1a-4049-88d4-530cbbfb72fb",
   "metadata": {},
   "outputs": [],
   "source": [
    "#LocalEnergyMinimizer.minimize(context)"
   ]
  },
  {
   "cell_type": "code",
   "execution_count": null,
   "id": "0f35bc54-44d6-4835-9eca-99e747937e3e",
   "metadata": {},
   "outputs": [],
   "source": [
    "#msm.molecular_mechanics.get_potential_energy(context)"
   ]
  },
  {
   "cell_type": "code",
   "execution_count": null,
   "id": "6d92a593-45e8-4450-bb1d-c12d61f44ec1",
   "metadata": {},
   "outputs": [],
   "source": [
    "state_end = context.getState(getPositions=True)"
   ]
  },
  {
   "cell_type": "code",
   "execution_count": null,
   "id": "53680ddc-0490-46aa-afbd-12449f5211e1",
   "metadata": {},
   "outputs": [],
   "source": []
  },
  {
   "cell_type": "code",
   "execution_count": null,
   "id": "cb2c27b0-731a-4fc5-9d72-34b6b78495ce",
   "metadata": {},
   "outputs": [],
   "source": [
    "shifts_P = msm.structure.get_distances(molecular_system=state_init, molecular_system_2=state_end,\n",
    "                                       selection=P_atoms, pairs=True, pbc=True)\n",
    "shifts_N = msm.structure.get_distances(molecular_system=state_init, molecular_system_2=state_end,\n",
    "                                       selection=N_atoms, pairs=True, pbc=True)\n",
    "shifts_C = msm.structure.get_distances(molecular_system=state_init, molecular_system_2=state_end,\n",
    "                                       selection=C_atoms, pairs=True, pbc=True)\n",
    "shifts_OW = msm.structure.get_distances(molecular_system=state_init, molecular_system_2=state_end,\n",
    "                                       selection=OW_atoms, pairs=True, pbc=True)"
   ]
  },
  {
   "cell_type": "code",
   "execution_count": null,
   "id": "aa282a45-4f18-4d28-b2ee-d1c3c5c984b1",
   "metadata": {},
   "outputs": [],
   "source": [
    "h_P, bins = np.histogram(puw.get_value(shifts_P[0]), range=[0.0, 1.0], bins=20, density=True)\n",
    "h_N, bins = np.histogram(puw.get_value(shifts_N[0]), range=[0.0, 1.0], bins=20, density=True)\n",
    "h_C, bins = np.histogram(puw.get_value(shifts_C[0]), range=[0.0, 1.0], bins=20, density=True)\n",
    "h_OW, bins = np.histogram(puw.get_value(shifts_OW[0]), range=[0.0, 1.0], bins=20, density=True)\n",
    "plt.plot(0.5*(bins[1:]+bins[:-1]), h_P)\n",
    "plt.plot(0.5*(bins[1:]+bins[:-1]), h_N)\n",
    "plt.plot(0.5*(bins[1:]+bins[:-1]), h_C)\n",
    "plt.plot(0.5*(bins[1:]+bins[:-1]), h_OW)\n",
    "plt.show()"
   ]
  },
  {
   "cell_type": "code",
   "execution_count": null,
   "id": "3a2fbdb8-dbad-4573-bfd5-e4af1e25ced3",
   "metadata": {},
   "outputs": [],
   "source": [
    "bins_edges_P_end, density_P_end = omem.analysis.get_lineal_density(state_end, selection = P_atoms, axis = [0,0,1],\n",
    "                                                       bins = 80, range=\"[-6.0, 6.0] nm\", normalized=True)\n",
    "bins_edges_N_end, density_N_end = omem.analysis.get_lineal_density(state_end, selection = N_atoms, axis = [0,0,1],\n",
    "                                                       bins = 80, range=\"[-6.0, 6.0] nm\", normalized=True)\n",
    "bins_edges_C_end, density_C_end = omem.analysis.get_lineal_density(state_end, selection = C_atoms, axis = [0,0,1],\n",
    "                                                       bins = 80, range=\"[-6.0, 6.0] nm\", normalized=True)\n",
    "\n",
    "bins_edges_OW_end, density_OW_end = omem.analysis.get_lineal_density(state_end, selection=OW_atoms, axis = [0,0,1],\n",
    "                                                       bins = 80, range=\"[-6.0, 6.0] nm\", normalized=True)\n",
    "\n",
    "\n",
    "plt.rcParams[\"figure.figsize\"] = (6,4)\n",
    "plt.plot((bins_edges_P_end[1:]+bins_edges_P_end[:-1])/2, density_P_end)\n",
    "plt.plot((bins_edges_N_end[1:]+bins_edges_N_end[:-1])/2, density_N_end)\n",
    "plt.plot((bins_edges_C_end[1:]+bins_edges_C_end[:-1])/2, density_C_end)\n",
    "plt.plot((bins_edges_OW_end[1:]+bins_edges_OW_end[:-1])/2, density_OW_end)\n",
    "plt.show()"
   ]
  },
  {
   "cell_type": "code",
   "execution_count": null,
   "id": "b67a2df6-cc0d-4933-a532-2ffce6ecc46a",
   "metadata": {},
   "outputs": [],
   "source": [
    "forces = msm.molecular_mechanics.get_forces(context, norm=True)"
   ]
  },
  {
   "cell_type": "code",
   "execution_count": null,
   "id": "8f9d124a-333c-4624-99e8-dddfd8cf0a45",
   "metadata": {},
   "outputs": [],
   "source": [
    "forces"
   ]
  },
  {
   "cell_type": "code",
   "execution_count": null,
   "id": "202c97cf-e76f-4d8d-9192-52c114ee7504",
   "metadata": {},
   "outputs": [],
   "source": [
    "msm.view([molsys, context])"
   ]
  },
  {
   "cell_type": "code",
   "execution_count": null,
   "id": "ecb23357-dd17-49ec-b32c-fecccd36fd4c",
   "metadata": {},
   "outputs": [],
   "source": []
  }
 ],
 "metadata": {
  "kernelspec": {
   "display_name": "Python 3 (ipykernel)",
   "language": "python",
   "name": "python3"
  },
  "language_info": {
   "codemirror_mode": {
    "name": "ipython",
    "version": 3
   },
   "file_extension": ".py",
   "mimetype": "text/x-python",
   "name": "python",
   "nbconvert_exporter": "python",
   "pygments_lexer": "ipython3",
   "version": "3.10.12"
  }
 },
 "nbformat": 4,
 "nbformat_minor": 5
}
