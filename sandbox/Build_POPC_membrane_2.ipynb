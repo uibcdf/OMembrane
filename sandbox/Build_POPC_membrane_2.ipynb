{
 "cells": [
  {
   "cell_type": "code",
   "execution_count": 1,
   "id": "9ddef09c-95d2-4d46-898d-5535600b08de",
   "metadata": {},
   "outputs": [
    {
     "data": {
      "application/vnd.jupyter.widget-view+json": {
       "model_id": "7e81a3b6efba48adb2f396d19ca0d612",
       "version_major": 2,
       "version_minor": 0
      },
      "text/plain": []
     },
     "metadata": {},
     "output_type": "display_data"
    }
   ],
   "source": [
    "import molsysmt as msm\n",
    "from molsysmt import pyunitwizard as puw\n",
    "import omembrane as omem\n",
    "import openmm as mm\n",
    "from openmm import unit as u\n",
    "import numpy as np\n",
    "import math\n",
    "from matplotlib import pyplot as plt\n",
    "from tqdm import tqdm\n",
    "\n",
    "from openmm import LocalEnergyMinimizer"
   ]
  },
  {
   "cell_type": "code",
   "execution_count": 2,
   "id": "da0e7600-4014-424f-a7cf-66c82bc18eb3",
   "metadata": {},
   "outputs": [],
   "source": [
    "molsys = msm.convert('memb_popc_100_stage_1.msmpk')"
   ]
  },
  {
   "cell_type": "code",
   "execution_count": 3,
   "id": "aef0f1e0-a5c3-427d-bfbc-78874fdb23e6",
   "metadata": {},
   "outputs": [
    {
     "data": {
      "text/html": [
       "<style type=\"text/css\">\n",
       "</style>\n",
       "<table id=\"T_7fa70\">\n",
       "  <thead>\n",
       "    <tr>\n",
       "      <th id=\"T_7fa70_level0_col0\" class=\"col_heading level0 col0\" >form</th>\n",
       "      <th id=\"T_7fa70_level0_col1\" class=\"col_heading level0 col1\" >n_atoms</th>\n",
       "      <th id=\"T_7fa70_level0_col2\" class=\"col_heading level0 col2\" >n_groups</th>\n",
       "      <th id=\"T_7fa70_level0_col3\" class=\"col_heading level0 col3\" >n_components</th>\n",
       "      <th id=\"T_7fa70_level0_col4\" class=\"col_heading level0 col4\" >n_chains</th>\n",
       "      <th id=\"T_7fa70_level0_col5\" class=\"col_heading level0 col5\" >n_molecules</th>\n",
       "      <th id=\"T_7fa70_level0_col6\" class=\"col_heading level0 col6\" >n_entities</th>\n",
       "      <th id=\"T_7fa70_level0_col7\" class=\"col_heading level0 col7\" >n_waters</th>\n",
       "      <th id=\"T_7fa70_level0_col8\" class=\"col_heading level0 col8\" >n_lipids</th>\n",
       "      <th id=\"T_7fa70_level0_col9\" class=\"col_heading level0 col9\" >n_structures</th>\n",
       "    </tr>\n",
       "  </thead>\n",
       "  <tbody>\n",
       "    <tr>\n",
       "      <td id=\"T_7fa70_row0_col0\" class=\"data row0 col0\" >molsysmt.MolSys</td>\n",
       "      <td id=\"T_7fa70_row0_col1\" class=\"data row0 col1\" >64243</td>\n",
       "      <td id=\"T_7fa70_row0_col2\" class=\"data row0 col2\" >12681</td>\n",
       "      <td id=\"T_7fa70_row0_col3\" class=\"data row0 col3\" >12681</td>\n",
       "      <td id=\"T_7fa70_row0_col4\" class=\"data row0 col4\" >3</td>\n",
       "      <td id=\"T_7fa70_row0_col5\" class=\"data row0 col5\" >12681</td>\n",
       "      <td id=\"T_7fa70_row0_col6\" class=\"data row0 col6\" >1</td>\n",
       "      <td id=\"T_7fa70_row0_col7\" class=\"data row0 col7\" >12481</td>\n",
       "      <td id=\"T_7fa70_row0_col8\" class=\"data row0 col8\" >200</td>\n",
       "      <td id=\"T_7fa70_row0_col9\" class=\"data row0 col9\" >1</td>\n",
       "    </tr>\n",
       "  </tbody>\n",
       "</table>\n"
      ],
      "text/plain": [
       "<pandas.io.formats.style.Styler at 0x7fd24f4353c0>"
      ]
     },
     "execution_count": 3,
     "metadata": {},
     "output_type": "execute_result"
    }
   ],
   "source": [
    "msm.info(molsys)"
   ]
  },
  {
   "cell_type": "code",
   "execution_count": null,
   "id": "c6b5b35e-3def-423c-8a81-a292d3789744",
   "metadata": {},
   "outputs": [],
   "source": []
  },
  {
   "cell_type": "code",
   "execution_count": null,
   "id": "3f8d6149-0a6e-41c2-8f3f-a21afdf3c881",
   "metadata": {},
   "outputs": [],
   "source": [
    "#msm.view(molsys, with_water_as='licorice')"
   ]
  },
  {
   "cell_type": "code",
   "execution_count": null,
   "id": "b32b513a-4f6e-4c4c-bf3c-5d488c64f221",
   "metadata": {},
   "outputs": [],
   "source": [
    "context = msm.convert(molsys, 'openmm.Context', platform='CUDA')"
   ]
  },
  {
   "cell_type": "code",
   "execution_count": null,
   "id": "0ceb263a-6b80-4383-b760-084b1a2cc75b",
   "metadata": {},
   "outputs": [],
   "source": [
    "state_init = context.getState(getPositions=True)"
   ]
  },
  {
   "cell_type": "code",
   "execution_count": null,
   "id": "0f6e37d8-1fef-47c7-b86d-232ad32920f8",
   "metadata": {},
   "outputs": [],
   "source": [
    "msm.molecular_mechanics.get_potential_energy(context)"
   ]
  },
  {
   "cell_type": "code",
   "execution_count": null,
   "id": "4e3044ab-3c1a-4049-88d4-530cbbfb72fb",
   "metadata": {},
   "outputs": [],
   "source": [
    "LocalEnergyMinimizer.minimize(context)"
   ]
  },
  {
   "cell_type": "code",
   "execution_count": null,
   "id": "0f35bc54-44d6-4835-9eca-99e747937e3e",
   "metadata": {},
   "outputs": [],
   "source": [
    "msm.molecular_mechanics.get_potential_energy(context)"
   ]
  },
  {
   "cell_type": "code",
   "execution_count": null,
   "id": "6d92a593-45e8-4450-bb1d-c12d61f44ec1",
   "metadata": {},
   "outputs": [],
   "source": [
    "state_end = context.getState(getPositions=True)"
   ]
  },
  {
   "cell_type": "code",
   "execution_count": null,
   "id": "cb2c27b0-731a-4fc5-9d72-34b6b78495ce",
   "metadata": {},
   "outputs": [],
   "source": []
  },
  {
   "cell_type": "code",
   "execution_count": null,
   "id": "b67a2df6-cc0d-4933-a532-2ffce6ecc46a",
   "metadata": {},
   "outputs": [],
   "source": [
    "forces = msm.molecular_mechanics.get_forces(context, norm=True)"
   ]
  },
  {
   "cell_type": "code",
   "execution_count": null,
   "id": "8f9d124a-333c-4624-99e8-dddfd8cf0a45",
   "metadata": {},
   "outputs": [],
   "source": [
    "forces"
   ]
  },
  {
   "cell_type": "code",
   "execution_count": null,
   "id": "202c97cf-e76f-4d8d-9192-52c114ee7504",
   "metadata": {},
   "outputs": [],
   "source": [
    "msm.view([molsys, context])"
   ]
  },
  {
   "cell_type": "code",
   "execution_count": null,
   "id": "ecb23357-dd17-49ec-b32c-fecccd36fd4c",
   "metadata": {},
   "outputs": [],
   "source": []
  }
 ],
 "metadata": {
  "kernelspec": {
   "display_name": "Python 3 (ipykernel)",
   "language": "python",
   "name": "python3"
  },
  "language_info": {
   "codemirror_mode": {
    "name": "ipython",
    "version": 3
   },
   "file_extension": ".py",
   "mimetype": "text/x-python",
   "name": "python",
   "nbconvert_exporter": "python",
   "pygments_lexer": "ipython3",
   "version": "3.10.12"
  }
 },
 "nbformat": 4,
 "nbformat_minor": 5
}
