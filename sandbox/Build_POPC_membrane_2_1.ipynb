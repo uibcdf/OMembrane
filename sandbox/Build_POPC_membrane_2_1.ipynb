{
 "cells": [
  {
   "cell_type": "code",
   "execution_count": 1,
   "id": "9ddef09c-95d2-4d46-898d-5535600b08de",
   "metadata": {},
   "outputs": [
    {
     "data": {
      "application/vnd.jupyter.widget-view+json": {
       "model_id": "7f299418d53943318d6ddfb26b663203",
       "version_major": 2,
       "version_minor": 0
      },
      "text/plain": []
     },
     "metadata": {},
     "output_type": "display_data"
    }
   ],
   "source": [
    "import molsysmt as msm\n",
    "from molsysmt import pyunitwizard as puw\n",
    "import omembrane as omem\n",
    "import openmm as mm\n",
    "from openmm import unit as u\n",
    "import numpy as np\n",
    "import math\n",
    "from matplotlib import pyplot as plt\n",
    "from tqdm import tqdm\n",
    "\n",
    "from openmm import LocalEnergyMinimizer"
   ]
  },
  {
   "cell_type": "code",
   "execution_count": 2,
   "id": "da0e7600-4014-424f-a7cf-66c82bc18eb3",
   "metadata": {},
   "outputs": [],
   "source": [
    "molsys = msm.convert('memb_popc_100_stage_1.msmpk')"
   ]
  },
  {
   "cell_type": "code",
   "execution_count": 3,
   "id": "b6e0e024-adb6-412e-aeaf-a889ba679426",
   "metadata": {},
   "outputs": [],
   "source": [
    "no_water_atoms = msm.select(molsys, selection='molecule_type!=\"water\"')\n",
    "P_atoms = msm.select(molsys, selection='atom_type==\"P\" and molecule_type==\"lipid\"')\n",
    "N_atoms = msm.select(molsys, selection='atom_type==\"N\" and molecule_type==\"lipid\"')\n",
    "C_atoms = msm.select(molsys, selection='atom_type==\"C\" and molecule_type==\"lipid\"')\n",
    "OW_atoms = msm.select(molsys, selection='atom_type==\"O\" and molecule_type==\"water\"')"
   ]
  },
  {
   "cell_type": "code",
   "execution_count": 4,
   "id": "922fb420-eafa-469b-bf8a-21d5e93c29cd",
   "metadata": {},
   "outputs": [],
   "source": [
    "context = msm.convert(molsys, 'openmm.Context', platform='CUDA')"
   ]
  },
  {
   "cell_type": "code",
   "execution_count": 5,
   "id": "7cbedebb-93de-40b9-8b66-b171c69073f2",
   "metadata": {},
   "outputs": [
    {
     "data": {
      "text/plain": [
       "5"
      ]
     },
     "execution_count": 5,
     "metadata": {},
     "output_type": "execute_result"
    }
   ],
   "source": [
    "msm.thirds.openmm.forces.harmonic_potential_to_coordinates(context, selection=no_water_atoms,\n",
    "                                                          force_constant=1000.0*u.kilojoules_per_mole/(u.nanometer**2),\n",
    "                                                          pbc=True, adding_force=True)"
   ]
  },
  {
   "cell_type": "code",
   "execution_count": 6,
   "id": "55fd293a-ee2c-4a7f-be90-6719b6dee497",
   "metadata": {},
   "outputs": [],
   "source": [
    "state_init = context.getState(getPositions=True)"
   ]
  },
  {
   "cell_type": "code",
   "execution_count": 7,
   "id": "c349397c-d349-495c-82cc-6e3c30125b91",
   "metadata": {},
   "outputs": [
    {
     "data": {
      "text/html": [
       "1.8142518882006257×10<sup>21</sup> kilojoule/mole"
      ],
      "text/latex": [
       "$1.8142518882006257\\times 10^{21}\\ \\frac{\\mathrm{kilojoule}}{\\mathrm{mole}}$"
      ],
      "text/plain": [
       "1.8142518882006257e+21 <Unit('kilojoule / mole')>"
      ]
     },
     "execution_count": 7,
     "metadata": {},
     "output_type": "execute_result"
    }
   ],
   "source": [
    "msm.molecular_mechanics.get_potential_energy(context)"
   ]
  },
  {
   "cell_type": "code",
   "execution_count": null,
   "id": "39654dcd-b304-45e9-b6c3-094547e07ef8",
   "metadata": {},
   "outputs": [],
   "source": [
    "LocalEnergyMinimizer.minimize(context)"
   ]
  },
  {
   "cell_type": "code",
   "execution_count": null,
   "id": "05c9d2f5-6a12-4108-9fcf-c98de073d93d",
   "metadata": {},
   "outputs": [],
   "source": [
    "msm.molecular_mechanics.get_potential_energy(context)"
   ]
  },
  {
   "cell_type": "code",
   "execution_count": null,
   "id": "6846cfbe-b116-413b-b54e-87363b6cf68a",
   "metadata": {},
   "outputs": [],
   "source": [
    "state_end = context.getState(getPositions=True)"
   ]
  },
  {
   "cell_type": "code",
   "execution_count": null,
   "id": "5c1178e7-326f-4d91-bdd9-322bd299d87e",
   "metadata": {},
   "outputs": [],
   "source": []
  },
  {
   "cell_type": "code",
   "execution_count": null,
   "id": "3004cab8-4425-4156-be37-67b3bd3f0981",
   "metadata": {},
   "outputs": [],
   "source": []
  },
  {
   "cell_type": "code",
   "execution_count": null,
   "id": "c6b5b35e-3def-423c-8a81-a292d3789744",
   "metadata": {},
   "outputs": [],
   "source": [
    "bins_edges_P_init, density_P_init = omem.analysis.get_lineal_density(state_init, selection = P_atoms, axis = [0,0,1],\n",
    "                                                       bins = 80, range=\"[-6.0, 6.0] nm\", normalized=True)\n",
    "bins_edges_N_init, density_N_init = omem.analysis.get_lineal_density(state_init, selection = N_atoms, axis = [0,0,1],\n",
    "                                                       bins = 80, range=\"[-6.0, 6.0] nm\", normalized=True)\n",
    "bins_edges_C_init, density_C_init = omem.analysis.get_lineal_density(state_init, selection = C_atoms, axis = [0,0,1],\n",
    "                                                       bins = 80, range=\"[-6.0, 6.0] nm\", normalized=True)\n",
    "\n",
    "bins_edges_OW_init, density_OW_init = omem.analysis.get_lineal_density(state_init, selection=OW_atoms, axis = [0,0,1],\n",
    "                                                       bins = 80, range=\"[-6.0, 6.0] nm\", normalized=True)\n",
    "\n",
    "\n",
    "plt.rcParams[\"figure.figsize\"] = (6,4)\n",
    "plt.plot((bins_edges_P_init[1:]+bins_edges_P_init[:-1])/2, density_P_init)\n",
    "plt.plot((bins_edges_N_init[1:]+bins_edges_N_init[:-1])/2, density_N_init)\n",
    "plt.plot((bins_edges_C_init[1:]+bins_edges_C_init[:-1])/2, density_C_init)\n",
    "plt.plot((bins_edges_OW_init[1:]+bins_edges_OW_init[:-1])/2, density_OW_init)\n",
    "plt.show()"
   ]
  },
  {
   "cell_type": "code",
   "execution_count": null,
   "id": "3a2fbdb8-dbad-4573-bfd5-e4af1e25ced3",
   "metadata": {},
   "outputs": [],
   "source": [
    "bins_edges_P_end, density_P_end = omem.analysis.get_lineal_density(state_end, selection = P_atoms, axis = [0,0,1],\n",
    "                                                       bins = 80, range=\"[-6.0, 6.0] nm\", normalized=True)\n",
    "bins_edges_N_end, density_N_end = omem.analysis.get_lineal_density(state_end, selection = N_atoms, axis = [0,0,1],\n",
    "                                                       bins = 80, range=\"[-6.0, 6.0] nm\", normalized=True)\n",
    "bins_edges_C_end, density_C_end = omem.analysis.get_lineal_density(state_end, selection = C_atoms, axis = [0,0,1],\n",
    "                                                       bins = 80, range=\"[-6.0, 6.0] nm\", normalized=True)\n",
    "\n",
    "bins_edges_OW_end, density_OW_end = omem.analysis.get_lineal_density(state_end, selection=OW_atoms, axis = [0,0,1],\n",
    "                                                       bins = 80, range=\"[-6.0, 6.0] nm\", normalized=True)\n",
    "\n",
    "\n",
    "plt.rcParams[\"figure.figsize\"] = (6,4)\n",
    "plt.plot((bins_edges_P_end[1:]+bins_edges_P_end[:-1])/2, density_P_end)\n",
    "plt.plot((bins_edges_N_end[1:]+bins_edges_N_end[:-1])/2, density_N_end)\n",
    "plt.plot((bins_edges_C_end[1:]+bins_edges_C_end[:-1])/2, density_C_end)\n",
    "plt.plot((bins_edges_OW_end[1:]+bins_edges_OW_end[:-1])/2, density_OW_end)\n",
    "plt.show()"
   ]
  },
  {
   "cell_type": "code",
   "execution_count": null,
   "id": "cb2c27b0-731a-4fc5-9d72-34b6b78495ce",
   "metadata": {},
   "outputs": [],
   "source": [
    "shifts_P = msm.structure.get_distances(molecular_system=state_init, molecular_system_2=state_end,\n",
    "                                       selection=P_atoms, pairs=True, pbc=True)\n",
    "shifts_N = msm.structure.get_distances(molecular_system=state_init, molecular_system_2=state_end,\n",
    "                                       selection=N_atoms, pairs=True, pbc=True)\n",
    "shifts_C = msm.structure.get_distances(molecular_system=state_init, molecular_system_2=state_end,\n",
    "                                       selection=C_atoms, pairs=True, pbc=True)\n",
    "shifts_OW = msm.structure.get_distances(molecular_system=state_init, molecular_system_2=state_end,\n",
    "                                       selection=OW_atoms, pairs=True, pbc=True)"
   ]
  },
  {
   "cell_type": "code",
   "execution_count": null,
   "id": "aa282a45-4f18-4d28-b2ee-d1c3c5c984b1",
   "metadata": {},
   "outputs": [],
   "source": [
    "h_P, bins = np.histogram(puw.get_value(shifts_P[0]), range=[0.0, 1.0], bins=20, density=True)\n",
    "h_N, bins = np.histogram(puw.get_value(shifts_N[0]), range=[0.0, 1.0], bins=20, density=True)\n",
    "h_C, bins = np.histogram(puw.get_value(shifts_C[0]), range=[0.0, 1.0], bins=20, density=True)\n",
    "h_OW, bins = np.histogram(puw.get_value(shifts_OW[0]), range=[0.0, 1.0], bins=20, density=True)\n",
    "plt.plot(0.5*(bins[1:]+bins[:-1]), h_P)\n",
    "plt.plot(0.5*(bins[1:]+bins[:-1]), h_N)\n",
    "plt.plot(0.5*(bins[1:]+bins[:-1]), h_C)\n",
    "plt.plot(0.5*(bins[1:]+bins[:-1]), h_OW)\n",
    "plt.show()"
   ]
  },
  {
   "cell_type": "code",
   "execution_count": null,
   "id": "b67a2df6-cc0d-4933-a532-2ffce6ecc46a",
   "metadata": {},
   "outputs": [],
   "source": [
    "forces = msm.molecular_mechanics.get_forces(context, norm=True)"
   ]
  },
  {
   "cell_type": "code",
   "execution_count": null,
   "id": "013d81eb-8751-43ec-9592-9025a990a137",
   "metadata": {},
   "outputs": [],
   "source": [
    "h, bins = np.histogram(puw.get_value(forces), bins=100, density=True)\n",
    "plt.plot(0.5*(bins[1:]+bins[:-1]), h)\n",
    "plt.show()"
   ]
  },
  {
   "cell_type": "code",
   "execution_count": null,
   "id": "a6ef2219-ee2c-4869-8a33-1ccfa66aa012",
   "metadata": {},
   "outputs": [],
   "source": [
    "#memb_antes = msm.extract(molsys, selection='molecule_type==\"lipid\"', to_form='molsysmt.MolSys')\n",
    "#memb_despues = msm.extract([molsys, context], selection='molecule_type==\"lipid\"', to_form='molsysmt.MolSys')"
   ]
  },
  {
   "cell_type": "code",
   "execution_count": null,
   "id": "6496db70-cd39-4270-92e6-301187708ed4",
   "metadata": {},
   "outputs": [],
   "source": [
    "#msm.view(memb_antes)"
   ]
  },
  {
   "cell_type": "code",
   "execution_count": null,
   "id": "2bf5aa39-2055-4f46-91ff-8d9c22719d0a",
   "metadata": {},
   "outputs": [],
   "source": [
    "#msm.view(memb_despues)"
   ]
  },
  {
   "cell_type": "code",
   "execution_count": null,
   "id": "ecb23357-dd17-49ec-b32c-fecccd36fd4c",
   "metadata": {},
   "outputs": [],
   "source": [
    "coordinates = msm.get(state_end, coordinates=True)\n",
    "msm.set(molsys, coordinates=coordinates)"
   ]
  },
  {
   "cell_type": "code",
   "execution_count": null,
   "id": "17b04bb2-aea6-4697-af77-9c5f39dc2432",
   "metadata": {},
   "outputs": [],
   "source": [
    "msm.convert(molsys, 'memb_popc_100_stage_2_1.msmpk')"
   ]
  },
  {
   "cell_type": "code",
   "execution_count": null,
   "id": "34290489-98f2-4f10-8bf3-6ca1166c5d4f",
   "metadata": {},
   "outputs": [],
   "source": []
  }
 ],
 "metadata": {
  "kernelspec": {
   "display_name": "Python 3 (ipykernel)",
   "language": "python",
   "name": "python3"
  },
  "language_info": {
   "codemirror_mode": {
    "name": "ipython",
    "version": 3
   },
   "file_extension": ".py",
   "mimetype": "text/x-python",
   "name": "python",
   "nbconvert_exporter": "python",
   "pygments_lexer": "ipython3",
   "version": "3.10.12"
  }
 },
 "nbformat": 4,
 "nbformat_minor": 5
}
